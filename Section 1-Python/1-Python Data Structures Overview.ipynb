{
 "cells": [
  {
   "cell_type": "markdown",
   "id": "0d666404",
   "metadata": {},
   "source": [
    "# Python Data Structures Overview"
   ]
  },
  {
   "cell_type": "markdown",
   "id": "75b1b9e8",
   "metadata": {},
   "source": [
    "Python has several built-in data types and data structures that help organize, store, and manipulate data efficiently.\n",
    "\n",
    "We'll explore:\n",
    "\n",
    "1. Numbers (int, float, complex)\n",
    "2. Arithmetic operations\n",
    "3. Boolean comparisons\n",
    "4. Strings and common string operations\n",
    "5. Dictionaries\n",
    "6. Tuples\n",
    "7. Lists\n",
    "8. Sets\n",
    "9. Arrays (NumPy)\n",
    "10. DataFrames (Pandas)\n",
    "\n",
    "Each of these serves a specific purpose in writing effective Python programs."
   ]
  },
  {
   "cell_type": "markdown",
   "id": "9362227b",
   "metadata": {},
   "source": [
    "## 1. Numbers\n",
    "Python supports different numeric types like:\n",
    "- **Integers (`int`)**: Whole numbers\n",
    "- **Floats (`float`)**: Decimal numbers\n",
    "- **Complex (`complex`)**: Numbers with a real and imaginary part"
   ]
  },
  {
   "cell_type": "code",
   "execution_count": 2,
   "id": "5babba90",
   "metadata": {},
   "outputs": [
    {
     "name": "stdout",
     "output_type": "stream",
     "text": [
      "Integer: <class 'int'>\n",
      "Memory (int): 28 bytes\n",
      "Float: <class 'float'>\n",
      "Memory (float): 24 bytes\n",
      "Complex: <class 'complex'>\n",
      "Memory (complex): 32 bytes\n"
     ]
    }
   ],
   "source": [
    "# Importing sys to check memory size\n",
    "import sys\n",
    "\n",
    "# Integer\n",
    "int_value = 2\n",
    "print(\"Integer:\", type(int_value))\n",
    "print(\"Memory (int):\", sys.getsizeof(int_value), \"bytes\")\n",
    "\n",
    "# Float\n",
    "float_value = 2.3\n",
    "print(\"Float:\", type(float_value))\n",
    "print(\"Memory (float):\", sys.getsizeof(float_value), \"bytes\")\n",
    "\n",
    "# Complex\n",
    "complex_value = 2j + 1\n",
    "print(\"Complex:\", type(complex_value))\n",
    "print(\"Memory (complex):\", sys.getsizeof(complex_value), \"bytes\")\n"
   ]
  },
  {
   "cell_type": "markdown",
   "id": "675c9ac1",
   "metadata": {},
   "source": [
    "## 2. Arithmetic Operations\n",
    "\n",
    "Python supports all basic math operations. Here are some examples:"
   ]
  },
  {
   "cell_type": "code",
   "execution_count": 3,
   "id": "b89e9c5c",
   "metadata": {},
   "outputs": [
    {
     "name": "stdout",
     "output_type": "stream",
     "text": [
      "Exponentiation: 125\n",
      "Modulus (Remainder): 4\n",
      "Integer Division: 1\n",
      "Multiplication: 25\n",
      "Division: 2.5\n",
      "Subtraction: 3\n",
      "Addition: 7\n"
     ]
    }
   ],
   "source": [
    "print(\"Exponentiation:\", 5 ** 3)        # 125\n",
    "print(\"Modulus (Remainder):\", 52 % 8)   # 4\n",
    "print(\"Integer Division:\", 11 // 8)     # 1\n",
    "print(\"Multiplication:\", 5 * 5)         # 25\n",
    "print(\"Division:\", 5 / 2)               # 2.5\n",
    "print(\"Subtraction:\", 5 - 2)            # 3\n",
    "print(\"Addition:\", 5 + 2)               # 7"
   ]
  },
  {
   "cell_type": "markdown",
   "id": "92acf3a6",
   "metadata": {},
   "source": [
    "## 3. Boolean Logic\n",
    "\n",
    "Booleans help compare values using operators like `==`, `!=`, `>`, `<`, etc.\n"
   ]
  },
  {
   "cell_type": "code",
   "execution_count": 4,
   "id": "65750f8f",
   "metadata": {},
   "outputs": [
    {
     "name": "stdout",
     "output_type": "stream",
     "text": [
      "x == y: False\n",
      "x != y: True\n",
      "x > y: False\n",
      "x >= y: False\n",
      "x < y: True\n",
      "x <= y: True\n",
      "Bitwise AND: True\n",
      "Bitwise OR: False\n",
      "Identity Check: False\n",
      "Negated Identity: True\n"
     ]
    }
   ],
   "source": [
    "x = 2\n",
    "y = 3\n",
    "\n",
    "print(\"x == y:\", x == y)\n",
    "print(\"x != y:\", x != y)\n",
    "print(\"x > y:\", x > y)\n",
    "print(\"x >= y:\", x >= y)\n",
    "print(\"x < y:\", x < y)\n",
    "print(\"x <= y:\", x <= y)\n",
    "print(\"Bitwise AND:\", (x > 1) & (y < 5))\n",
    "print(\"Bitwise OR:\", (x > 3) | (y > 5))\n",
    "print(\"Identity Check:\", x is y)\n",
    "print(\"Negated Identity:\", x is not y)"
   ]
  },
  {
   "cell_type": "markdown",
   "id": "c8e46716",
   "metadata": {},
   "source": [
    "## 4. Strings\n",
    "\n",
    "Strings are text data. They support indexing, slicing, and many useful methods.\n"
   ]
  },
  {
   "cell_type": "code",
   "execution_count": 5,
   "id": "9efab371",
   "metadata": {},
   "outputs": [
    {
     "name": "stdout",
     "output_type": "stream",
     "text": [
      "Type: <class 'str'>\n",
      "Memory: 61 bytes\n",
      "Multiline Type: <class 'str'>\n",
      "Memory: 79 bytes\n"
     ]
    }
   ],
   "source": [
    "txt1 = \"Hello World!\"\n",
    "txt2 = \"Hello Universe!\"\n",
    "\n",
    "print(\"Type:\", type(txt1))\n",
    "print(\"Memory:\", sys.getsizeof(txt1), \"bytes\")\n",
    "\n",
    "# Multiline string\n",
    "long_txt = \"\"\"\n",
    "Hello World!\n",
    "Hello Universe!\n",
    "\"\"\"\n",
    "print(\"Multiline Type:\", type(long_txt))\n",
    "print(\"Memory:\", sys.getsizeof(long_txt), \"bytes\")\n"
   ]
  },
  {
   "cell_type": "markdown",
   "id": "139f88a4",
   "metadata": {},
   "source": [
    "### 4.1 Indexing & Slicing"
   ]
  },
  {
   "cell_type": "code",
   "execution_count": 6,
   "id": "ea1f586f",
   "metadata": {},
   "outputs": [
    {
     "name": "stdout",
     "output_type": "stream",
     "text": [
      "H\n",
      "!\n",
      "ello \n",
      "ello World!\n",
      "Hello \n",
      "el \n",
      "d!\n",
      "Hello Worl\n"
     ]
    }
   ],
   "source": [
    "start = 1\n",
    "end = 6\n",
    "step = 2\n",
    "\n",
    "print(txt1[0])                # First character\n",
    "print(txt1[-1])               # Last character\n",
    "print(txt1[start:end])        # Substring\n",
    "print(txt1[start:])           # From index to end\n",
    "print(txt1[:end])             # From start to index\n",
    "print(txt1[start:end:step])   # Skipping characters\n",
    "print(txt1[-2:])              # Last 2 characters\n",
    "print(txt1[:-2])              # All but last 2\n"
   ]
  },
  {
   "cell_type": "markdown",
   "id": "3e7f6890",
   "metadata": {},
   "source": [
    "### 4.2 Common String Methods"
   ]
  },
  {
   "cell_type": "code",
   "execution_count": 7,
   "id": "afafcacc",
   "metadata": {},
   "outputs": [
    {
     "name": "stdout",
     "output_type": "stream",
     "text": [
      "Length: 12\n",
      "Uppercase: HELLO WORLD!\n",
      "Lowercase: hello world!\n",
      "Replace: Hello Galaxy!\n",
      "Strip: Hello World!\n",
      "Capitalize: Hello world!\n"
     ]
    }
   ],
   "source": [
    "print(\"Length:\", len(txt1))\n",
    "print(\"Uppercase:\", txt1.upper())\n",
    "print(\"Lowercase:\", txt1.lower())\n",
    "print(\"Replace:\", txt1.replace(\"World\", \"Galaxy\"))\n",
    "print(\"Strip:\", \" Hello World! \".strip())\n",
    "print(\"Capitalize:\", \"hello world!\".capitalize())"
   ]
  },
  {
   "cell_type": "markdown",
   "id": "062c8164",
   "metadata": {},
   "source": [
    "## 5. Dictionary\n",
    "\n",
    "Dictionaries store data in key-value pairs. They are mutable and unordered.\n"
   ]
  },
  {
   "cell_type": "code",
   "execution_count": 8,
   "id": "5ed892ef",
   "metadata": {},
   "outputs": [
    {
     "name": "stdout",
     "output_type": "stream",
     "text": [
      "Adam\n",
      "20\n",
      "Keys: dict_keys(['name', 'age'])\n",
      "Values: dict_values(['Adam', 23])\n",
      "Items: dict_items([('name', 'Adam'), ('age', 23)])\n"
     ]
    }
   ],
   "source": [
    "test_dict = dict(name=\"Adam\", age=23)\n",
    "test_dict2 = {\"name\": \"Matt\", \"age\": 20}\n",
    "\n",
    "print(test_dict[\"name\"])\n",
    "print(test_dict2[\"age\"])\n",
    "print(\"Keys:\", test_dict.keys())\n",
    "print(\"Values:\", test_dict.values())\n",
    "print(\"Items:\", test_dict.items())\n"
   ]
  },
  {
   "cell_type": "markdown",
   "id": "0bbfe2a8",
   "metadata": {},
   "source": [
    "## 6. Tuple\n",
    "\n",
    "Tuples are ordered but immutable collections of items.\n"
   ]
  },
  {
   "cell_type": "code",
   "execution_count": 9,
   "id": "4d4889dc",
   "metadata": {},
   "outputs": [
    {
     "name": "stdout",
     "output_type": "stream",
     "text": [
      "('abc', array([3. , 3.2, 3.4, 3.6, 3.8, 4. , 4.2, 4.4, 4.6, 4.8]), 2.5)\n",
      "First element: abc\n",
      "Slice: (array([3. , 3.2, 3.4, 3.6, 3.8, 4. , 4.2, 4.4, 4.6, 4.8]), 2.5)\n",
      "Length: 3\n"
     ]
    }
   ],
   "source": [
    "import numpy as np\n",
    "\n",
    "test_tuple = (\"abc\", np.arange(3, 5, 0.2), 2.5)\n",
    "\n",
    "print(test_tuple)\n",
    "print(\"First element:\", test_tuple[0])\n",
    "print(\"Slice:\", test_tuple[1:3])\n",
    "print(\"Length:\", len(test_tuple))\n"
   ]
  },
  {
   "cell_type": "markdown",
   "id": "5bbfaa75",
   "metadata": {},
   "source": [
    "## 7. List\n",
    "\n",
    "Lists are ordered and mutable. They allow duplicates and dynamic sizing.\n"
   ]
  },
  {
   "cell_type": "code",
   "execution_count": 10,
   "id": "d3eb39e0",
   "metadata": {},
   "outputs": [
    {
     "name": "stdout",
     "output_type": "stream",
     "text": [
      "['abc', 'xyz', 'klm']\n",
      "Appended: ['abc', 'xyz', 'klm', 'test']\n",
      "Second list: ['testlist2']\n",
      "Concatenated: ['abc', 'xyz', 'klm', 'test', 'testlist2']\n",
      "After removal: ['abc', 'xyz', 'klm']\n",
      "Sorted: [1, 2, 3, 5, 6, 7, 9]\n",
      "Inserted: ['testlist2', False]\n",
      "After pop: [1, 2, 3, 5, 6, 7]\n"
     ]
    }
   ],
   "source": [
    "test_list = [\"abc\", \"xyz\", \"klm\"]\n",
    "print(test_list)\n",
    "\n",
    "test_list.append(\"test\")\n",
    "print(\"Appended:\", test_list)\n",
    "\n",
    "test_list2 = [\"testlist2\"]\n",
    "print(\"Second list:\", test_list2)\n",
    "\n",
    "print(\"Concatenated:\", test_list + test_list2)\n",
    "\n",
    "test_list.remove(\"test\")\n",
    "print(\"After removal:\", test_list)\n",
    "\n",
    "numbers = [3, 1, 5, 2, 9, 6, 7]\n",
    "numbers.sort()\n",
    "print(\"Sorted:\", numbers)\n",
    "\n",
    "test_list2.insert(1, False)\n",
    "print(\"Inserted:\", test_list2)\n",
    "\n",
    "numbers.pop()\n",
    "print(\"After pop:\", numbers)\n"
   ]
  },
  {
   "cell_type": "markdown",
   "id": "3b84bb54",
   "metadata": {},
   "source": [
    "## 8. Set\n",
    "\n",
    "Sets are unordered collections of unique items.\n"
   ]
  },
  {
   "cell_type": "code",
   "execution_count": 11,
   "id": "43c4cea2",
   "metadata": {},
   "outputs": [
    {
     "name": "stdout",
     "output_type": "stream",
     "text": [
      "Difference: {1, 2}\n",
      "Symmetric Difference: {1, 2, 4, 5, 6}\n",
      "Intersection: {3}\n",
      "Union: {1, 2, 3, 4, 5, 6}\n",
      "Disjoint?: False\n",
      "Subset?: False\n",
      "Superset?: False\n"
     ]
    }
   ],
   "source": [
    "set_1 = {1, 2, 2, 3, 3, 3}\n",
    "set_2 = set([3, 4, 4, 5, 5, 5, 6])\n",
    "\n",
    "print(\"Difference:\", set_1.difference(set_2))\n",
    "print(\"Symmetric Difference:\", set_1.symmetric_difference(set_2))\n",
    "print(\"Intersection:\", set_1.intersection(set_2))\n",
    "print(\"Union:\", set_1.union(set_2))\n",
    "print(\"Disjoint?:\", set_1.isdisjoint(set_2))\n",
    "print(\"Subset?:\", set_1.issubset(set_2))\n",
    "print(\"Superset?:\", set_1.issuperset(set_2))\n"
   ]
  },
  {
   "cell_type": "markdown",
   "id": "6429b611",
   "metadata": {},
   "source": [
    "## 9. NumPy Array\n",
    "\n",
    "Arrays are fixed-size data containers for numeric operations. Use NumPy for performance.\n"
   ]
  },
  {
   "cell_type": "code",
   "execution_count": 12,
   "id": "7fb2fb39",
   "metadata": {},
   "outputs": [
    {
     "name": "stdout",
     "output_type": "stream",
     "text": [
      "Element-wise addition: [1 5 9]\n"
     ]
    }
   ],
   "source": [
    "test_array = np.array([0, 2, 4])\n",
    "test_array2 = np.array([1, 3, 5])\n",
    "\n",
    "print(\"Element-wise addition:\", test_array + test_array2)\n"
   ]
  },
  {
   "cell_type": "markdown",
   "id": "35baf0fa",
   "metadata": {},
   "source": [
    "## 10. DataFrame (Pandas)\n",
    "\n",
    "DataFrames are tabular structures for labeled data, useful in data analysis.\n"
   ]
  },
  {
   "cell_type": "code",
   "execution_count": 13,
   "id": "7d3085b5",
   "metadata": {},
   "outputs": [
    {
     "name": "stdout",
     "output_type": "stream",
     "text": [
      "   calories  duration\n",
      "0       420        50\n",
      "1       380        40\n",
      "2       390        45\n"
     ]
    }
   ],
   "source": [
    "import pandas as pd\n",
    "\n",
    "data = {\n",
    "    \"calories\": [420, 380, 390],\n",
    "    \"duration\": [50, 40, 45]\n",
    "}\n",
    "\n",
    "df = pd.DataFrame(data)\n",
    "print(df.head())"
   ]
  }
 ],
 "metadata": {
  "kernelspec": {
   "display_name": "ai",
   "language": "python",
   "name": "python3"
  },
  "language_info": {
   "codemirror_mode": {
    "name": "ipython",
    "version": 3
   },
   "file_extension": ".py",
   "mimetype": "text/x-python",
   "name": "python",
   "nbconvert_exporter": "python",
   "pygments_lexer": "ipython3",
   "version": "3.9.21"
  }
 },
 "nbformat": 4,
 "nbformat_minor": 5
}
