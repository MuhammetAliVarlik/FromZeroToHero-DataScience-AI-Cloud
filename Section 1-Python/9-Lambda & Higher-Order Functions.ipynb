{
 "cells": [
  {
   "cell_type": "markdown",
   "id": "1e45ed53",
   "metadata": {},
   "source": [
    "# Higher-Order Functions and Lambdas in Python"
   ]
  },
  {
   "cell_type": "markdown",
   "id": "4136a4af",
   "metadata": {},
   "source": [
    "A higher-order function is a function that can take other functions as arguments or return functions as results.  \n",
    "This allows for more flexible and reusable code.  \n",
    "\n",
    "Lambda functions are small, anonymous functions defined in a single line. They are useful for quick, simple tasks without formally defining a full function.  \n",
    "\n",
    "In this example, we create a higher-order function that takes any function and a list, then applies the function to every item in the list.  \n",
    "We use lambda functions to square numbers and to check if numbers are even."
   ]
  },
  {
   "cell_type": "code",
   "execution_count": null,
   "id": "5bc29cc4",
   "metadata": {},
   "outputs": [
    {
     "name": "stdout",
     "output_type": "stream",
     "text": [
      "Squared numbers: [1, 4, 9, 16, 25]\n",
      "Is even: [False, True, False, True, False]\n"
     ]
    }
   ],
   "source": [
    "# Define a higher-order function that applies a given function to each element in a list\n",
    "def apply_function(operation, values):\n",
    "    # Use list comprehension to apply 'operation' on each item in 'values'\n",
    "    return [operation(value) for value in values]\n",
    "\n",
    "# Lambda function to square a number\n",
    "square_number = lambda num: num ** 2\n",
    "\n",
    "# Lambda function to check if a number is even\n",
    "check_even = lambda num: num % 2 == 0\n",
    "\n",
    "# Sample list of numbers\n",
    "sample_numbers = [1, 2, 3, 4, 5]\n",
    "\n",
    "# Apply the square function to each number\n",
    "squared_list = apply_function(square_number, sample_numbers)\n",
    "print(\"Squared numbers:\", squared_list)\n",
    "\n",
    "# Apply the even-check function to each number\n",
    "even_status_list = apply_function(check_even, sample_numbers)\n",
    "print(\"Is even:\", even_status_list)\n"
   ]
  },
  {
   "cell_type": "markdown",
   "id": "72527d09",
   "metadata": {},
   "source": [
    "Think of a factory assembly line where you can attach different machines (functions) that perform specific tasks on products (list items).  \n",
    "The higher-order function is like the conveyor belt that moves each product past a machine.  \n",
    "You can change the machine to paint, inspect, or package without changing the conveyor itself.  \n",
    "Here, lambdas are quick little machines built on the fly to perform specific jobs, like squaring a number or checking if it's even."
   ]
  }
 ],
 "metadata": {
  "kernelspec": {
   "display_name": "ai",
   "language": "python",
   "name": "python3"
  },
  "language_info": {
   "codemirror_mode": {
    "name": "ipython",
    "version": 3
   },
   "file_extension": ".py",
   "mimetype": "text/x-python",
   "name": "python",
   "nbconvert_exporter": "python",
   "pygments_lexer": "ipython3",
   "version": "3.9.21"
  }
 },
 "nbformat": 4,
 "nbformat_minor": 5
}
