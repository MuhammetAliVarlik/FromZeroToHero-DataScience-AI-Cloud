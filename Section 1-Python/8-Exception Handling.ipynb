{
 "cells": [
  {
   "cell_type": "markdown",
   "id": "b0b24473",
   "metadata": {},
   "source": [
    "# Handling Errors with try-except in Python"
   ]
  },
  {
   "cell_type": "markdown",
   "id": "01593d65",
   "metadata": {},
   "source": [
    "When running programs, sometimes errors happen — like dividing by zero or typing letters instead of numbers.  \n",
    "Python uses `try-except` blocks to catch these errors and handle them gracefully without crashing the program.  \n",
    "\n",
    "The `try` block contains code that might cause an error. If an error occurs, Python looks for a matching `except` block to run.  \n",
    "You can catch specific errors like `ZeroDivisionError` or `ValueError`, and even a general catch-all with `Exception`.  \n",
    "\n",
    "Additionally, the `else` block runs only if no error occurred, and the `finally` block runs no matter what, making it great for cleanup actions."
   ]
  },
  {
   "cell_type": "code",
   "execution_count": 1,
   "id": "282061db",
   "metadata": {},
   "outputs": [
    {
     "name": "stdout",
     "output_type": "stream",
     "text": [
      "Error: You cannot divide by zero!\n",
      "Program ended.\n"
     ]
    }
   ],
   "source": [
    "# This code asks the user for a number and divides 100 by it.\n",
    "# It handles errors such as division by zero and invalid input.\n",
    "\n",
    "try:\n",
    "    # Prompt user for a number\n",
    "    user_input = int(input(\"Enter a number: \"))\n",
    "    \n",
    "    # Perform division\n",
    "    division_result = 100 / user_input\n",
    "    \n",
    "    # Show the result\n",
    "    print(f\"100 divided by {user_input} is {division_result}\")\n",
    "    \n",
    "except ZeroDivisionError:\n",
    "    # Handles case when user inputs zero\n",
    "    print(\"Error: You cannot divide by zero!\")\n",
    "    \n",
    "except ValueError:\n",
    "    # Handles case when user inputs something that's not a number\n",
    "    print(\"Error: Please enter a valid number!\")\n",
    "    \n",
    "except Exception as unexpected_error:\n",
    "    # Handles any other unexpected errors\n",
    "    print(f\"An unexpected error occurred: {unexpected_error}\")\n",
    "    \n",
    "else:\n",
    "    # Runs if no exceptions were raised\n",
    "    print(\"Operation completed successfully.\")\n",
    "    \n",
    "finally:\n",
    "    # Runs no matter what, always executed\n",
    "    print(\"Program ended.\")\n"
   ]
  },
  {
   "cell_type": "markdown",
   "id": "257622e5",
   "metadata": {},
   "source": [
    "Imagine you're dividing a cake among friends.  \n",
    "- If someone says \"0,\" you can't divide by zero slices — that's an error.  \n",
    "- If someone says \"banana\" instead of a number, that confuses you too.  \n",
    "\n",
    "This code listens carefully for these problems and gives friendly messages instead of getting upset or stopping abruptly.  \n",
    "The `finally` part is like saying goodbye and cleaning up after the party no matter what happened.\n"
   ]
  }
 ],
 "metadata": {
  "kernelspec": {
   "display_name": "ai",
   "language": "python",
   "name": "python3"
  },
  "language_info": {
   "codemirror_mode": {
    "name": "ipython",
    "version": 3
   },
   "file_extension": ".py",
   "mimetype": "text/x-python",
   "name": "python",
   "nbconvert_exporter": "python",
   "pygments_lexer": "ipython3",
   "version": "3.9.21"
  }
 },
 "nbformat": 4,
 "nbformat_minor": 5
}
