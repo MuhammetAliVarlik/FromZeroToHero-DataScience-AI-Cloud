{
 "cells": [
  {
   "cell_type": "markdown",
   "id": "8fc137d3",
   "metadata": {},
   "source": [
    "# Using Type Hints in Python Functions"
   ]
  },
  {
   "cell_type": "markdown",
   "id": "2ba151bd",
   "metadata": {},
   "source": [
    "Type hints are a way to indicate the expected data types of function parameters and return values.  \n",
    "They help make code easier to read and understand, and tools like editors or linters can use them to catch mistakes early.  \n",
    "\n",
    "Type hints do not change how Python runs the code—they are just informational.  \n",
    "You can also use type hints for variables to clarify what type of data they hold.\n"
   ]
  },
  {
   "cell_type": "code",
   "execution_count": 1,
   "id": "8ebe1080",
   "metadata": {},
   "outputs": [
    {
     "name": "stdout",
     "output_type": "stream",
     "text": [
      "Hello, Alice! You are 30 years old.\n"
     ]
    }
   ],
   "source": [
    "# Function with type hints: expects a string and an integer, returns a string\n",
    "def greet(name: str, age: int) -> str:\n",
    "    return f\"Hello, {name}! You are {age} years old.\"\n",
    "\n",
    "# Type hints for variables (optional but helpful)\n",
    "user_name: str = \"Alice\"\n",
    "user_age: int = 30\n",
    "\n",
    "# Call the function and store the result\n",
    "message: str = greet(user_name, user_age)\n",
    "print(message)"
   ]
  },
  {
   "cell_type": "code",
   "execution_count": null,
   "id": "49b9d016",
   "metadata": {},
   "outputs": [],
   "source": [
    "# Import List from typing module for type hinting lists\n",
    "from typing import List\n",
    "\n",
    "# Function to calculate the average of a list of floats, returning a float\n",
    "def average(numbers: List[float]) -> float:\n",
    "    return sum(numbers) / len(numbers)"
   ]
  },
  {
   "cell_type": "markdown",
   "id": "db20ecb1",
   "metadata": {},
   "source": [
    "## Real-World Use Case or Analogy"
   ]
  },
  {
   "cell_type": "markdown",
   "id": "20e3948d",
   "metadata": {},
   "source": [
    "Think of type hints like labels on containers in a kitchen.  \n",
    "They tell you what kind of ingredient is inside (flour, sugar, salt) without opening it.  \n",
    "This helps you avoid mistakes, like accidentally using salt instead of sugar, just like type hints help programmers avoid passing wrong data types.\n"
   ]
  }
 ],
 "metadata": {
  "kernelspec": {
   "display_name": "ai",
   "language": "python",
   "name": "python3"
  },
  "language_info": {
   "codemirror_mode": {
    "name": "ipython",
    "version": 3
   },
   "file_extension": ".py",
   "mimetype": "text/x-python",
   "name": "python",
   "nbconvert_exporter": "python",
   "pygments_lexer": "ipython3",
   "version": "3.9.21"
  }
 },
 "nbformat": 4,
 "nbformat_minor": 5
}
