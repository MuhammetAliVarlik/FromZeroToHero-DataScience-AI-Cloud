{
 "cells": [
  {
   "cell_type": "markdown",
   "id": "139ca1ae",
   "metadata": {},
   "source": [
    "# Conditions in Python"
   ]
  },
  {
   "cell_type": "markdown",
   "id": "004248b0",
   "metadata": {},
   "source": [
    "## 1. If, Elif, Else Statements\n",
    "\n",
    "Conditional statements let your program make decisions by executing different code blocks depending on whether a condition is true or false.\n",
    "\n",
    "- `if` tests a condition and runs the block if it’s true.\n",
    "- `elif` (short for \"else if\") tests another condition if previous `if` or `elif` were false.\n",
    "- `else` runs if none of the previous conditions were true.\n",
    "\n",
    "This structure helps your program choose between multiple possibilities.\n"
   ]
  },
  {
   "cell_type": "code",
   "execution_count": 1,
   "id": "6c2039f8",
   "metadata": {},
   "outputs": [
    {
     "name": "stdout",
     "output_type": "stream",
     "text": [
      "5.28 is positive.\n"
     ]
    }
   ],
   "source": [
    "number = 5.28\n",
    "\n",
    "if number > 0:\n",
    "    print(f\"{number} is positive.\")\n",
    "elif number < 0:\n",
    "    print(f\"{number} is negative.\")\n",
    "else:\n",
    "    print(f\"{number} is zero.\")"
   ]
  },
  {
   "cell_type": "markdown",
   "id": "87905dc0",
   "metadata": {},
   "source": [
    "# Real-World Analogy\n",
    "\n",
    "Think of this like checking the weather:\n",
    "- If it's sunny, you wear sunglasses.\n",
    "- Else if it's raining, you take an umbrella.\n",
    "- Otherwise, you just dress normally."
   ]
  }
 ],
 "metadata": {
  "kernelspec": {
   "display_name": "ai",
   "language": "python",
   "name": "python3"
  },
  "language_info": {
   "codemirror_mode": {
    "name": "ipython",
    "version": 3
   },
   "file_extension": ".py",
   "mimetype": "text/x-python",
   "name": "python",
   "nbconvert_exporter": "python",
   "pygments_lexer": "ipython3",
   "version": "3.9.21"
  }
 },
 "nbformat": 4,
 "nbformat_minor": 5
}
