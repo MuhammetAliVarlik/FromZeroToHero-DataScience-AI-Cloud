{
 "cells": [
  {
   "cell_type": "markdown",
   "id": "f336d09d",
   "metadata": {},
   "source": [
    "# Functions in Python"
   ]
  },
  {
   "cell_type": "markdown",
   "id": "06026b1c",
   "metadata": {},
   "source": [
    "## 1. Defining and Calling Functions\n",
    "\n",
    "Functions are reusable blocks of code designed to perform a specific task.  \n",
    "They help organize programs and avoid repetition.\n",
    "\n",
    "- Define a function using `def` followed by the function name and parentheses with parameters.\n",
    "- Call a function by using its name followed by parentheses with arguments.\n",
    "\n",
    "Functions can also have default parameter values and return results.\n"
   ]
  },
  {
   "cell_type": "code",
   "execution_count": 1,
   "id": "8ddb2d31",
   "metadata": {},
   "outputs": [
    {
     "name": "stdout",
     "output_type": "stream",
     "text": [
      "Hello Mark\n",
      "10\n",
      "5\n",
      "20\n",
      "30\n",
      "35\n"
     ]
    }
   ],
   "source": [
    "# Define a simple function that greets a user\n",
    "def hello(name):\n",
    "    print(f\"Hello {name}\")\n",
    "\n",
    "# Call the function\n",
    "hello(\"Mark\")\n",
    "\n",
    "# Function to multiply two numbers with a docstring explaining inputs and outputs\n",
    "def multiplier(number1, number2):\n",
    "    \"\"\"\n",
    "    Multiply two numbers\n",
    "    \n",
    "    Args:\n",
    "        number1 (int or float): First number\n",
    "        number2 (int or float): Second number\n",
    "        \n",
    "    Returns:\n",
    "        int or float: The product of number1 and number2\n",
    "    \"\"\"\n",
    "    return number1 * number2\n",
    "\n",
    "# Calling the function and printing the result\n",
    "print(multiplier(5, 2))\n",
    "\n",
    "# Function with default arguments\n",
    "def find_area(length=1, width=5):\n",
    "    area = length * width\n",
    "    return area\n",
    "\n",
    "# Call function with different arguments\n",
    "print(find_area())              # Uses default length=1, width=5\n",
    "print(find_area(2, 10))        # Both arguments provided\n",
    "print(find_area(length=2, width=15))  # Using named arguments\n",
    "print(find_area(length=7))     # Width uses default value 5\n"
   ]
  },
  {
   "cell_type": "markdown",
   "id": "5bce8dc8",
   "metadata": {},
   "source": [
    "## 2. Local and Global Variables\n",
    "\n",
    "- **Global variables** are defined outside functions and accessible anywhere.\n",
    "- **Local variables** exist only inside the function where they are created.\n",
    "\n",
    "Functions can read and modify global variables, but you should do this carefully to avoid bugs.\n"
   ]
  },
  {
   "cell_type": "code",
   "execution_count": 2,
   "id": "8be281da",
   "metadata": {},
   "outputs": [
    {
     "name": "stdout",
     "output_type": "stream",
     "text": [
      "Before: [1, 2]\n",
      "[1, 2, 6]\n",
      "After: [1, 2, 6]\n"
     ]
    }
   ],
   "source": [
    "# Global list\n",
    "testlist = [1, 2]\n",
    "\n",
    "def multiply_element(a, b):\n",
    "    # Local variable c, product of a and b\n",
    "    c = a * b\n",
    "    # Append product to the global list\n",
    "    testlist.append(c)\n",
    "    print(testlist)\n",
    "\n",
    "# Show the global list before function call\n",
    "print(\"Before:\", testlist)\n",
    "\n",
    "# Call function\n",
    "multiply_element(2, 3)\n",
    "\n",
    "# Show the global list after function call\n",
    "print(\"After:\", testlist)\n"
   ]
  },
  {
   "cell_type": "markdown",
   "id": "1eb6e7eb",
   "metadata": {},
   "source": [
    "## 3. Built-in Functional Tools in Python\n",
    "\n",
    "Python offers several built-in functions to work with data efficiently:\n",
    "\n",
    "- **lambda:** Create small anonymous functions.\n",
    "- **map:** Apply a function to each item in a list (or iterable).\n",
    "- **filter:** Select items from a list based on a condition.\n",
    "- **reduce:** Reduce a list to a single value by applying a function cumulatively.\n",
    "- **zip:** Combine two or more lists into pairs of elements.\n"
   ]
  },
  {
   "cell_type": "code",
   "execution_count": 3,
   "id": "395df47c",
   "metadata": {},
   "outputs": [
    {
     "name": "stdout",
     "output_type": "stream",
     "text": [
      "Lambda multiply: 40\n",
      "Volumes increased by 5%: [525.0, 210.0, 630.0, 840.0]\n",
      "Odd numbers: [51, 23, 61, 69, 47]\n",
      "Sum of numbers: 489\n",
      "Names and grades zipped: [('Adam', 90), ('Simon', 60), ('Mark', 80)]\n"
     ]
    }
   ],
   "source": [
    "# 3.1 Lambda function to multiply two numbers\n",
    "multiply = lambda a, b: a * b\n",
    "print(\"Lambda multiply:\", multiply(5, 8))\n",
    "\n",
    "# 3.2 Map: increase volumes by 5%\n",
    "volumes = [500, 200, 600, 800]\n",
    "updated_volumes = list(map(lambda x: x * 1.05, volumes))\n",
    "print(\"Volumes increased by 5%:\", updated_volumes)\n",
    "\n",
    "# 3.3 Filter: select odd numbers from a list\n",
    "numbers = [51, 23, 82, 61, 69, 92, 47, 64]\n",
    "odd_numbers = list(filter(lambda x: x % 2 != 0, numbers))\n",
    "print(\"Odd numbers:\", odd_numbers)\n",
    "\n",
    "# 3.4 Reduce: sum all numbers in the list\n",
    "from functools import reduce\n",
    "total_sum = reduce(lambda a, b: a + b, numbers)\n",
    "print(\"Sum of numbers:\", total_sum)\n",
    "\n",
    "# 3.5 Zip: combine names and grades\n",
    "names = [\"Adam\", \"Simon\", \"Mark\"]\n",
    "grades = [90, 60, 80]\n",
    "combined = list(zip(names, grades))\n",
    "print(\"Names and grades zipped:\", combined)\n"
   ]
  },
  {
   "cell_type": "markdown",
   "id": "363eff70",
   "metadata": {},
   "source": [
    "# Real-World Analogy\n",
    "\n",
    "- Think of functions as machines that take inputs, process them, and give you outputs.\n",
    "- Lambda functions are like quick, simple machines you build on the fly.\n",
    "- Map is like applying the same action to every item on an assembly line.\n",
    "- Filter is like sorting items on a conveyor belt to keep only what you need.\n",
    "- Reduce is like combining ingredients step-by-step into a final product.\n",
    "- Zip is like pairing up items from two different lists, like matching shoes and socks.\n"
   ]
  }
 ],
 "metadata": {
  "kernelspec": {
   "display_name": "ai",
   "language": "python",
   "name": "python3"
  },
  "language_info": {
   "codemirror_mode": {
    "name": "ipython",
    "version": 3
   },
   "file_extension": ".py",
   "mimetype": "text/x-python",
   "name": "python",
   "nbconvert_exporter": "python",
   "pygments_lexer": "ipython3",
   "version": "3.9.21"
  }
 },
 "nbformat": 4,
 "nbformat_minor": 5
}
