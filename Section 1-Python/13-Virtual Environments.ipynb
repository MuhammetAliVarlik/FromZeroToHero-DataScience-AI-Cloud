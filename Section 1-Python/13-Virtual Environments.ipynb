{
 "cells": [
  {
   "cell_type": "markdown",
   "id": "4a601f4f",
   "metadata": {},
   "source": [
    "# What is a Virtual Environment in Python?"
   ]
  },
  {
   "cell_type": "markdown",
   "id": "6ac9ef46",
   "metadata": {},
   "source": [
    "A **virtual environment** is a self-contained folder that holds its own Python interpreter and libraries.  \n",
    "It lets you keep dependencies for different projects separate so they don’t interfere with each other.  \n",
    "\n",
    "For example, one project can use version 1 of a package, while another uses version 2, without conflict.  \n",
    "This keeps your global Python setup clean and makes managing projects easier."
   ]
  },
  {
   "cell_type": "markdown",
   "id": "a405366a",
   "metadata": {},
   "source": [
    "## How to create and use a virtual environment:"
   ]
  },
  {
   "cell_type": "markdown",
   "id": "8c53d30e",
   "metadata": {},
   "source": [
    "1. Create a new virtual environment folder called `myenv`:\n",
    "\n",
    "```bash\n",
    "python -m venv myenv\n",
    "````"
   ]
  },
  {
   "cell_type": "markdown",
   "id": "89d0e270",
   "metadata": {},
   "source": [
    "2. Activate the environment:\n",
    "\n",
    "* On **Windows**:\n",
    "\n",
    "```bash\n",
    "myenv\\Scripts\\activate\n",
    "```\n",
    "\n",
    "* On **Mac/Linux**:\n",
    "\n",
    "```bash\n",
    "source myenv/bin/activate\n",
    "```"
   ]
  },
  {
   "cell_type": "markdown",
   "id": "7c1deb6f",
   "metadata": {},
   "source": [
    "3. Install packages inside the environment:\n",
    "\n",
    "```bash\n",
    "pip install requests\n",
    "```"
   ]
  },
  {
   "cell_type": "markdown",
   "id": "7c84d0e9",
   "metadata": {},
   "source": [
    "4. When finished, deactivate the environment:\n",
    "\n",
    "```bash\n",
    "deactivate\n",
    "```"
   ]
  },
  {
   "cell_type": "markdown",
   "id": "0950087c",
   "metadata": {},
   "source": [
    "## Real-World Use Case or Analogy"
   ]
  },
  {
   "cell_type": "markdown",
   "id": "9aafd357",
   "metadata": {},
   "source": [
    "Imagine you have multiple kitchens (projects) in a house, each with its own set of spices and ingredients (packages).  \n",
    "A virtual environment is like keeping each kitchen stocked independently, so recipes don’t get mixed up or ruined.  \n",
    "This way, you can cook different dishes without worrying about using the wrong ingredients."
   ]
  }
 ],
 "metadata": {
  "language_info": {
   "name": "python"
  }
 },
 "nbformat": 4,
 "nbformat_minor": 5
}
