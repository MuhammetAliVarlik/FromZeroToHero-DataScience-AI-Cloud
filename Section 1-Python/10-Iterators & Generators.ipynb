{
 "cells": [
  {
   "cell_type": "markdown",
   "id": "75fc900d",
   "metadata": {},
   "source": [
    "# Iteration and Generators in Python"
   ]
  },
  {
   "cell_type": "markdown",
   "id": "df9cb43f",
   "metadata": {},
   "source": [
    "Iteration means going through items one by one, which is very common in programming.  \n",
    "The simplest way to iterate over a list in Python is using a `for` loop.  \n",
    "\n",
    "Generators are special functions that allow you to produce items one at a time, pausing after each one until the next is requested.  \n",
    "They use the `yield` keyword and help save memory when working with large data by generating values on demand instead of all at once.\n"
   ]
  },
  {
   "cell_type": "code",
   "execution_count": 2,
   "id": "b87e585b",
   "metadata": {},
   "outputs": [
    {
     "name": "stdout",
     "output_type": "stream",
     "text": [
      "Iterating over a list:\n",
      "apple\n",
      "banana\n",
      "cherry\n"
     ]
    }
   ],
   "source": [
    "# List of fruits to iterate over\n",
    "fruit_list = ['apple', 'banana', 'cherry']\n",
    "\n",
    "print(\"Iterating over a list:\")\n",
    "# Loop through each fruit and print it\n",
    "for item in fruit_list:\n",
    "    print(item)"
   ]
  },
  {
   "cell_type": "code",
   "execution_count": 3,
   "id": "27f0b349",
   "metadata": {},
   "outputs": [
    {
     "name": "stdout",
     "output_type": "stream",
     "text": [
      "\n",
      "Using generator to get squares:\n",
      "1\n",
      "4\n",
      "9\n",
      "16\n",
      "25\n"
     ]
    }
   ],
   "source": [
    "# Generator function that yields squares from 1 to n\n",
    "def generate_squares(limit):\n",
    "    for number in range(1, limit + 1):\n",
    "        yield number ** 2  # Pause and return the square\n",
    "\n",
    "print(\"\\nUsing generator to get squares:\")\n",
    "# Create generator object for squares up to 5\n",
    "squares_gen = generate_squares(5)\n",
    "\n",
    "# Loop through the generator to print each square\n",
    "for square_value in squares_gen:\n",
    "    print(square_value)"
   ]
  },
  {
   "cell_type": "markdown",
   "id": "bb414b89",
   "metadata": {},
   "source": [
    "Think of iterating over a list like reading names from a guest list one by one.  \n",
    "A generator is like a vending machine that gives you one snack each time you press a button, instead of handing you the whole box at once.  \n",
    "This helps when you want to save space or don’t need everything at the same time.\n"
   ]
  }
 ],
 "metadata": {
  "kernelspec": {
   "display_name": "ai",
   "language": "python",
   "name": "python3"
  },
  "language_info": {
   "codemirror_mode": {
    "name": "ipython",
    "version": 3
   },
   "file_extension": ".py",
   "mimetype": "text/x-python",
   "name": "python",
   "nbconvert_exporter": "python",
   "pygments_lexer": "ipython3",
   "version": "3.9.21"
  }
 },
 "nbformat": 4,
 "nbformat_minor": 5
}
