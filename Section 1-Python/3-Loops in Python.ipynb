{
 "cells": [
  {
   "cell_type": "markdown",
   "id": "7d295785",
   "metadata": {},
   "source": [
    "# Loops in Python"
   ]
  },
  {
   "cell_type": "markdown",
   "id": "f0aa10a1",
   "metadata": {},
   "source": [
    "## 1. For Loop\n",
    "\n",
    "A `for` loop lets you repeat a block of code for each item in a list or any iterable.  \n",
    "It is useful when you know exactly how many times you want to repeat something, or you want to process every item in a collection.\n",
    "\n",
    "**Basic syntax:**\n",
    "\n",
    "```python\n",
    "for variable in list_or_iterable:\n",
    "    # code block to run for each item"
   ]
  },
  {
   "cell_type": "code",
   "execution_count": 1,
   "id": "9723c9ff",
   "metadata": {},
   "outputs": [
    {
     "name": "stdout",
     "output_type": "stream",
     "text": [
      "John\n",
      "Mark\n",
      "Venessa\n",
      "---\n",
      "0 John\n",
      "1 Mark\n",
      "2 Venessa\n"
     ]
    }
   ],
   "source": [
    "# List of student names\n",
    "students = [\"John\", \"Mark\", \"Venessa\"]\n",
    "\n",
    "# Print each student name\n",
    "for student in students:\n",
    "    print(student)\n",
    "\n",
    "print(\"---\")\n",
    "\n",
    "# Print index and student name using enumerate\n",
    "for index, student in enumerate(students):\n",
    "    print(index, student)"
   ]
  },
  {
   "cell_type": "markdown",
   "id": "2ede1d2f",
   "metadata": {},
   "source": [
    "## 2. While Loop\n",
    "\n",
    "A `while` loop repeats as long as a condition remains true.  \n",
    "It's useful when you want to keep looping until something changes or a certain condition is met.\n",
    "\n",
    "**Basic syntax:**\n",
    "\n",
    "```python\n",
    "while condition:\n",
    "    # code to execute repeatedly while condition is true"
   ]
  },
  {
   "cell_type": "code",
   "execution_count": 2,
   "id": "bacc46ce",
   "metadata": {},
   "outputs": [
    {
     "name": "stdout",
     "output_type": "stream",
     "text": [
      "1\n",
      "2\n",
      "3\n",
      "4\n",
      "5\n",
      "---\n",
      "2\n",
      "3\n",
      "4\n",
      "6\n",
      "7\n",
      "8\n"
     ]
    }
   ],
   "source": [
    "# Initialize counter\n",
    "i = 1\n",
    "\n",
    "# Print numbers 1 to 7 but stop if i equals 5\n",
    "while i < 8:\n",
    "    print(i)\n",
    "    if i == 5:\n",
    "        break  # exit the loop early\n",
    "    i += 1\n",
    "\n",
    "print(\"---\")\n",
    "\n",
    "# Another while loop example using continue\n",
    "i = 1\n",
    "while i < 8:\n",
    "    i += 1\n",
    "    if i == 5:\n",
    "        continue  # skip printing when i is 5\n",
    "    print(i)"
   ]
  },
  {
   "cell_type": "markdown",
   "id": "f349dc2d",
   "metadata": {},
   "source": [
    "# Real-World Analogy\n",
    "\n",
    "- A `for` loop is like checking each item in a shopping list one by one until you finish the list.\n",
    "- A `while` loop is like waiting at a traffic light and continuing to wait while it is red, only moving when it turns green."
   ]
  }
 ],
 "metadata": {
  "kernelspec": {
   "display_name": "ai",
   "language": "python",
   "name": "python3"
  },
  "language_info": {
   "codemirror_mode": {
    "name": "ipython",
    "version": 3
   },
   "file_extension": ".py",
   "mimetype": "text/x-python",
   "name": "python",
   "nbconvert_exporter": "python",
   "pygments_lexer": "ipython3",
   "version": "3.9.21"
  }
 },
 "nbformat": 4,
 "nbformat_minor": 5
}
