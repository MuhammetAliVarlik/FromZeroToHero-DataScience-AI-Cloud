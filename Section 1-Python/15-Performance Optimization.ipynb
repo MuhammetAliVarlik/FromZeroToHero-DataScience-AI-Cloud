{
 "cells": [
  {
   "cell_type": "markdown",
   "id": "897ff573",
   "metadata": {},
   "source": [
    "# Python Performance Optimization Tips"
   ]
  },
  {
   "cell_type": "markdown",
   "id": "702c10f4",
   "metadata": {},
   "source": [
    "Optimizing your Python code can make it run faster and use less memory.  \n",
    "Here are some practical tips for improving performance:\n",
    "\n",
    "- Choose efficient data structures: sets are great for fast membership tests, lists for ordered data.  \n",
    "- Avoid unnecessary loops by using comprehensions and built-in functions like `map` or `filter`.  \n",
    "- Use generators to handle large data without loading everything into memory.  \n",
    "- Minimize expensive function calls inside loops by caching results or storing values.  \n",
    "- Use Python’s built-in libraries whenever possible, as they are often implemented in optimized C code.  \n",
    "- Profile your code with tools like `cProfile` to find where it’s slow before optimizing.  \n",
    "- Use `@lru_cache` to memoize (cache) results of expensive or repetitive function calls.  \n",
    "- Avoid global variables to improve variable access speed.  \n",
    "- Use multithreading or multiprocessing to speed up I/O-bound or CPU-bound tasks.  \n",
    "- Consider JIT compilers like Numba or alternative interpreters like PyPy for heavy numeric tasks.\n"
   ]
  },
  {
   "cell_type": "code",
   "execution_count": 1,
   "id": "391821b7",
   "metadata": {},
   "outputs": [
    {
     "name": "stdout",
     "output_type": "stream",
     "text": [
      "Found banana!\n"
     ]
    }
   ],
   "source": [
    "# Examples illustrating optimization tips:\n",
    "\n",
    "# 1. Using a set for fast membership test\n",
    "fruits = {'apple', 'banana', 'cherry'}\n",
    "if 'banana' in fruits:  # O(1) average time\n",
    "    print(\"Found banana!\")\n",
    "\n"
   ]
  },
  {
   "cell_type": "code",
   "execution_count": 2,
   "id": "3fd50bd1",
   "metadata": {},
   "outputs": [],
   "source": [
    "# 2. List comprehension instead of manual loop\n",
    "squares = [x**2 for x in range(1000)]\n",
    "\n"
   ]
  },
  {
   "cell_type": "code",
   "execution_count": 3,
   "id": "6e915673",
   "metadata": {},
   "outputs": [
    {
     "name": "stdout",
     "output_type": "stream",
     "text": [
      "1\n",
      "2\n",
      "3\n",
      "4\n",
      "5\n"
     ]
    }
   ],
   "source": [
    "# 3. Generator for large sequences\n",
    "def count_up_to(n):\n",
    "    i = 1\n",
    "    while i <= n:\n",
    "        yield i\n",
    "        i += 1\n",
    "        \n",
    "for number in count_up_to(5):\n",
    "    print(number)"
   ]
  },
  {
   "cell_type": "code",
   "execution_count": 4,
   "id": "29a63844",
   "metadata": {},
   "outputs": [
    {
     "name": "stdout",
     "output_type": "stream",
     "text": [
      "55\n"
     ]
    }
   ],
   "source": [
    "# 4. Cache function results with lru_cache\n",
    "from functools import lru_cache\n",
    "\n",
    "@lru_cache(maxsize=None)\n",
    "def fibonacci(n):\n",
    "    if n < 2:\n",
    "        return n\n",
    "    return fibonacci(n-1) + fibonacci(n-2)\n",
    "\n",
    "print(fibonacci(10))"
   ]
  },
  {
   "cell_type": "markdown",
   "id": "dfd5d47d",
   "metadata": {},
   "source": [
    "\n",
    "## Real-World Use Case or Analogy:\n",
    "\n",
    "Think of optimization like organizing a workspace:  \n",
    "- Using the right tools (data structures) saves time.  \n",
    "- Avoiding repetitive motions (function calls inside loops) reduces effort.  \n",
    "- Storing frequently used items nearby (caching) speeds up your work.  \n",
    "- And cleaning up clutter (profiling) helps find what slows you down.\n"
   ]
  }
 ],
 "metadata": {
  "kernelspec": {
   "display_name": "ai",
   "language": "python",
   "name": "python3"
  },
  "language_info": {
   "codemirror_mode": {
    "name": "ipython",
    "version": 3
   },
   "file_extension": ".py",
   "mimetype": "text/x-python",
   "name": "python",
   "nbconvert_exporter": "python",
   "pygments_lexer": "ipython3",
   "version": "3.9.21"
  }
 },
 "nbformat": 4,
 "nbformat_minor": 5
}
