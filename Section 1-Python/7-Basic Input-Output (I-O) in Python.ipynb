{
 "cells": [
  {
   "cell_type": "markdown",
   "id": "e2a2d6e3",
   "metadata": {},
   "source": [
    "# Basic Input/Output (I/O) in Python"
   ]
  },
  {
   "cell_type": "markdown",
   "id": "0064b0fd",
   "metadata": {},
   "source": [
    "Input and output (I/O) operations are fundamental in programming for reading and writing data.  \n",
    "In Python, working with files allows you to save information persistently, read existing data, or manipulate files in different modes like text or binary.  \n",
    "\n",
    "This lesson covers how to open files for reading and writing, read entire files or line by line, write text or multiple lines, and handle binary data safely.  \n",
    "Also, it introduces basic error handling to manage situations like missing files or access problems."
   ]
  },
  {
   "cell_type": "code",
   "execution_count": 4,
   "id": "e6a94b25",
   "metadata": {},
   "outputs": [],
   "source": [
    "# This example shows how to read from and write to text and binary files in Python.\n",
    "# It also demonstrates basic error handling for file operations.\n",
    "\n",
    "# Writing a string to a text file\n",
    "with open('../files/sample.txt', 'w') as file:\n",
    "    file.write(\"Hello, Python!\\n\")"
   ]
  },
  {
   "cell_type": "code",
   "execution_count": 5,
   "id": "f36e0456",
   "metadata": {},
   "outputs": [
    {
     "name": "stdout",
     "output_type": "stream",
     "text": [
      "Full content:\n",
      " Hello, Python!\n",
      "\n"
     ]
    }
   ],
   "source": [
    "# Reading entire content of a text file\n",
    "try:\n",
    "    with open('../files/sample.txt', 'r') as file:\n",
    "        text_content = file.read()  # Read the whole file at once\n",
    "        print(\"Full content:\\n\", text_content)\n",
    "except FileNotFoundError:\n",
    "    print(\"The file 'sample.txt' was not found.\")"
   ]
  },
  {
   "cell_type": "code",
   "execution_count": 6,
   "id": "e9f53397",
   "metadata": {},
   "outputs": [
    {
     "name": "stdout",
     "output_type": "stream",
     "text": [
      "\n",
      "Reading line by line:\n",
      "Hello, Python!\n"
     ]
    }
   ],
   "source": [
    "# Reading a file line by line\n",
    "try:\n",
    "    with open('../files/sample.txt', 'r') as file:\n",
    "        print(\"\\nReading line by line:\")\n",
    "        for line in file:\n",
    "            print(line, end='')  # Print each line without extra newline\n",
    "except FileNotFoundError:\n",
    "    print(\"The file 'sample.txt' was not found.\")"
   ]
  },
  {
   "cell_type": "code",
   "execution_count": 7,
   "id": "2fa51154",
   "metadata": {},
   "outputs": [],
   "source": [
    "# Writing multiple lines to a text file\n",
    "lines_to_write = [\"Line 1\\n\", \"Line 2\\n\", \"Line 3\\n\"]\n",
    "with open('sample.txt', 'w') as file:\n",
    "    file.writelines(lines_to_write)"
   ]
  },
  {
   "cell_type": "code",
   "execution_count": 10,
   "id": "98e2d698",
   "metadata": {},
   "outputs": [],
   "source": [
    "# Writing binary data to a file\n",
    "with open('../files/sample.bin', 'wb') as file:\n",
    "    file.write(b'\\xDE\\xAD\\xBE\\xEF')  # Write some bytes"
   ]
  },
  {
   "cell_type": "code",
   "execution_count": 11,
   "id": "da8edd2d",
   "metadata": {},
   "outputs": [
    {
     "name": "stdout",
     "output_type": "stream",
     "text": [
      "\n",
      "Binary data read: b'\\xde\\xad\\xbe\\xef'\n"
     ]
    }
   ],
   "source": [
    "# Reading binary data from a file\n",
    "try:\n",
    "    with open('../files/sample.bin', 'rb') as file:\n",
    "        binary_data = file.read()\n",
    "        print(\"\\nBinary data read:\", binary_data)\n",
    "except FileNotFoundError:\n",
    "    print(\"The binary file was not found.\")"
   ]
  }
 ],
 "metadata": {
  "kernelspec": {
   "display_name": "ai",
   "language": "python",
   "name": "python3"
  },
  "language_info": {
   "codemirror_mode": {
    "name": "ipython",
    "version": 3
   },
   "file_extension": ".py",
   "mimetype": "text/x-python",
   "name": "python",
   "nbconvert_exporter": "python",
   "pygments_lexer": "ipython3",
   "version": "3.9.21"
  }
 },
 "nbformat": 4,
 "nbformat_minor": 5
}
