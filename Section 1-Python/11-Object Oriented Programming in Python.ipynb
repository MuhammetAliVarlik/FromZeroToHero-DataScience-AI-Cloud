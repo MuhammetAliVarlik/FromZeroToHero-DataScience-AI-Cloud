{
 "cells": [
  {
   "cell_type": "markdown",
   "id": "170962b0",
   "metadata": {},
   "source": [
    "# Introduction to Classes and Objects in Python"
   ]
  },
  {
   "cell_type": "markdown",
   "id": "b0c2b76f",
   "metadata": {},
   "source": [
    "Classes are blueprints for creating objects that represent things with attributes (properties) and behaviors (methods).  \n",
    "An object is an instance of a class with its own unique data.  \n",
    "\n",
    "This example defines a `Car` class with attributes like make, model, year, and odometer reading.  \n",
    "It includes methods to describe the car, update the odometer safely, increment miles driven, and display the current mileage.  \n",
    "This introduces basic object-oriented programming concepts in Python."
   ]
  },
  {
   "cell_type": "code",
   "execution_count": 1,
   "id": "e7c2147d",
   "metadata": {},
   "outputs": [],
   "source": [
    "# Define a Car class with attributes and methods to manage its state\n",
    "class Car:\n",
    "    def __init__(self, brand, model_name, production_year):\n",
    "        # Initialize car details\n",
    "        self.brand = brand\n",
    "        self.model_name = model_name\n",
    "        self.production_year = production_year\n",
    "        self.odometer = 0  # Start with zero miles\n",
    "\n",
    "    def get_description(self):\n",
    "        # Return a formatted string describing the car\n",
    "        return f\"{self.production_year} {self.brand} {self.model_name}\"\n",
    "\n",
    "    def set_odometer(self, mileage):\n",
    "        # Update odometer only if new mileage is greater or equal\n",
    "        if mileage >= self.odometer:\n",
    "            self.odometer = mileage\n",
    "        else:\n",
    "            print(\"Warning: Odometer rollback is not allowed!\")\n",
    "\n",
    "    def add_miles(self, miles_driven):\n",
    "        # Add miles if the input is positive\n",
    "        if miles_driven > 0:\n",
    "            self.odometer += miles_driven\n",
    "        else:\n",
    "            print(\"Error: Cannot add negative miles.\")\n",
    "\n",
    "    def show_odometer(self):\n",
    "        # Display current mileage\n",
    "        print(f\"The car has {self.odometer} miles on it.\")"
   ]
  },
  {
   "cell_type": "code",
   "execution_count": 2,
   "id": "57f1c92e",
   "metadata": {},
   "outputs": [],
   "source": [
    "# Create a Car instance with given details\n",
    "my_vehicle = Car(\"Toyota\", \"Corolla\", 2020)"
   ]
  },
  {
   "cell_type": "code",
   "execution_count": 3,
   "id": "32d50da6",
   "metadata": {},
   "outputs": [
    {
     "name": "stdout",
     "output_type": "stream",
     "text": [
      "2020 Toyota Corolla\n"
     ]
    }
   ],
   "source": [
    "# Show the car description\n",
    "print(my_vehicle.get_description())"
   ]
  },
  {
   "cell_type": "code",
   "execution_count": 4,
   "id": "399ca141",
   "metadata": {},
   "outputs": [
    {
     "name": "stdout",
     "output_type": "stream",
     "text": [
      "The car has 15000 miles on it.\n"
     ]
    }
   ],
   "source": [
    "# Update odometer and show mileage\n",
    "my_vehicle.set_odometer(15000)\n",
    "my_vehicle.show_odometer()"
   ]
  },
  {
   "cell_type": "code",
   "execution_count": 5,
   "id": "b8b78736",
   "metadata": {},
   "outputs": [
    {
     "name": "stdout",
     "output_type": "stream",
     "text": [
      "The car has 15500 miles on it.\n"
     ]
    }
   ],
   "source": [
    "# Add miles and show updated mileage\n",
    "my_vehicle.add_miles(500)\n",
    "my_vehicle.show_odometer()"
   ]
  },
  {
   "cell_type": "code",
   "execution_count": 6,
   "id": "15bd9a01",
   "metadata": {},
   "outputs": [
    {
     "name": "stdout",
     "output_type": "stream",
     "text": [
      "Warning: Odometer rollback is not allowed!\n"
     ]
    }
   ],
   "source": [
    "# Attempt to roll back odometer (should warn)\n",
    "my_vehicle.set_odometer(14000)"
   ]
  },
  {
   "cell_type": "markdown",
   "id": "cc8f1289",
   "metadata": {},
   "source": [
    "Imagine you own a car and keep a logbook that tracks how many miles you’ve driven.  \n",
    "You can write down the current mileage (odometer), add miles after trips, and check the total miles.  \n",
    "You can’t cheat by setting the mileage backward — that’s like rolling back the odometer.  \n",
    "\n",
    "This class models that logbook in code, giving you tools to manage and protect your car’s mileage data."
   ]
  }
 ],
 "metadata": {
  "kernelspec": {
   "display_name": "ai",
   "language": "python",
   "name": "python3"
  },
  "language_info": {
   "codemirror_mode": {
    "name": "ipython",
    "version": 3
   },
   "file_extension": ".py",
   "mimetype": "text/x-python",
   "name": "python",
   "nbconvert_exporter": "python",
   "pygments_lexer": "ipython3",
   "version": "3.9.21"
  }
 },
 "nbformat": 4,
 "nbformat_minor": 5
}
