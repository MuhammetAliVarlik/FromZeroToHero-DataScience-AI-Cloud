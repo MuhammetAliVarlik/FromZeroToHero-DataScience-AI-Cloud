{
 "cells": [
  {
   "cell_type": "markdown",
   "id": "82a1c688",
   "metadata": {},
   "source": [
    "# SOLID Principles in Python\n"
   ]
  },
  {
   "cell_type": "markdown",
   "id": "13993422",
   "metadata": {},
   "source": [
    "SOLID is a set of five fundamental principles in object-oriented design that help create code that is easier to maintain, extend, and understand.\n",
    "\n",
    "- **S**: Single Responsibility Principle — A class should have only one reason to change.\n",
    "- **O**: Open/Closed Principle — Software entities should be open for extension, but closed for modification.\n",
    "- **L**: Liskov Substitution Principle — Subtypes must be substitutable for their base types without breaking correctness.\n",
    "- **I**: Interface Segregation Principle — Clients should not be forced to depend on interfaces they do not use.\n",
    "- **D**: Dependency Inversion Principle — Depend on abstractions rather than concrete implementations.\n",
    "\n",
    "These principles help you write flexible and robust code by reducing tight coupling and promoting separation of concerns.\n"
   ]
  },
  {
   "cell_type": "code",
   "execution_count": 1,
   "id": "4a01c7ca",
   "metadata": {},
   "outputs": [],
   "source": [
    "# 1. Single Responsibility Principle (SRP)\n",
    "class ReportGenerator:\n",
    "    def generate(self):\n",
    "        # Generate the report content\n",
    "        return \"Report Content\"\n",
    "\n",
    "class ReportSaver:\n",
    "    def save(self, report, filename):\n",
    "        # Save the report content to a file\n",
    "        with open(filename, 'w') as file:\n",
    "            file.write(report)"
   ]
  },
  {
   "cell_type": "code",
   "execution_count": 2,
   "id": "e9e946e6",
   "metadata": {},
   "outputs": [],
   "source": [
    "# 2. Open/Closed Principle (OCP)\n",
    "from abc import ABC, abstractmethod\n",
    "\n",
    "class Shape(ABC):\n",
    "    @abstractmethod\n",
    "    def area(self):\n",
    "        pass\n",
    "\n",
    "class Circle(Shape):\n",
    "    def __init__(self, radius):\n",
    "        self.radius = radius\n",
    "\n",
    "    def area(self):\n",
    "        return 3.14 * self.radius ** 2\n",
    "\n",
    "class Rectangle(Shape):\n",
    "    def __init__(self, width, height):\n",
    "        self.width = width\n",
    "        self.height = height\n",
    "\n",
    "    def area(self):\n",
    "        return self.width * self.height\n",
    "\n",
    "def print_area(shape: Shape):\n",
    "    print(f\"Area: {shape.area()}\")"
   ]
  },
  {
   "cell_type": "code",
   "execution_count": 3,
   "id": "cc19ea0e",
   "metadata": {},
   "outputs": [],
   "source": [
    "# 3. Liskov Substitution Principle (LSP)\n",
    "class Bird:\n",
    "    def fly(self):\n",
    "        print(\"Flying\")\n",
    "\n",
    "class Ostrich(Bird):\n",
    "    def fly(self):\n",
    "        raise Exception(\"Ostriches can't fly!\")"
   ]
  },
  {
   "cell_type": "code",
   "execution_count": 4,
   "id": "3fce4fe1",
   "metadata": {},
   "outputs": [],
   "source": [
    "# 4. Interface Segregation Principle (ISP)\n",
    "class Workable(ABC):\n",
    "    @abstractmethod\n",
    "    def work(self):\n",
    "        pass\n",
    "\n",
    "class Eatable(ABC):\n",
    "    @abstractmethod\n",
    "    def eat(self):\n",
    "        pass\n",
    "\n",
    "class Worker(Workable, Eatable):\n",
    "    def work(self):\n",
    "        print(\"Working\")\n",
    "\n",
    "    def eat(self):\n",
    "        print(\"Eating\")\n",
    "\n",
    "class Robot(Workable):\n",
    "    def work(self):\n",
    "        print(\"Working\")"
   ]
  },
  {
   "cell_type": "code",
   "execution_count": 5,
   "id": "2d31a7b8",
   "metadata": {},
   "outputs": [],
   "source": [
    "# 5. Dependency Inversion Principle (DIP)\n",
    "class NotificationSender(ABC):\n",
    "    @abstractmethod\n",
    "    def send(self, message):\n",
    "        pass\n",
    "\n",
    "class EmailSender(NotificationSender):\n",
    "    def send(self, message):\n",
    "        print(f\"Sending email: {message}\")\n",
    "\n",
    "class NotificationManager:\n",
    "    def __init__(self, sender: NotificationSender):\n",
    "        self.sender = sender\n",
    "\n",
    "    def notify(self, message):\n",
    "        self.sender.send(message)"
   ]
  },
  {
   "cell_type": "code",
   "execution_count": 9,
   "id": "fcca7826",
   "metadata": {},
   "outputs": [
    {
     "name": "stdout",
     "output_type": "stream",
     "text": [
      "Area: 78.5\n",
      "Area: 24\n",
      "Flying\n",
      "Working\n",
      "Eating\n",
      "Working\n",
      "Sending email: Hello!\n"
     ]
    }
   ],
   "source": [
    "# Usage example\n",
    "if __name__ == \"__main__\":\n",
    "    # SRP\n",
    "    generator = ReportGenerator()\n",
    "    saver = ReportSaver()\n",
    "    report = generator.generate()\n",
    "    saver.save(report, \"../files/report.txt\")\n",
    "\n",
    "    # OCP\n",
    "    circle = Circle(5)\n",
    "    rectangle = Rectangle(4, 6)\n",
    "    print_area(circle)\n",
    "    print_area(rectangle)\n",
    "\n",
    "    # LSP example (careful with exceptions)\n",
    "    bird = Bird()\n",
    "    bird.fly()\n",
    "    # ostrich = Ostrich()\n",
    "    # ostrich.fly()  # This would raise an exception!\n",
    "\n",
    "    # ISP\n",
    "    worker = Worker()\n",
    "    worker.work()\n",
    "    worker.eat()\n",
    "\n",
    "    robot = Robot()\n",
    "    robot.work()\n",
    "\n",
    "    # DIP\n",
    "    email_sender = EmailSender()\n",
    "    manager = NotificationManager(email_sender)\n",
    "    manager.notify(\"Hello!\")\n"
   ]
  },
  {
   "cell_type": "markdown",
   "id": "9865cb63",
   "metadata": {},
   "source": [
    "## Real-World Use Case or Analogy:"
   ]
  },
  {
   "cell_type": "markdown",
   "id": "a503258f",
   "metadata": {},
   "source": [
    "Think of SOLID principles like building a well-organized team:\n",
    "\n",
    "- Single Responsibility Principle (SRP): Each team member focuses on one clear job, preventing confusion.\n",
    "- Open/Closed Principle (OCP): The team welcomes new members with new skills without changing existing members’ roles.\n",
    "- Liskov Substitution Principle (LSP): Any substitute member should perform their job without breaking the team's workflow.\n",
    "- Interface Segregation Principle (ISP): Team members only learn the skills they actually need, avoiding unnecessary tasks.\n",
    "- Dependency Inversion Principle (DIP): The team depends on agreed roles (abstractions), not on who specifically fills them, allowing easy swaps without disruption.\n"
   ]
  }
 ],
 "metadata": {
  "kernelspec": {
   "display_name": "ai",
   "language": "python",
   "name": "python3"
  },
  "language_info": {
   "codemirror_mode": {
    "name": "ipython",
    "version": 3
   },
   "file_extension": ".py",
   "mimetype": "text/x-python",
   "name": "python",
   "nbconvert_exporter": "python",
   "pygments_lexer": "ipython3",
   "version": "3.9.21"
  }
 },
 "nbformat": 4,
 "nbformat_minor": 5
}
