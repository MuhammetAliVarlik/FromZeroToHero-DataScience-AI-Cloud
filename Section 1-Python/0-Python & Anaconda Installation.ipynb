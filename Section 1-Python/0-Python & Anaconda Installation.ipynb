{
 "cells": [
  {
   "cell_type": "markdown",
   "id": "50ed7ff0",
   "metadata": {},
   "source": [
    "# Python and Anaconda Installation Guide with Virtual Environment Setup\n",
    "\n",
    "This notebook covers the steps to install Python, Anaconda, and how to create and use virtual environments with Conda."
   ]
  },
  {
   "cell_type": "markdown",
   "id": "0783d4e7",
   "metadata": {},
   "source": [
    "## 1. Installing Python\n",
    "\n",
    "### Step 1: Download Python\n",
    "\n",
    "- Go to the official Python website: [https://www.python.org/downloads/](https://www.python.org/downloads/)\n",
    "- Choose the latest stable version for your OS (Windows, macOS, Linux) and download the installer."
   ]
  },
  {
   "cell_type": "markdown",
   "id": "cf8b7915",
   "metadata": {},
   "source": [
    "### Step 2: Run the Installer\n",
    "\n",
    "- **Windows:**\n",
    "  - Run the `.exe` file.\n",
    "  - **Important:** Check the box **“Add Python to PATH”** before clicking “Install Now”.\n",
    "\n",
    "- **macOS/Linux:**\n",
    "  - Follow the on-screen instructions or use package managers (`brew` for macOS, `apt` for Ubuntu)."
   ]
  },
  {
   "cell_type": "markdown",
   "id": "92239f6c",
   "metadata": {},
   "source": [
    "### Step 3: Verify Installation\n",
    "\n",
    "Open a terminal or command prompt and run:\n",
    "\n",
    "```bash\n",
    "python --version\n",
    "````\n",
    "\n",
    "You should see the installed Python version.\n",
    "\n",
    "---"
   ]
  },
  {
   "cell_type": "markdown",
   "id": "55efc40c",
   "metadata": {},
   "source": [
    "## 2. Installing Anaconda\n",
    "\n",
    "Anaconda is a Python distribution bundled with many useful data science and machine learning libraries, plus environment management tools."
   ]
  },
  {
   "cell_type": "markdown",
   "id": "011df72a",
   "metadata": {},
   "source": [
    "### Step 1: Download Anaconda\n",
    "\n",
    "- Visit [https://www.anaconda.com/products/distribution](https://www.anaconda.com/products/distribution)\n",
    "- Download the installer for your OS."
   ]
  },
  {
   "cell_type": "markdown",
   "id": "a101e4e1",
   "metadata": {},
   "source": [
    "### Step 2: Run the Installer\n",
    "\n",
    "- Follow the installation instructions for your OS.\n",
    "- On Windows, you can choose to add Anaconda to your PATH or use the Anaconda Prompt."
   ]
  },
  {
   "cell_type": "markdown",
   "id": "b23a486c",
   "metadata": {},
   "source": [
    "### Step 3: Verify Installation\n",
    "\n",
    "Open the **Anaconda Prompt** (Windows) or terminal (macOS/Linux) and run:\n",
    "\n",
    "```bash\n",
    "conda --version\n",
    "````\n",
    "\n",
    "You should see the Conda version number.\n",
    "\n",
    "---"
   ]
  },
  {
   "cell_type": "markdown",
   "id": "ef7dfc74",
   "metadata": {},
   "source": [
    "## 3. Creating and Using a Virtual Environment with Conda\n",
    "\n",
    "You can create isolated environments for your projects to manage dependencies separately.\n",
    "\n",
    "### Create a new environment named `myenv` with Python 3.11:\n",
    "\n",
    "```bash\n",
    "conda create --name myenv python=3.11\n",
    "````"
   ]
  },
  {
   "cell_type": "markdown",
   "id": "a9c2f480",
   "metadata": {},
   "source": [
    "### Activate the environment:\n",
    "\n",
    "```bash\n",
    "conda activate myenv\n",
    "```"
   ]
  },
  {
   "cell_type": "markdown",
   "id": "72e4b751",
   "metadata": {},
   "source": [
    "### Deactivate the environment when done:\n",
    "\n",
    "```bash\n",
    "conda deactivate\n",
    "```\n",
    "---"
   ]
  }
 ],
 "metadata": {
  "language_info": {
   "name": "python"
  }
 },
 "nbformat": 4,
 "nbformat_minor": 5
}
