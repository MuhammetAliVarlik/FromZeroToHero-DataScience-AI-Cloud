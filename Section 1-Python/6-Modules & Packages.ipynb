{
 "cells": [
  {
   "cell_type": "markdown",
   "id": "68881f70",
   "metadata": {},
   "source": [
    "# Modules & Packages"
   ]
  },
  {
   "cell_type": "markdown",
   "id": "8b908edf",
   "metadata": {},
   "source": [
    "In Python, **modules** and **packages** help you organize and reuse code.\n",
    "\n",
    "## **Modules**\n",
    "A **module** is simply a Python file (`.py`) that contains definitions of functions, classes, and variables.\n",
    "- You can create your own modules and import them into other Python programs.\n",
    "- Python also comes with many **built-in modules** (e.g., `math`, `random`, `os`).\n",
    "\n",
    "Example:\n",
    "```python\n",
    "# mymodule.py\n",
    "def greet(name):\n",
    "    return f\"Hello, {name}!\"\n",
    "# main.py\n",
    "import mymodule\n",
    "print(mymodule.greet(\"Alice\"))"
   ]
  },
  {
   "cell_type": "markdown",
   "id": "c7ca8768",
   "metadata": {},
   "source": [
    "## **Packages**\n",
    "\n",
    "A **package** is a collection of modules stored in a directory that contains an __init__.py file.\n",
    "\n",
    "Packages allow you to organize related modules together.\n",
    "\n",
    "Example: **NumPy** and **Pandas** are packages containing many modules.\n",
    "\n",
    "```python\n",
    "import math                # Import full module\n",
    "from math import sqrt      # Import specific function\n",
    "from math import *         # Import all (not recommended)\n",
    "import math as m           # Import with alias"
   ]
  },
  {
   "cell_type": "code",
   "execution_count": 1,
   "id": "c8ede681",
   "metadata": {},
   "outputs": [
    {
     "name": "stdout",
     "output_type": "stream",
     "text": [
      "Hello, Alice! Welcome to Python Modules.\n",
      "Square of 5: 25\n",
      "\n",
      "Built-in math module usage:\n",
      "Square root of 16: 4.0\n",
      "Value of pi: 3.141592653589793\n",
      "Factorial of 5: 120\n"
     ]
    }
   ],
   "source": [
    "\n",
    "# ---------------- Example: Creating and Using a Module ----------------\n",
    "\n",
    "# Let's simulate having our own module in the same notebook for demo\n",
    "# Normally, this would be in a separate file like mymodule.py\n",
    "\n",
    "def greet_user(name):\n",
    "    \"\"\"Return a greeting message.\"\"\"\n",
    "    return f\"Hello, {name}! Welcome to Python Modules.\"\n",
    "\n",
    "def square_number(num):\n",
    "    \"\"\"Return the square of a number.\"\"\"\n",
    "    return num ** 2\n",
    "\n",
    "# Using the functions\n",
    "print(greet_user(\"Alice\"))\n",
    "print(\"Square of 5:\", square_number(5))\n",
    "\n",
    "# ---------------- Example: Using a Built-in Module ----------------\n",
    "import math\n",
    "\n",
    "print(\"\\nBuilt-in math module usage:\")\n",
    "print(\"Square root of 16:\", math.sqrt(16))\n",
    "print(\"Value of pi:\", math.pi)\n",
    "print(\"Factorial of 5:\", math.factorial(5))"
   ]
  },
  {
   "cell_type": "markdown",
   "id": "e2fdd48b",
   "metadata": {},
   "source": [
    "# Real-World Analogy: Toolboxes and Tools\n",
    "\n",
    "Think of a **module** as a small toolbox with a few specific tools inside.\n",
    "A **package** is like a big storage cabinet containing multiple toolboxes, each labeled for a different task.\n",
    "\n",
    "Instead of buying every tool separately (writing all code in one file), you can keep tools organized and only take the ones you need.\n"
   ]
  }
 ],
 "metadata": {
  "kernelspec": {
   "display_name": "ai",
   "language": "python",
   "name": "python3"
  },
  "language_info": {
   "codemirror_mode": {
    "name": "ipython",
    "version": 3
   },
   "file_extension": ".py",
   "mimetype": "text/x-python",
   "name": "python",
   "nbconvert_exporter": "python",
   "pygments_lexer": "ipython3",
   "version": "3.9.21"
  }
 },
 "nbformat": 4,
 "nbformat_minor": 5
}
