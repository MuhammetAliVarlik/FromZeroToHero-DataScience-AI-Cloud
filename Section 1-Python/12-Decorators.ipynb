{
 "cells": [
  {
   "cell_type": "markdown",
   "id": "ebbc8463",
   "metadata": {},
   "source": [
    "# Understanding Decorators in Python"
   ]
  },
  {
   "cell_type": "markdown",
   "id": "2d23b38a",
   "metadata": {},
   "source": [
    "Decorators are functions that modify or enhance other functions without changing their code directly.  \n",
    "They allow you to add extra behavior before and after a function runs, making your code cleaner and more reusable.  \n",
    "\n",
    "This example shows a simple decorator that prints messages before and after running the decorated function.  \n",
    "The `@decorator_name` syntax is a convenient way to apply decorators to functions.\n"
   ]
  },
  {
   "cell_type": "code",
   "execution_count": 1,
   "id": "2f4d8648",
   "metadata": {},
   "outputs": [],
   "source": [
    "# Define a decorator that wraps a function with extra print statements\n",
    "def simple_decorator(original_function):\n",
    "    def wrapper_function():\n",
    "        print(\"Before the function runs.\")  # Message before\n",
    "        original_function()                 # Call the original function\n",
    "        print(\"After the function runs.\")   # Message after\n",
    "    return wrapper_function"
   ]
  },
  {
   "cell_type": "code",
   "execution_count": 2,
   "id": "77fbe42a",
   "metadata": {},
   "outputs": [],
   "source": [
    "# Use the decorator with @ syntax to enhance say_hello\n",
    "@simple_decorator\n",
    "def say_hello():\n",
    "    print(\"Hello!\")"
   ]
  },
  {
   "cell_type": "code",
   "execution_count": 3,
   "id": "2d464a13",
   "metadata": {},
   "outputs": [
    {
     "name": "stdout",
     "output_type": "stream",
     "text": [
      "Before the function runs.\n",
      "Hello!\n",
      "After the function runs.\n"
     ]
    }
   ],
   "source": [
    "# Call the decorated function to see the effect\n",
    "say_hello()"
   ]
  },
  {
   "cell_type": "markdown",
   "id": "4edfbfe6",
   "metadata": {},
   "source": [
    "Think of a decorator like wrapping a gift: you put a nice wrapper (extra behavior) around the present (function) without changing the gift itself.  \n",
    "When you open the gift, you see the wrapping before and after the main item — similar to printing messages before and after a function runs.\n"
   ]
  }
 ],
 "metadata": {
  "kernelspec": {
   "display_name": "ai",
   "language": "python",
   "name": "python3"
  },
  "language_info": {
   "codemirror_mode": {
    "name": "ipython",
    "version": 3
   },
   "file_extension": ".py",
   "mimetype": "text/x-python",
   "name": "python",
   "nbconvert_exporter": "python",
   "pygments_lexer": "ipython3",
   "version": "3.9.21"
  }
 },
 "nbformat": 4,
 "nbformat_minor": 5
}
