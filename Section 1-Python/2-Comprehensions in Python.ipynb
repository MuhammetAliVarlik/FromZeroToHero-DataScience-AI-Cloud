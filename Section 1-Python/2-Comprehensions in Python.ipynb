{
 "cells": [
  {
   "cell_type": "markdown",
   "id": "60c8ea18",
   "metadata": {},
   "source": [
    "# Comprehensions in Python"
   ]
  },
  {
   "cell_type": "markdown",
   "id": "963d72a2",
   "metadata": {},
   "source": [
    "## 1 List Comprehensions\n",
    "\n",
    "List comprehensions provide a concise way to create lists.  \n",
    "They combine a loop and an optional condition into a single line, which makes your code shorter and easier to read.\n",
    "\n",
    "**Basic syntax:**\n",
    "\n",
    "```python\n",
    "[expression for item in iterable if condition]\n"
   ]
  },
  {
   "cell_type": "code",
   "execution_count": 1,
   "id": "1b4eb720",
   "metadata": {},
   "outputs": [
    {
     "name": "stdout",
     "output_type": "stream",
     "text": [
      "Squares: [1, 4, 9, 16]\n",
      "Odd numbers labeled: ['15: odd', '17: odd', '19: odd', '21: odd', '23: odd', '25: odd', '27: odd', '29: odd', '31: odd', '33: odd', '35: odd', '37: odd', '39: odd', '41: odd', '43: odd', '45: odd', '47: odd', '49: odd']\n",
      "Even or Odd labels: ['1: odd', '2: even', '3: odd', '4: even']\n"
     ]
    }
   ],
   "source": [
    "# Create a list of squares for numbers from 1 to 4\n",
    "squares = [x**2 for x in range(1, 5)]\n",
    "print(\"Squares:\", squares)\n",
    "\n",
    "# Create a list of odd numbers between 15 and 49 labeled with \"odd\"\n",
    "odds = [f\"{x}: odd\" for x in range(15, 50) if x % 2 != 0]\n",
    "print(\"Odd numbers labeled:\", odds)\n",
    "\n",
    "# Create a list labeling numbers 1 to 4 as \"even\" or \"odd\" using a conditional expression\n",
    "even_odd = [f\"{x}: even\" if x % 2 == 0 else f\"{x}: odd\" for x in range(1, 5)]\n",
    "print(\"Even or Odd labels:\", even_odd)"
   ]
  },
  {
   "cell_type": "markdown",
   "id": "19ba6bad",
   "metadata": {},
   "source": [
    "## 1.2 Dictionary Comprehensions\n",
    "\n",
    "Dictionary comprehensions allow you to quickly create or transform dictionaries using a similar concise syntax to list comprehensions.\n",
    "\n",
    "**Syntax example:**\n",
    "\n",
    "```python\n",
    "{key_expression: value_expression for item in iterable if condition}"
   ]
  },
  {
   "cell_type": "code",
   "execution_count": 2,
   "id": "a0b212bd",
   "metadata": {},
   "outputs": [
    {
     "name": "stdout",
     "output_type": "stream",
     "text": [
      "Squared values: {'a': 1, 'b': 4, 'c': 9, 'd': 16}\n",
      "Uppercase keys: {'A': 1, 'B': 2, 'C': 3, 'D': 4}\n",
      "Uppercase keys with doubled values: {'A': 2, 'B': 4, 'C': 6, 'D': 8}\n"
     ]
    }
   ],
   "source": [
    "# Original dictionary\n",
    "dictionary = {'a': 1, 'b': 2, 'c': 3, 'd': 4}\n",
    "\n",
    "# Create a new dictionary with squared values\n",
    "squared_dict = {k: v**2 for k, v in dictionary.items()}\n",
    "print(\"Squared values:\", squared_dict)\n",
    "\n",
    "# Create a new dictionary with keys in uppercase\n",
    "uppercase_keys = {k.upper(): v for k, v in dictionary.items()}\n",
    "print(\"Uppercase keys:\", uppercase_keys)\n",
    "\n",
    "# Create a new dictionary with uppercase keys and values doubled\n",
    "doubled_values = {k.upper(): v * 2 for k, v in dictionary.items()}\n",
    "print(\"Uppercase keys with doubled values:\", doubled_values)"
   ]
  },
  {
   "cell_type": "markdown",
   "id": "791fda48",
   "metadata": {},
   "source": [
    "# Real-World Analogy\n",
    "\n",
    "Think of list comprehensions like preparing a fruit salad by quickly picking and chopping fruits in one smooth step.\n",
    "\n",
    "Dictionary comprehensions are like labeling those fruits with their prices — all done efficiently without writing multiple lines for each task.\n"
   ]
  }
 ],
 "metadata": {
  "kernelspec": {
   "display_name": "ai",
   "language": "python",
   "name": "python3"
  },
  "language_info": {
   "codemirror_mode": {
    "name": "ipython",
    "version": 3
   },
   "file_extension": ".py",
   "mimetype": "text/x-python",
   "name": "python",
   "nbconvert_exporter": "python",
   "pygments_lexer": "ipython3",
   "version": "3.9.21"
  }
 },
 "nbformat": 4,
 "nbformat_minor": 5
}
