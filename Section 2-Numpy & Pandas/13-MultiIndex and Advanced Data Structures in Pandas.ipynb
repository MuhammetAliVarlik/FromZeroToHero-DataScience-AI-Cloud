{
 "cells": [
  {
   "cell_type": "markdown",
   "id": "ba0f421e",
   "metadata": {},
   "source": [
    "# MultiIndex and Advanced Data Structures in Pandas"
   ]
  },
  {
   "cell_type": "markdown",
   "id": "f1839c6e",
   "metadata": {},
   "source": [
    "A **MultiIndex** in Pandas allows you to have multiple levels of row or column labels, enabling the representation of higher-dimensional data in a 2D DataFrame.\n",
    "\n",
    "Advantages:\n",
    "- Organize complex datasets without converting them into multiple separate DataFrames.\n",
    "- Perform grouped operations more easily.\n",
    "- Access subsets of data using multiple keys.\n",
    "\n",
    "Key concepts:\n",
    "- Creating MultiIndex manually or from arrays/tuples.\n",
    "- Using `set_index()` to convert columns into a MultiIndex.\n",
    "- Accessing data with `.loc[]` and `.xs()` (cross-section).\n",
    "- Stacking/unstacking to reshape data.\n",
    "\n",
    "MultiIndex is useful in scenarios like time series with multiple categories, sales data per region and product, or experimental results from multiple trials."
   ]
  },
  {
   "cell_type": "code",
   "execution_count": 1,
   "id": "1dfbe4b8",
   "metadata": {},
   "outputs": [],
   "source": [
    "import pandas as pd\n",
    "import numpy as np"
   ]
  },
  {
   "cell_type": "code",
   "execution_count": 2,
   "id": "ae65c28a",
   "metadata": {},
   "outputs": [
    {
     "name": "stdout",
     "output_type": "stream",
     "text": [
      "MultiIndex DataFrame:\n",
      "                      Sales  Profit\n",
      "City        Product               \n",
      "New York    Apples     293      42\n",
      "            Oranges    281      85\n",
      "Los Angeles Apples     116      20\n",
      "            Oranges    287      17\n",
      "Chicago     Apples     125      22\n",
      "            Oranges    231      23\n"
     ]
    }
   ],
   "source": [
    "# Example sales data for different cities and products\n",
    "arrays = [\n",
    "    [\"New York\", \"New York\", \"Los Angeles\", \"Los Angeles\", \"Chicago\", \"Chicago\"],\n",
    "    [\"Apples\", \"Oranges\", \"Apples\", \"Oranges\", \"Apples\", \"Oranges\"]\n",
    "]\n",
    "\n",
    "# Create a MultiIndex from arrays\n",
    "multi_index = pd.MultiIndex.from_arrays(arrays, names=(\"City\", \"Product\"))\n",
    "\n",
    "# Create DataFrame with MultiIndex\n",
    "sales_data = pd.DataFrame({\n",
    "    \"Sales\": np.random.randint(100, 500, size=6),\n",
    "    \"Profit\": np.random.randint(10, 100, size=6)\n",
    "}, index=multi_index)\n",
    "\n",
    "print(\"MultiIndex DataFrame:\\n\", sales_data)"
   ]
  },
  {
   "cell_type": "code",
   "execution_count": 3,
   "id": "065bca1e",
   "metadata": {},
   "outputs": [
    {
     "name": "stdout",
     "output_type": "stream",
     "text": [
      "\n",
      "Sales in New York:\n",
      "          Sales  Profit\n",
      "Product               \n",
      "Apples     293      42\n",
      "Oranges    281      85\n"
     ]
    }
   ],
   "source": [
    "# Access all sales in New York\n",
    "print(\"\\nSales in New York:\\n\", sales_data.loc[\"New York\"])"
   ]
  },
  {
   "cell_type": "code",
   "execution_count": 4,
   "id": "2f19bc4c",
   "metadata": {},
   "outputs": [
    {
     "name": "stdout",
     "output_type": "stream",
     "text": [
      "\n",
      "Apples Sales Across Cities:\n",
      "              Sales  Profit\n",
      "City                      \n",
      "New York       293      42\n",
      "Los Angeles    116      20\n",
      "Chicago        125      22\n"
     ]
    }
   ],
   "source": [
    "# Access only 'Apples' sales across all cities\n",
    "print(\"\\nApples Sales Across Cities:\\n\", sales_data.xs(\"Apples\", level=\"Product\"))"
   ]
  },
  {
   "cell_type": "code",
   "execution_count": 5,
   "id": "660aac90",
   "metadata": {},
   "outputs": [
    {
     "name": "stdout",
     "output_type": "stream",
     "text": [
      "\n",
      "Stacked Data:\n",
      " City         Product        \n",
      "New York     Apples   Sales     293\n",
      "                      Profit     42\n",
      "             Oranges  Sales     281\n",
      "                      Profit     85\n",
      "Los Angeles  Apples   Sales     116\n",
      "                      Profit     20\n",
      "             Oranges  Sales     287\n",
      "                      Profit     17\n",
      "Chicago      Apples   Sales     125\n",
      "                      Profit     22\n",
      "             Oranges  Sales     231\n",
      "                      Profit     23\n",
      "dtype: int32\n",
      "\n",
      "Unstacked Data:\n",
      "              Sales         Profit        \n",
      "Product     Apples Oranges Apples Oranges\n",
      "City                                     \n",
      "Chicago        125     231     22      23\n",
      "Los Angeles    116     287     20      17\n",
      "New York       293     281     42      85\n"
     ]
    }
   ],
   "source": [
    "# Stack and unstack\n",
    "stacked = sales_data.stack()\n",
    "print(\"\\nStacked Data:\\n\", stacked)\n",
    "\n",
    "unstacked = sales_data.unstack()\n",
    "print(\"\\nUnstacked Data:\\n\", unstacked)"
   ]
  },
  {
   "cell_type": "code",
   "execution_count": 6,
   "id": "b6babc41",
   "metadata": {},
   "outputs": [
    {
     "name": "stdout",
     "output_type": "stream",
     "text": [
      "\n",
      "DataFrame with Reset Index:\n",
      "           City  Product  Sales  Profit\n",
      "0     New York   Apples    293      42\n",
      "1     New York  Oranges    281      85\n",
      "2  Los Angeles   Apples    116      20\n",
      "3  Los Angeles  Oranges    287      17\n",
      "4      Chicago   Apples    125      22\n",
      "5      Chicago  Oranges    231      23\n"
     ]
    }
   ],
   "source": [
    "# Reset index to turn MultiIndex back into columns\n",
    "reset_df = sales_data.reset_index()\n",
    "print(\"\\nDataFrame with Reset Index:\\n\", reset_df)"
   ]
  },
  {
   "cell_type": "markdown",
   "id": "c62b2fea",
   "metadata": {},
   "source": [
    "# Real-World Analogy: Library Catalog System\n",
    "\n",
    "Think of a MultiIndex like organizing books in a library:\n",
    "- **Level 1 (City)**: The branch of the library (New York, Los Angeles, Chicago).\n",
    "- **Level 2 (Product)**: The category of the books (Fiction, Non-fiction).\n",
    "\n",
    "This two-level labeling lets you quickly find:\n",
    "- All books in a specific branch.\n",
    "- All books in a certain category across all branches.\n"
   ]
  }
 ],
 "metadata": {
  "kernelspec": {
   "display_name": "ai",
   "language": "python",
   "name": "python3"
  },
  "language_info": {
   "codemirror_mode": {
    "name": "ipython",
    "version": 3
   },
   "file_extension": ".py",
   "mimetype": "text/x-python",
   "name": "python",
   "nbconvert_exporter": "python",
   "pygments_lexer": "ipython3",
   "version": "3.9.21"
  }
 },
 "nbformat": 4,
 "nbformat_minor": 5
}
