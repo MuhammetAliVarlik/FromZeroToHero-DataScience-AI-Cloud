{
 "cells": [
  {
   "cell_type": "markdown",
   "id": "dd63f8d0",
   "metadata": {},
   "source": [
    "# Time Series and Date Handling in Pandas"
   ]
  },
  {
   "cell_type": "markdown",
   "id": "734db2dd",
   "metadata": {},
   "source": [
    "Pandas provides powerful tools for working with **time series data** and dates.\n",
    "\n",
    "Key features include:\n",
    "- Creating date ranges with `pd.date_range()`.\n",
    "- Converting strings to datetime objects with `pd.to_datetime()`.\n",
    "- Extracting date components (year, month, day, etc.).\n",
    "- Resampling data to different frequencies (daily, monthly, yearly).\n",
    "- Shifting and rolling time windows for moving averages or lag analysis.\n",
    "\n",
    "Time series handling is useful for financial data, sensor readings, sales tracking, and any dataset indexed by time.\n"
   ]
  },
  {
   "cell_type": "code",
   "execution_count": 1,
   "id": "1bf32994",
   "metadata": {},
   "outputs": [],
   "source": [
    "import pandas as pd\n",
    "import numpy as np"
   ]
  },
  {
   "cell_type": "code",
   "execution_count": 2,
   "id": "3373fef3",
   "metadata": {},
   "outputs": [
    {
     "name": "stdout",
     "output_type": "stream",
     "text": [
      "Date Range:\n",
      " DatetimeIndex(['2025-01-01', '2025-01-02', '2025-01-03', '2025-01-04',\n",
      "               '2025-01-05', '2025-01-06', '2025-01-07'],\n",
      "              dtype='datetime64[ns]', freq='D')\n"
     ]
    }
   ],
   "source": [
    "# Create a date range\n",
    "dates = pd.date_range(start=\"2025-01-01\", periods=7, freq=\"D\")\n",
    "print(\"Date Range:\\n\", dates)"
   ]
  },
  {
   "cell_type": "code",
   "execution_count": 3,
   "id": "1e332c80",
   "metadata": {},
   "outputs": [
    {
     "name": "stdout",
     "output_type": "stream",
     "text": [
      "\n",
      "Time Series DataFrame:\n",
      "             Sales\n",
      "2025-01-01    849\n",
      "2025-01-02    259\n",
      "2025-01-03    955\n",
      "2025-01-04    930\n",
      "2025-01-05    984\n",
      "2025-01-06    693\n",
      "2025-01-07    925\n"
     ]
    }
   ],
   "source": [
    "# Create a DataFrame with random values indexed by dates\n",
    "time_series_df = pd.DataFrame({\n",
    "    \"Sales\": np.random.randint(100, 1000, size=7)\n",
    "}, index=dates)\n",
    "print(\"\\nTime Series DataFrame:\\n\", time_series_df)"
   ]
  },
  {
   "cell_type": "code",
   "execution_count": 4,
   "id": "c59b9833",
   "metadata": {},
   "outputs": [
    {
     "name": "stdout",
     "output_type": "stream",
     "text": [
      "\n",
      "Converted String Dates:\n",
      " 0   2025-02-01\n",
      "1   2025-02-05\n",
      "2   2025-02-10\n",
      "dtype: datetime64[ns]\n"
     ]
    }
   ],
   "source": [
    "# Convert a string column to datetime\n",
    "string_dates = pd.Series([\"2025-02-01\", \"2025-02-05\", \"2025-02-10\"])\n",
    "converted_dates = pd.to_datetime(string_dates)\n",
    "print(\"\\nConverted String Dates:\\n\", converted_dates)"
   ]
  },
  {
   "cell_type": "code",
   "execution_count": 5,
   "id": "699689e7",
   "metadata": {},
   "outputs": [
    {
     "name": "stdout",
     "output_type": "stream",
     "text": [
      "\n",
      "Years: [2025, 2025, 2025]\n",
      "Months: [2, 2, 2]\n",
      "Days: [1, 5, 10]\n"
     ]
    }
   ],
   "source": [
    "# Extract year, month, day\n",
    "print(\"\\nYears:\", converted_dates.dt.year.tolist())\n",
    "print(\"Months:\", converted_dates.dt.month.tolist())\n",
    "print(\"Days:\", converted_dates.dt.day.tolist())"
   ]
  },
  {
   "cell_type": "code",
   "execution_count": 6,
   "id": "edda80db",
   "metadata": {},
   "outputs": [
    {
     "name": "stdout",
     "output_type": "stream",
     "text": [
      "\n",
      "Weekly Sales (Summed):\n",
      "             Sales\n",
      "2025-01-05   3977\n",
      "2025-01-12   1618\n"
     ]
    }
   ],
   "source": [
    "# Resample to weekly frequency (sum of sales)\n",
    "weekly_sales = time_series_df.resample(\"W\").sum()\n",
    "print(\"\\nWeekly Sales (Summed):\\n\", weekly_sales)"
   ]
  },
  {
   "cell_type": "code",
   "execution_count": 7,
   "id": "d921b485",
   "metadata": {},
   "outputs": [
    {
     "name": "stdout",
     "output_type": "stream",
     "text": [
      "\n",
      "Shifted Sales by 1 Day:\n",
      "             Sales\n",
      "2025-01-01    NaN\n",
      "2025-01-02  849.0\n",
      "2025-01-03  259.0\n",
      "2025-01-04  955.0\n",
      "2025-01-05  930.0\n",
      "2025-01-06  984.0\n",
      "2025-01-07  693.0\n"
     ]
    }
   ],
   "source": [
    "# Shift sales by 1 day (lag)\n",
    "shifted_sales = time_series_df.shift(1)\n",
    "print(\"\\nShifted Sales by 1 Day:\\n\", shifted_sales)"
   ]
  },
  {
   "cell_type": "code",
   "execution_count": 8,
   "id": "b81732e4",
   "metadata": {},
   "outputs": [
    {
     "name": "stdout",
     "output_type": "stream",
     "text": [
      "\n",
      "3-Day Rolling Average:\n",
      "                  Sales\n",
      "2025-01-01         NaN\n",
      "2025-01-02         NaN\n",
      "2025-01-03  687.666667\n",
      "2025-01-04  714.666667\n",
      "2025-01-05  956.333333\n",
      "2025-01-06  869.000000\n",
      "2025-01-07  867.333333\n"
     ]
    }
   ],
   "source": [
    "# Rolling mean (3-day moving average)\n",
    "rolling_avg = time_series_df.rolling(window=3).mean()\n",
    "print(\"\\n3-Day Rolling Average:\\n\", rolling_avg)"
   ]
  },
  {
   "cell_type": "markdown",
   "id": "d375a75b",
   "metadata": {},
   "source": [
    "# Real-World Analogy: Daily Temperature Logs\n",
    "\n",
    "Imagine you record the temperature every day.\n",
    "- You can **resample** to calculate the average temperature per week.\n",
    "- You can **shift** data to compare today's temperature with yesterday's.\n",
    "- You can use a **rolling average** to smooth out short-term fluctuations.\n",
    "\n",
    "This is exactly what Pandas does for any kind of time-based data.\n"
   ]
  }
 ],
 "metadata": {
  "kernelspec": {
   "display_name": "ai",
   "language": "python",
   "name": "python3"
  },
  "language_info": {
   "codemirror_mode": {
    "name": "ipython",
    "version": 3
   },
   "file_extension": ".py",
   "mimetype": "text/x-python",
   "name": "python",
   "nbconvert_exporter": "python",
   "pygments_lexer": "ipython3",
   "version": "3.9.21"
  }
 },
 "nbformat": 4,
 "nbformat_minor": 5
}
