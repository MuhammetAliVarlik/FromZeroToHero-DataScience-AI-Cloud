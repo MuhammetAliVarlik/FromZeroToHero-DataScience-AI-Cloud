{
 "cells": [
  {
   "cell_type": "markdown",
   "id": "b05a2d1c",
   "metadata": {},
   "source": [
    "# NumPy Performance Techniques and Broadcasting"
   ]
  },
  {
   "cell_type": "markdown",
   "id": "ecd68011",
   "metadata": {},
   "source": [
    "NumPy is designed for fast and efficient numerical computing. Two key features that help boost performance are:\n",
    "\n",
    "- **Vectorization:** Performing operations on entire arrays at once, instead of looping through elements one by one. This leverages optimized C code underneath.\n",
    "  \n",
    "- **Broadcasting:** A powerful mechanism that allows NumPy to perform arithmetic operations on arrays of different shapes by \"stretching\" smaller arrays to match larger ones without making copies of data.\n",
    "\n",
    "Using these techniques reduces the need for explicit loops, resulting in cleaner and faster code.\n"
   ]
  },
  {
   "cell_type": "code",
   "execution_count": 1,
   "id": "6b782643",
   "metadata": {},
   "outputs": [],
   "source": [
    "import numpy as np"
   ]
  },
  {
   "cell_type": "code",
   "execution_count": 2,
   "id": "c16715cd",
   "metadata": {},
   "outputs": [
    {
     "name": "stdout",
     "output_type": "stream",
     "text": [
      "Element-wise addition: [11 22 33 44]\n"
     ]
    }
   ],
   "source": [
    "# Vectorized operation example: adding two arrays element-wise\n",
    "arr1 = np.array([1, 2, 3, 4])\n",
    "arr2 = np.array([10, 20, 30, 40])\n",
    "\n",
    "result = arr1 + arr2\n",
    "print(\"Element-wise addition:\", result)"
   ]
  },
  {
   "cell_type": "code",
   "execution_count": 3,
   "id": "6488d57d",
   "metadata": {},
   "outputs": [],
   "source": [
    "# Without vectorization, you'd need loops like this (inefficient):\n",
    "# for i in range(len(arr1)):\n",
    "#     result[i] = arr1[i] + arr2[i]"
   ]
  },
  {
   "cell_type": "code",
   "execution_count": 4,
   "id": "7be9c4c2",
   "metadata": {},
   "outputs": [
    {
     "name": "stdout",
     "output_type": "stream",
     "text": [
      "Broadcasted addition result:\n",
      " [[11 12 13]\n",
      " [21 22 23]\n",
      " [31 32 33]]\n"
     ]
    }
   ],
   "source": [
    "# Broadcasting example\n",
    "a = np.array([1, 2, 3])\n",
    "b = np.array([[10], [20], [30]])\n",
    "\n",
    "# 'a' shape: (3,)\n",
    "# 'b' shape: (3,1)\n",
    "\n",
    "# When adding, 'a' is broadcasted to shape (3,3) to match 'b'\n",
    "broadcast_result = b + a\n",
    "print(\"Broadcasted addition result:\\n\", broadcast_result)"
   ]
  },
  {
   "cell_type": "code",
   "execution_count": 5,
   "id": "c09118a4",
   "metadata": {},
   "outputs": [
    {
     "name": "stdout",
     "output_type": "stream",
     "text": [
      "Broadcasted multiplication:\n",
      " [[ 10  40  90]\n",
      " [ 40 100 180]]\n"
     ]
    }
   ],
   "source": [
    "# Another example: multiply a 2D array by a 1D array along columns\n",
    "matrix = np.array([[1, 2, 3],\n",
    "                   [4, 5, 6]])\n",
    "scalars = np.array([10, 20, 30])\n",
    "\n",
    "multiplied = matrix * scalars  # scalars broadcasted to each row\n",
    "print(\"Broadcasted multiplication:\\n\", multiplied)"
   ]
  },
  {
   "cell_type": "markdown",
   "id": "1b7c5287",
   "metadata": {},
   "source": [
    "# Real-World Analogy: Applying Discounts in a Store\n",
    "\n",
    "Imagine you have a list of product prices and a list of discount percentages for each category.\n",
    "\n",
    "- **Vectorization** is like applying the discount to every price at once instead of calculating one by one.\n",
    "- **Broadcasting** is like applying the same discount list to multiple stores with different prices — the discounts \"stretch\" to fit the prices automatically.\n",
    "\n",
    "This approach saves time and effort when dealing with many products or stores.\n"
   ]
  }
 ],
 "metadata": {
  "kernelspec": {
   "display_name": "ai",
   "language": "python",
   "name": "python3"
  },
  "language_info": {
   "codemirror_mode": {
    "name": "ipython",
    "version": 3
   },
   "file_extension": ".py",
   "mimetype": "text/x-python",
   "name": "python",
   "nbconvert_exporter": "python",
   "pygments_lexer": "ipython3",
   "version": "3.9.21"
  }
 },
 "nbformat": 4,
 "nbformat_minor": 5
}
