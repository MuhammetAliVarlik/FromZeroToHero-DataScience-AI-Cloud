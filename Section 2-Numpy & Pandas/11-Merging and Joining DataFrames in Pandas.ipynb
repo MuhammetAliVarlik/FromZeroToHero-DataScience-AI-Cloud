{
 "cells": [
  {
   "cell_type": "markdown",
   "id": "6a2eb81b",
   "metadata": {},
   "source": [
    "# Merging and Joining DataFrames in Pandas"
   ]
  },
  {
   "cell_type": "markdown",
   "id": "817c5f2b",
   "metadata": {},
   "source": [
    "In Pandas, merging and joining allow you to combine multiple DataFrames into one, much like SQL joins.\n",
    "\n",
    "**Key Methods:**\n",
    "- **`pd.merge()`**: Combines DataFrames based on a common column(s) or index.\n",
    "- **`.join()`**: Joins DataFrames using their index or a key column.\n",
    "- **Concatenation (`pd.concat`)**: Stacks DataFrames vertically or horizontally without matching on keys.\n",
    "\n",
    "**Common join types:**\n",
    "- **Inner Join**: Keeps only matching rows in both DataFrames.\n",
    "- **Outer Join**: Keeps all rows, filling missing values with `NaN`.\n",
    "- **Left Join**: Keeps all rows from the left DataFrame and matching ones from the right.\n",
    "- **Right Join**: Keeps all rows from the right DataFrame and matching ones from the left.\n"
   ]
  },
  {
   "cell_type": "markdown",
   "id": "56baa419",
   "metadata": {},
   "source": [
    "![title](https://statisticsglobe.com/wp-content/uploads/2021/12/join-types-python-merge-programming.png)"
   ]
  },
  {
   "cell_type": "code",
   "execution_count": 1,
   "id": "f5dc31a1",
   "metadata": {},
   "outputs": [],
   "source": [
    "import pandas as pd"
   ]
  },
  {
   "cell_type": "code",
   "execution_count": 2,
   "id": "5643916a",
   "metadata": {},
   "outputs": [
    {
     "name": "stdout",
     "output_type": "stream",
     "text": [
      "Employees DataFrame:\n",
      "    EmployeeID    Name  DepartmentID\n",
      "0           1  Hayley           101\n",
      "1           2  Taylor           101\n",
      "2           3  Claire           102\n",
      "3           4  Aurora           103\n",
      "\n",
      "Departments DataFrame:\n",
      "    DepartmentID DepartmentName\n",
      "0           101          Music\n",
      "1           102        Finance\n",
      "2           104             IT\n"
     ]
    }
   ],
   "source": [
    "# Sample data for merging\n",
    "employees = pd.DataFrame({\n",
    "    \"EmployeeID\": [1, 2, 3, 4],\n",
    "    \"Name\": [\"Hayley\", \"Taylor\", \"Claire\", \"Aurora\"],\n",
    "    \"DepartmentID\": [101, 101, 102, 103]\n",
    "})\n",
    "\n",
    "departments = pd.DataFrame({\n",
    "    \"DepartmentID\": [101, 102, 104],\n",
    "    \"DepartmentName\": [\"Music\", \"Finance\", \"IT\"]\n",
    "})\n",
    "\n",
    "print(\"Employees DataFrame:\\n\", employees)\n",
    "print(\"\\nDepartments DataFrame:\\n\", departments)"
   ]
  },
  {
   "cell_type": "code",
   "execution_count": 3,
   "id": "e72ecf2d",
   "metadata": {},
   "outputs": [
    {
     "name": "stdout",
     "output_type": "stream",
     "text": [
      "\n",
      "Inner Join Result:\n",
      "    EmployeeID    Name  DepartmentID DepartmentName\n",
      "0           1  Hayley           101          Music\n",
      "1           2  Taylor           101          Music\n",
      "2           3  Claire           102        Finance\n"
     ]
    }
   ],
   "source": [
    "# 1. Inner Join (only matching DepartmentIDs)\n",
    "inner_join = pd.merge(employees, departments, on=\"DepartmentID\", how=\"inner\")\n",
    "print(\"\\nInner Join Result:\\n\", inner_join)"
   ]
  },
  {
   "cell_type": "code",
   "execution_count": 4,
   "id": "bd4f7750",
   "metadata": {},
   "outputs": [
    {
     "name": "stdout",
     "output_type": "stream",
     "text": [
      "\n",
      "Left Join Result:\n",
      "    EmployeeID    Name  DepartmentID DepartmentName\n",
      "0           1  Hayley           101          Music\n",
      "1           2  Taylor           101          Music\n",
      "2           3  Claire           102        Finance\n",
      "3           4  Aurora           103            NaN\n"
     ]
    }
   ],
   "source": [
    "# 2. Left Join (all employees, matching departments)\n",
    "left_join = pd.merge(employees, departments, on=\"DepartmentID\", how=\"left\")\n",
    "print(\"\\nLeft Join Result:\\n\", left_join)"
   ]
  },
  {
   "cell_type": "code",
   "execution_count": 5,
   "id": "cb4ea9ab",
   "metadata": {},
   "outputs": [
    {
     "name": "stdout",
     "output_type": "stream",
     "text": [
      "\n",
      "Right Join Result:\n",
      "    EmployeeID    Name  DepartmentID DepartmentName\n",
      "0         1.0  Hayley           101          Music\n",
      "1         2.0  Taylor           101          Music\n",
      "2         3.0  Claire           102        Finance\n",
      "3         NaN     NaN           104             IT\n"
     ]
    }
   ],
   "source": [
    "# 3. Right Join (all departments, matching employees)\n",
    "right_join = pd.merge(employees, departments, on=\"DepartmentID\", how=\"right\")\n",
    "print(\"\\nRight Join Result:\\n\", right_join)"
   ]
  },
  {
   "cell_type": "code",
   "execution_count": 6,
   "id": "3d1b7b97",
   "metadata": {},
   "outputs": [
    {
     "name": "stdout",
     "output_type": "stream",
     "text": [
      "\n",
      "Outer Join Result:\n",
      "    EmployeeID    Name  DepartmentID DepartmentName\n",
      "0         1.0  Hayley           101          Music\n",
      "1         2.0  Taylor           101          Music\n",
      "2         3.0  Claire           102        Finance\n",
      "3         4.0  Aurora           103            NaN\n",
      "4         NaN     NaN           104             IT\n"
     ]
    }
   ],
   "source": [
    "# 4. Outer Join (all rows from both DataFrames)\n",
    "outer_join = pd.merge(employees, departments, on=\"DepartmentID\", how=\"outer\")\n",
    "print(\"\\nOuter Join Result:\\n\", outer_join)"
   ]
  },
  {
   "cell_type": "code",
   "execution_count": 7,
   "id": "2d584ecf",
   "metadata": {},
   "outputs": [
    {
     "name": "stdout",
     "output_type": "stream",
     "text": [
      "\n",
      "Join on Index Result:\n",
      "               Name  DepartmentID  Salary\n",
      "EmployeeID                              \n",
      "1           Hayley           101   50000\n",
      "2           Taylor           101   60000\n",
      "3           Claire           102   70000\n"
     ]
    }
   ],
   "source": [
    "# 5. Joining on index\n",
    "df1 = employees.set_index(\"EmployeeID\")\n",
    "df2 = pd.DataFrame({\n",
    "    \"EmployeeID\": [1, 2, 3, 5],\n",
    "    \"Salary\": [50000, 60000, 70000, 80000]\n",
    "}).set_index(\"EmployeeID\")\n",
    "\n",
    "index_join = df1.join(df2, how=\"inner\")\n",
    "print(\"\\nJoin on Index Result:\\n\", index_join)"
   ]
  },
  {
   "cell_type": "markdown",
   "id": "ac10c376",
   "metadata": {},
   "source": [
    "# Real-World Analogy: Phonebook and Address List\n",
    "\n",
    "Imagine you have:\n",
    "- **List A**: Names and phone numbers of people.\n",
    "- **List B**: Names and addresses.\n",
    "\n",
    "If you **inner join**, you keep only people present in both lists.\n",
    "If you **left join**, you keep everyone from List A and add their address if available.\n",
    "If you **outer join**, you keep everyone from both lists, even if some information is missing.\n",
    "\n",
    "This is similar to merging DataFrames in Pandas where rows are matched based on a common key.\n"
   ]
  }
 ],
 "metadata": {
  "kernelspec": {
   "display_name": "ai",
   "language": "python",
   "name": "python3"
  },
  "language_info": {
   "codemirror_mode": {
    "name": "ipython",
    "version": 3
   },
   "file_extension": ".py",
   "mimetype": "text/x-python",
   "name": "python",
   "nbconvert_exporter": "python",
   "pygments_lexer": "ipython3",
   "version": "3.9.21"
  }
 },
 "nbformat": 4,
 "nbformat_minor": 5
}
