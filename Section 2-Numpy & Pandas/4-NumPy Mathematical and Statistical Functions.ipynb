{
 "cells": [
  {
   "cell_type": "markdown",
   "id": "6b9a5482",
   "metadata": {},
   "source": [
    "# NumPy Mathematical and Statistical Functions"
   ]
  },
  {
   "cell_type": "markdown",
   "id": "a8cf8592",
   "metadata": {},
   "source": [
    "NumPy offers a wide range of mathematical and statistical functions to perform calculations efficiently on arrays. These include:\n",
    "\n",
    "- **Mathematical operations:** such as element-wise addition, multiplication, exponentiation, and trigonometric functions.\n",
    "- **Statistical measures:** like mean, sum, variance, and standard deviation.\n",
    "- **Linear algebra:** for solving systems of equations and matrix operations.\n",
    "\n",
    "These functions allow you to perform complex numerical computations with just a few lines of code.\n"
   ]
  },
  {
   "cell_type": "code",
   "execution_count": 1,
   "id": "0ecca78a",
   "metadata": {},
   "outputs": [],
   "source": [
    "import numpy as np"
   ]
  },
  {
   "cell_type": "code",
   "execution_count": 2,
   "id": "55745b96",
   "metadata": {},
   "outputs": [],
   "source": [
    "# Define two vectors for operations\n",
    "vec1 = np.array([1, 2, 3])\n",
    "vec2 = np.array([4, 5, 6])"
   ]
  },
  {
   "cell_type": "code",
   "execution_count": 3,
   "id": "9d50bfb6",
   "metadata": {},
   "outputs": [
    {
     "name": "stdout",
     "output_type": "stream",
     "text": [
      "Addition: [5 7 9]\n",
      "Subtraction: [3 3 3]\n",
      "Multiplication: [ 4 10 18]\n",
      "Division: [4.  2.5 2. ]\n",
      "Floor Division: [4 2 2]\n",
      "Modulus: [0 1 0]\n",
      "Exponentiation: [  4  25 216]\n"
     ]
    }
   ],
   "source": [
    "\n",
    "\n",
    "# Mathematical operations\n",
    "print(\"Addition:\", vec1 + vec2)           # Element-wise addition\n",
    "print(\"Subtraction:\", vec2 - vec1)        # Element-wise subtraction\n",
    "print(\"Multiplication:\", vec1 * vec2)     # Element-wise multiplication\n",
    "print(\"Division:\", vec2 / vec1)            # Element-wise division\n",
    "print(\"Floor Division:\", vec2 // vec1)    # Element-wise floor division\n",
    "print(\"Modulus:\", vec2 % vec1)             # Element-wise modulus\n",
    "print(\"Exponentiation:\", vec2 ** vec1)    # Element-wise exponentiation"
   ]
  },
  {
   "cell_type": "code",
   "execution_count": 4,
   "id": "30d9acf6",
   "metadata": {},
   "outputs": [
    {
     "name": "stdout",
     "output_type": "stream",
     "text": [
      "Exponential of vec1: [ 2.71828183  7.3890561  20.08553692]\n",
      "Logarithm of (1 + vec2): [1.60943791 1.79175947 1.94591015]\n",
      "Cosine of vec1: [ 0.54030231 -0.41614684 -0.9899925 ]\n",
      "Square root of vec1: [1.         1.41421356 1.73205081]\n"
     ]
    }
   ],
   "source": [
    "print(\"Exponential of vec1:\", np.exp(vec1))   # Exponentiation e^x\n",
    "print(\"Logarithm of (1 + vec2):\", np.log1p(vec2))  # log(1 + x)\n",
    "print(\"Cosine of vec1:\", np.cos(vec1))       # Cosine function\n",
    "print(\"Square root of vec1:\", np.sqrt(vec1)) # Square root"
   ]
  },
  {
   "cell_type": "code",
   "execution_count": 5,
   "id": "707fa0c9",
   "metadata": {},
   "outputs": [
    {
     "name": "stdout",
     "output_type": "stream",
     "text": [
      "Ceil of exp(vec1): [ 3.  8. 21.]\n",
      "Floor of exp(vec1): [ 2.  7. 20.]\n",
      "Rounded exp(vec1): [ 3.  7. 20.]\n"
     ]
    }
   ],
   "source": [
    "print(\"Ceil of exp(vec1):\", np.ceil(np.exp(vec1)))   # Ceiling values\n",
    "print(\"Floor of exp(vec1):\", np.floor(np.exp(vec1))) # Floor values\n",
    "print(\"Rounded exp(vec1):\", np.round(np.exp(vec1)))  # Rounded values"
   ]
  },
  {
   "cell_type": "code",
   "execution_count": 6,
   "id": "45b918a4",
   "metadata": {},
   "outputs": [
    {
     "name": "stdout",
     "output_type": "stream",
     "text": [
      "Absolute values: [1 5 0 5 1]\n"
     ]
    }
   ],
   "source": [
    "print(\"Absolute values:\", np.abs(np.array([-1, -5, 0, 5, 1])))"
   ]
  },
  {
   "cell_type": "code",
   "execution_count": 7,
   "id": "74587851",
   "metadata": {},
   "outputs": [
    {
     "name": "stdout",
     "output_type": "stream",
     "text": [
      "Mean of vec1: 2.0\n",
      "Sum of vec1: 6\n",
      "Max of vec1: 3\n",
      "Min of vec1: 1\n",
      "Variance of vec1: 0.6666666666666666\n",
      "Standard deviation of vec1: 0.816496580927726\n",
      "Correlation coefficient matrix:\n",
      " 1.0\n"
     ]
    }
   ],
   "source": [
    "# Statistical functions\n",
    "print(\"Mean of vec1:\", np.mean(vec1))\n",
    "print(\"Sum of vec1:\", vec1.sum())\n",
    "print(\"Max of vec1:\", vec1.max())\n",
    "print(\"Min of vec1:\", vec1.min())\n",
    "print(\"Variance of vec1:\", np.var(vec1))\n",
    "print(\"Standard deviation of vec1:\", np.std(vec1))\n",
    "print(\"Correlation coefficient matrix:\\n\", np.corrcoef(vec1))"
   ]
  },
  {
   "cell_type": "code",
   "execution_count": 8,
   "id": "ad18233a",
   "metadata": {},
   "outputs": [
    {
     "name": "stdout",
     "output_type": "stream",
     "text": [
      "Solution of the system: [4.75862069 2.4137931 ]\n"
     ]
    }
   ],
   "source": [
    "# Linear algebra: solving a system of linear equations\n",
    "# System of equations:\n",
    "# 10*x0 + 1*x1 = 50\n",
    "# 1*x0 + 3*x1 = 12\n",
    "\n",
    "coefficients = np.array([[10, 1], [1, 3]])\n",
    "constants = np.array([50, 12])\n",
    "\n",
    "solution = np.linalg.solve(coefficients, constants)\n",
    "print(\"Solution of the system:\", solution)"
   ]
  },
  {
   "cell_type": "markdown",
   "id": "9988b185",
   "metadata": {},
   "source": [
    "# Real-World Analogy: Analyzing Sports Performance\n",
    "\n",
    "- Mathematical operations are like calculating scores and ratios between players.\n",
    "- Statistical functions help summarize player performance, such as average points or consistency.\n",
    "- Linear algebra can be used to solve tactical problems, such as finding the best combination of players given constraints.\n",
    "\n",
    "NumPy makes these calculations fast and easy to manage.\n"
   ]
  }
 ],
 "metadata": {
  "kernelspec": {
   "display_name": "ai",
   "language": "python",
   "name": "python3"
  },
  "language_info": {
   "codemirror_mode": {
    "name": "ipython",
    "version": 3
   },
   "file_extension": ".py",
   "mimetype": "text/x-python",
   "name": "python",
   "nbconvert_exporter": "python",
   "pygments_lexer": "ipython3",
   "version": "3.9.21"
  }
 },
 "nbformat": 4,
 "nbformat_minor": 5
}
