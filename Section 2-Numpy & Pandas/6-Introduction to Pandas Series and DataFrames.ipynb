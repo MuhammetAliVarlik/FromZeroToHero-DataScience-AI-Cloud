{
 "cells": [
  {
   "cell_type": "markdown",
   "id": "7752cc62",
   "metadata": {},
   "source": [
    "# Introduction to Pandas Series and DataFrames"
   ]
  },
  {
   "cell_type": "markdown",
   "id": "eb1c98f4",
   "metadata": {},
   "source": [
    "Pandas is a powerful Python library for data analysis and manipulation. Two of its main data structures are:\n",
    "\n",
    "- **Series:** A one-dimensional labeled array that can hold any data type (numbers, strings, etc.). It’s like a column in a spreadsheet or a database table with an index.\n",
    "\n",
    "- **DataFrame:** A two-dimensional labeled data structure with columns of potentially different types. Think of it as a table or spreadsheet with rows and columns, where each column is a Series.\n",
    "\n",
    "Pandas makes it easy to load, explore, clean, and analyze structured data.\n"
   ]
  },
  {
   "cell_type": "code",
   "execution_count": 1,
   "id": "6a701e2b",
   "metadata": {},
   "outputs": [],
   "source": [
    "import pandas as pd"
   ]
  },
  {
   "cell_type": "code",
   "execution_count": 2,
   "id": "13af27d1",
   "metadata": {},
   "outputs": [
    {
     "name": "stdout",
     "output_type": "stream",
     "text": [
      "Series:\n",
      " 0    10\n",
      "1    20\n",
      "2    30\n",
      "3    40\n",
      "4    50\n",
      "dtype: int64\n"
     ]
    }
   ],
   "source": [
    "# Create a Series from a list\n",
    "numbers = pd.Series([10, 20, 30, 40, 50])\n",
    "print(\"Series:\\n\", numbers)"
   ]
  },
  {
   "cell_type": "code",
   "execution_count": 3,
   "id": "4187ba3d",
   "metadata": {},
   "outputs": [
    {
     "name": "stdout",
     "output_type": "stream",
     "text": [
      "\n",
      "DataFrame:\n",
      "      Name  Age         City\n",
      "0  Arthur   35     New York\n",
      "1  Billie   18      Chicago\n",
      "2  Claire   22  Los Angeles\n"
     ]
    }
   ],
   "source": [
    "# Create a DataFrame from a dictionary\n",
    "data = {\n",
    "    \"Name\": [\"Arthur\", \"Billie\", \"Claire\"],\n",
    "    \"Age\": [35, 18, 22],\n",
    "    \"City\": [\"New York\",\"Chicago\",\"Los Angeles\"]\n",
    "}\n",
    "\n",
    "df = pd.DataFrame(data)\n",
    "print(\"\\nDataFrame:\\n\", df)"
   ]
  },
  {
   "cell_type": "code",
   "execution_count": 4,
   "id": "e4add6fd",
   "metadata": {},
   "outputs": [
    {
     "name": "stdout",
     "output_type": "stream",
     "text": [
      "\n",
      "Series values: [10 20 30 40 50]\n",
      "Series index: RangeIndex(start=0, stop=5, step=1)\n"
     ]
    }
   ],
   "source": [
    "# Access Series values and index\n",
    "print(\"\\nSeries values:\", numbers.values)\n",
    "print(\"Series index:\", numbers.index)"
   ]
  },
  {
   "cell_type": "code",
   "execution_count": 5,
   "id": "f6fd9ac2",
   "metadata": {},
   "outputs": [
    {
     "name": "stdout",
     "output_type": "stream",
     "text": [
      "\n",
      "DataFrame 'Age' column:\n",
      " 0    35\n",
      "1    18\n",
      "2    22\n",
      "Name: Age, dtype: int64\n"
     ]
    }
   ],
   "source": [
    "# Access DataFrame columns\n",
    "print(\"\\nDataFrame 'Age' column:\\n\", df[\"Age\"])"
   ]
  },
  {
   "cell_type": "code",
   "execution_count": 6,
   "id": "345f9255",
   "metadata": {},
   "outputs": [
    {
     "name": "stdout",
     "output_type": "stream",
     "text": [
      "\n",
      "First row by position:\n",
      " Name      Arthur\n",
      "Age           35\n",
      "City    New York\n",
      "Name: 0, dtype: object\n",
      "\n",
      "Row for 'Billie' by label (using boolean indexing):\n",
      "      Name  Age     City\n",
      "1  Billie   18  Chicago\n"
     ]
    }
   ],
   "source": [
    "# Access rows by index label or position\n",
    "print(\"\\nFirst row by position:\\n\", df.iloc[0])\n",
    "print(\"\\nRow for 'Billie' by label (using boolean indexing):\\n\", df[df[\"Name\"] == \"Billie\"])"
   ]
  },
  {
   "cell_type": "markdown",
   "id": "049ace2c",
   "metadata": {},
   "source": [
    "# Real-World Analogy: Spreadsheet Tables\n",
    "\n",
    "- A **Series** is like a single column in a spreadsheet, with labels to identify each row.\n",
    "- A **DataFrame** is like the entire spreadsheet, with multiple columns and rows.\n",
    "  \n",
    "This structure helps organize and analyze data such as customer information, sales records, or survey results in an intuitive and efficient way."
   ]
  }
 ],
 "metadata": {
  "kernelspec": {
   "display_name": "ai",
   "language": "python",
   "name": "python3"
  },
  "language_info": {
   "codemirror_mode": {
    "name": "ipython",
    "version": 3
   },
   "file_extension": ".py",
   "mimetype": "text/x-python",
   "name": "python",
   "nbconvert_exporter": "python",
   "pygments_lexer": "ipython3",
   "version": "3.9.21"
  }
 },
 "nbformat": 4,
 "nbformat_minor": 5
}
