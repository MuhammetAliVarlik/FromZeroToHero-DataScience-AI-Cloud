{
 "cells": [
  {
   "cell_type": "markdown",
   "id": "509f942e",
   "metadata": {},
   "source": [
    "# Data Cleaning and Handling Missing Data with Pandas"
   ]
  },
  {
   "cell_type": "markdown",
   "id": "b5cd6335",
   "metadata": {},
   "source": [
    "Real-world datasets often contain **missing or messy data**.  \n",
    "Pandas provides easy tools for cleaning and handling missing values so that your analysis remains accurate.\n",
    "\n",
    "Common functions for handling missing data:\n",
    "\n",
    "- **`isnull()` / `notnull()`**: Identify missing values.\n",
    "- **`dropna()`**: Remove rows or columns with missing data.\n",
    "- **`fillna()`**: Fill missing values with a specified value or a calculated one (like mean or median).\n",
    "- **Replacing values**: Use `replace()` to substitute unwanted or incorrect values.\n",
    "\n",
    "The goal is to ensure the dataset is consistent, accurate, and ready for analysis.\n"
   ]
  },
  {
   "cell_type": "code",
   "execution_count": 24,
   "id": "c8812252",
   "metadata": {},
   "outputs": [],
   "source": [
    "import pandas as pd\n",
    "import numpy as np"
   ]
  },
  {
   "cell_type": "code",
   "execution_count": 25,
   "id": "74f95a2d",
   "metadata": {},
   "outputs": [
    {
     "name": "stdout",
     "output_type": "stream",
     "text": [
      "Original DataFrame with missing values:\n",
      "          Name   Age         City   Salary\n",
      "0      Hayley  25.0     New York  50000.0\n",
      "1      Taylor   NaN  Los Angeles  60000.0\n",
      "2      Claire  35.0          NaN      NaN\n",
      "3      Aurora   NaN      Houston  80000.0\n",
      "4  Evangeline  45.0      Phoenix  90000.0\n"
     ]
    }
   ],
   "source": [
    "# Create a DataFrame with missing values\n",
    "data = {\n",
    "    \"Name\": [\"Hayley\", \"Taylor\", \"Claire\", \"Aurora\", \"Evangeline\"],\n",
    "    \"Age\": [25, np.nan, 35, np.nan, 45],\n",
    "    \"City\": [\"New York\", \"Los Angeles\", np.nan, \"Houston\", \"Phoenix\"],\n",
    "    \"Salary\": [50000, 60000, np.nan, 80000, 90000]\n",
    "}\n",
    "df = pd.DataFrame(data)\n",
    "print(\"Original DataFrame with missing values:\\n\", df)"
   ]
  },
  {
   "cell_type": "code",
   "execution_count": 26,
   "id": "1ee4671e",
   "metadata": {},
   "outputs": [
    {
     "name": "stdout",
     "output_type": "stream",
     "text": [
      "\n",
      "Check for missing values:\n",
      "     Name    Age   City  Salary\n",
      "0  False  False  False   False\n",
      "1  False   True  False   False\n",
      "2  False  False   True    True\n",
      "3  False   True  False   False\n",
      "4  False  False  False   False\n"
     ]
    }
   ],
   "source": [
    "# Detect missing values\n",
    "print(\"\\nCheck for missing values:\\n\", df.isnull())"
   ]
  },
  {
   "cell_type": "code",
   "execution_count": 27,
   "id": "5d26802b",
   "metadata": {},
   "outputs": [
    {
     "name": "stdout",
     "output_type": "stream",
     "text": [
      "\n",
      "DataFrame after dropping rows with missing values:\n",
      "          Name   Age      City   Salary\n",
      "0      Hayley  25.0  New York  50000.0\n",
      "4  Evangeline  45.0   Phoenix  90000.0\n"
     ]
    }
   ],
   "source": [
    "# Drop rows with any missing values\n",
    "dropped_rows = df.dropna()\n",
    "print(\"\\nDataFrame after dropping rows with missing values:\\n\", dropped_rows)"
   ]
  },
  {
   "cell_type": "code",
   "execution_count": 28,
   "id": "f20dc7d6",
   "metadata": {},
   "outputs": [
    {
     "name": "stdout",
     "output_type": "stream",
     "text": [
      "\n",
      "Fill missing values with 0:\n",
      "          Name   Age         City   Salary\n",
      "0      Hayley  25.0     New York  50000.0\n",
      "1      Taylor   0.0  Los Angeles  60000.0\n",
      "2      Claire  35.0            0      0.0\n",
      "3      Aurora   0.0      Houston  80000.0\n",
      "4  Evangeline  45.0      Phoenix  90000.0\n"
     ]
    }
   ],
   "source": [
    "# Fill missing values with a fixed value\n",
    "filled_fixed = df.fillna(0)\n",
    "print(\"\\nFill missing values with 0:\\n\", filled_fixed)"
   ]
  },
  {
   "cell_type": "code",
   "execution_count": 29,
   "id": "9f3fbf41",
   "metadata": {},
   "outputs": [
    {
     "name": "stdout",
     "output_type": "stream",
     "text": [
      "\n",
      "Fill numeric missing values with column mean:\n",
      "          Name   Age         City   Salary\n",
      "0      Hayley  25.0     New York  50000.0\n",
      "1      Taylor  35.0  Los Angeles  60000.0\n",
      "2      Claire  35.0          NaN  70000.0\n",
      "3      Aurora  35.0      Houston  80000.0\n",
      "4  Evangeline  45.0      Phoenix  90000.0\n"
     ]
    }
   ],
   "source": [
    "# Fill missing values with column mean (for numeric columns)\n",
    "df_mean_filled = df.copy()\n",
    "df_mean_filled[\"Age\"]=df_mean_filled[\"Age\"].fillna(df[\"Age\"].mean())\n",
    "df_mean_filled[\"Salary\"]=df_mean_filled[\"Salary\"].fillna(df[\"Salary\"].mean())\n",
    "print(\"\\nFill numeric missing values with column mean:\\n\", df_mean_filled)"
   ]
  },
  {
   "cell_type": "code",
   "execution_count": 30,
   "id": "98a3c9b7",
   "metadata": {},
   "outputs": [
    {
     "name": "stdout",
     "output_type": "stream",
     "text": [
      "\n",
      "Replace city names:\n",
      "          Name   Age     City   Salary\n",
      "0      Hayley  25.0      NYC  50000.0\n",
      "1      Taylor   NaN       LA  60000.0\n",
      "2      Claire  35.0      NaN      NaN\n",
      "3      Aurora   NaN  Houston  80000.0\n",
      "4  Evangeline  45.0  Phoenix  90000.0\n"
     ]
    }
   ],
   "source": [
    "# Replace specific values\n",
    "replaced_df = df.replace({\"New York\": \"NYC\", \"Los Angeles\": \"LA\"})\n",
    "print(\"\\nReplace city names:\\n\", replaced_df)"
   ]
  },
  {
   "cell_type": "markdown",
   "id": "9ecfdf12",
   "metadata": {},
   "source": [
    "# Real-World Analogy: Fixing an Incomplete Guest List\n",
    "\n",
    "Imagine you are organizing a party, but the guest list has:\n",
    "- Some missing names\n",
    "- Missing contact information\n",
    "- Old or inconsistent city names\n",
    "\n",
    "You might:\n",
    "- Remove incomplete entries (`dropna`)\n",
    "- Fill missing info with placeholders (`fillna`)\n",
    "- Update city names to be consistent (`replace`)\n",
    "\n",
    "Cleaning data is like making sure your guest list is complete and accurate so the event runs smoothly.\n"
   ]
  }
 ],
 "metadata": {
  "kernelspec": {
   "display_name": "ai",
   "language": "python",
   "name": "python3"
  },
  "language_info": {
   "codemirror_mode": {
    "name": "ipython",
    "version": 3
   },
   "file_extension": ".py",
   "mimetype": "text/x-python",
   "name": "python",
   "nbconvert_exporter": "python",
   "pygments_lexer": "ipython3",
   "version": "3.9.21"
  }
 },
 "nbformat": 4,
 "nbformat_minor": 5
}
