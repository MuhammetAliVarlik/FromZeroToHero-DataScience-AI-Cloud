{
 "cells": [
  {
   "cell_type": "markdown",
   "id": "6c783c1f",
   "metadata": {},
   "source": [
    "# Grouping and Aggregation in Pandas (groupby)"
   ]
  },
  {
   "cell_type": "markdown",
   "id": "19f9a6f0",
   "metadata": {},
   "source": [
    "Grouping and aggregation in Pandas allow you to split your data into groups based on certain criteria and then apply summary statistics or transformations to each group.\n",
    "\n",
    "**Key steps:**\n",
    "1. **Split**: Divide the dataset into groups based on column values.\n",
    "2. **Apply**: Perform aggregation or transformation on each group.\n",
    "3. **Combine**: Merge the results back into a DataFrame.\n",
    "\n",
    "**Common methods:**\n",
    "- `sum()`, `mean()`, `count()`, `min()`, `max()`\n",
    "- Applying multiple aggregations using `.agg()`\n",
    "- Grouping by multiple columns\n",
    "\n",
    "Grouping is especially useful for summarizing large datasets and finding patterns.\n"
   ]
  },
  {
   "cell_type": "code",
   "execution_count": 13,
   "id": "325a5813",
   "metadata": {},
   "outputs": [],
   "source": [
    "import pandas as pd"
   ]
  },
  {
   "cell_type": "code",
   "execution_count": 14,
   "id": "77840a67",
   "metadata": {},
   "outputs": [
    {
     "name": "stdout",
     "output_type": "stream",
     "text": [
      "Original DataFrame:\n",
      "     Sector        Name  Salary  Age\n",
      "0    Music      Hayley  100000   25\n",
      "1    Music      Taylor   95000   30\n",
      "2       IT      Claire   70000   35\n",
      "3  Finance      Aurora   80000   40\n",
      "4       HR  Evangeline   90000   45\n"
     ]
    }
   ],
   "source": [
    "# Sample dataset\n",
    "data = {\n",
    "    \"Sector\": [\"Music\", \"Music\", \"IT\", \"Finance\", \"HR\"],\n",
    "    \"Name\": [\"Hayley\", \"Taylor\", \"Claire\", \"Aurora\", \"Evangeline\"],\n",
    "    \"Salary\": [100000, 95000, 70000, 80000, 90000],\n",
    "    \"Age\": [25, 30, 35, 40, 45],\n",
    "}\n",
    "\n",
    "df = pd.DataFrame(data)\n",
    "print(\"Original DataFrame:\\n\", df)"
   ]
  },
  {
   "cell_type": "code",
   "execution_count": 15,
   "id": "dc16d0ff",
   "metadata": {},
   "outputs": [
    {
     "name": "stdout",
     "output_type": "stream",
     "text": [
      "\n",
      "Mean Salary by Sector:\n",
      " Sector\n",
      "Finance    80000.0\n",
      "HR         90000.0\n",
      "IT         70000.0\n",
      "Music      97500.0\n",
      "Name: Salary, dtype: float64\n"
     ]
    }
   ],
   "source": [
    "# 1. Group by Department and find mean salary\n",
    "mean_salary = df.groupby(\"Sector\")[\"Salary\"].mean()\n",
    "print(\"\\nMean Salary by Sector:\\n\", mean_salary)"
   ]
  },
  {
   "cell_type": "code",
   "execution_count": 16,
   "id": "01229830",
   "metadata": {},
   "outputs": [
    {
     "name": "stdout",
     "output_type": "stream",
     "text": [
      "\n",
      "Multiple Aggregations by Sector:\n",
      "           Salary                  Age      \n",
      "            mean     max    min  mean count\n",
      "Sector                                     \n",
      "Finance  80000.0   80000  80000  40.0     1\n",
      "HR       90000.0   90000  90000  45.0     1\n",
      "IT       70000.0   70000  70000  35.0     1\n",
      "Music    97500.0  100000  95000  27.5     2\n"
     ]
    }
   ],
   "source": [
    "# 2. Group by Sector and get multiple aggregations\n",
    "agg_stats = df.groupby(\"Sector\").agg({\n",
    "    \"Salary\": [\"mean\", \"max\", \"min\"],\n",
    "    \"Age\": [\"mean\", \"count\"]\n",
    "})\n",
    "print(\"\\nMultiple Aggregations by Sector:\\n\", agg_stats)"
   ]
  },
  {
   "cell_type": "code",
   "execution_count": 17,
   "id": "aafe56bf",
   "metadata": {},
   "outputs": [
    {
     "name": "stdout",
     "output_type": "stream",
     "text": [
      "\n",
      "Mean Salary by Sector and Age Category:\n",
      " Sector   Age Category\n",
      "Finance  Senior          80000.0\n",
      "HR       Senior          90000.0\n",
      "IT       Senior          70000.0\n",
      "Music    Young           97500.0\n",
      "Name: Salary, dtype: float64\n"
     ]
    }
   ],
   "source": [
    "# 3. Group by multiple columns (Sector & Age Category)\n",
    "df[\"Age Category\"] = df[\"Age\"].apply(lambda x: \"Young\" if x < 35 else \"Senior\")\n",
    "multi_group = df.groupby([\"Sector\", \"Age Category\"])[\"Salary\"].mean()\n",
    "print(\"\\nMean Salary by Sector and Age Category:\\n\", multi_group)"
   ]
  },
  {
   "cell_type": "code",
   "execution_count": 18,
   "id": "5f4cb69a",
   "metadata": {},
   "outputs": [
    {
     "name": "stdout",
     "output_type": "stream",
     "text": [
      "\n",
      "Grouped Data with Reset Index:\n",
      "     Sector Age Category   Salary\n",
      "0  Finance       Senior  80000.0\n",
      "1       HR       Senior  90000.0\n",
      "2       IT       Senior  70000.0\n",
      "3    Music        Young  97500.0\n"
     ]
    }
   ],
   "source": [
    "# 4. Resetting index after grouping\n",
    "multi_group_reset = multi_group.reset_index()\n",
    "print(\"\\nGrouped Data with Reset Index:\\n\", multi_group_reset)"
   ]
  },
  {
   "cell_type": "markdown",
   "id": "3e48a4b7",
   "metadata": {},
   "source": [
    "# Real-World Analogy: Sorting Mail\n",
    "\n",
    "Imagine you have a large pile of letters:\n",
    "- **Grouping**: You first sort them by city (like `groupby()` by a column).\n",
    "- **Aggregation**: For each city, you count how many letters there are (`count()`), or find the highest postage fee (`max()`).\n",
    "- **Multiple grouping**: You might sort by both city and neighborhood.\n",
    "\n",
    "Just like organizing mail makes deliveries faster, grouping data makes it easier to analyze patterns."
   ]
  }
 ],
 "metadata": {
  "kernelspec": {
   "display_name": "ai",
   "language": "python",
   "name": "python3"
  },
  "language_info": {
   "codemirror_mode": {
    "name": "ipython",
    "version": 3
   },
   "file_extension": ".py",
   "mimetype": "text/x-python",
   "name": "python",
   "nbconvert_exporter": "python",
   "pygments_lexer": "ipython3",
   "version": "3.9.21"
  }
 },
 "nbformat": 4,
 "nbformat_minor": 5
}
