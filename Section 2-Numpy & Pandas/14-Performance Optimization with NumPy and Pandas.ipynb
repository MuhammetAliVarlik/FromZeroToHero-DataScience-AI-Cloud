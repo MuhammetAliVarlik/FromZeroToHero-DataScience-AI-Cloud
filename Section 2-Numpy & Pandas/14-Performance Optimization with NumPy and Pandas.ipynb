{
 "cells": [
  {
   "cell_type": "markdown",
   "id": "6e7f3085",
   "metadata": {},
   "source": [
    "# Performance Optimization with NumPy and Pandas"
   ]
  },
  {
   "cell_type": "markdown",
   "id": "8e1c3ae9",
   "metadata": {},
   "source": [
    "Performance optimization in **NumPy** and **Pandas** is about making data operations faster and more memory-efficient.\n",
    "\n",
    "Key strategies:\n",
    "\n",
    "## **In NumPy**\n",
    "- **Vectorization**: Use built-in array operations instead of Python loops.\n",
    "- **Broadcasting**: Apply operations between arrays of different shapes without explicit loops.\n",
    "- **Preallocation**: Create arrays with a fixed size instead of dynamically appending.\n",
    "- **Efficient functions**: Use NumPy's universal functions (`ufuncs`) like `np.add`, `np.sqrt`.\n",
    "\n",
    "## **In Pandas**\n",
    "- **Use vectorized methods**: Avoid `.apply()` with Python functions; use Pandas/NumPy functions instead.\n",
    "- **Categorical data**: Convert repeated strings to `category` dtype to save memory.\n",
    "- **Efficient indexing**: Set indexes to speed up lookups.\n",
    "- **Chunking**: Process large files in smaller parts instead of loading all at once.\n",
    "- **Avoid loops**: Pandas is optimized for column-wise operations.\n",
    "\n",
    "Optimizing can make your code run **10x–100x faster** for large datasets.\n"
   ]
  },
  {
   "cell_type": "code",
   "execution_count": 10,
   "id": "77576ed8",
   "metadata": {},
   "outputs": [],
   "source": [
    "import numpy as np\n",
    "import pandas as pd\n",
    "import time"
   ]
  },
  {
   "cell_type": "code",
   "execution_count": 11,
   "id": "2773e29a",
   "metadata": {},
   "outputs": [],
   "source": [
    "# ---------------- NumPy Optimization ----------------\n",
    "# Example: Squaring numbers from 1 to 10 million\n",
    "\n",
    "N = 10_000_000\n",
    "array = np.arange(N)"
   ]
  },
  {
   "cell_type": "code",
   "execution_count": 12,
   "id": "3ea324e9",
   "metadata": {},
   "outputs": [
    {
     "name": "stdout",
     "output_type": "stream",
     "text": [
      "Loop time (Python list): 3.3511130809783936 seconds\n"
     ]
    }
   ],
   "source": [
    "# Slow method: Python loop\n",
    "start_time = time.time()\n",
    "result_loop = [x**2 for x in array]\n",
    "print(\"Loop time (Python list):\", time.time() - start_time, \"seconds\")"
   ]
  },
  {
   "cell_type": "code",
   "execution_count": 13,
   "id": "470849b5",
   "metadata": {},
   "outputs": [
    {
     "name": "stdout",
     "output_type": "stream",
     "text": [
      "Vectorized time (NumPy): 0.03218555450439453 seconds\n"
     ]
    }
   ],
   "source": [
    "# Fast method: NumPy vectorized operation\n",
    "start_time = time.time()\n",
    "result_vectorized = array**2\n",
    "print(\"Vectorized time (NumPy):\", time.time() - start_time, \"seconds\")"
   ]
  },
  {
   "cell_type": "code",
   "execution_count": 14,
   "id": "b1dd10a6",
   "metadata": {},
   "outputs": [],
   "source": [
    "# ---------------- Pandas Optimization ----------------\n",
    "# Sample DataFrame\n",
    "df = pd.DataFrame({\n",
    "    \"city\": [\"New York\", \"Los Angeles\", \"Chicago\"] * 1_000_00,\n",
    "    \"sales\": np.random.randint(100, 500, size=3_000_00)\n",
    "})"
   ]
  },
  {
   "cell_type": "code",
   "execution_count": 15,
   "id": "28358a5b",
   "metadata": {},
   "outputs": [
    {
     "name": "stdout",
     "output_type": "stream",
     "text": [
      "\n",
      "Memory usage after converting 'city' to category:\n",
      "Index        128\n",
      "city      300305\n",
      "sales    1200000\n",
      "dtype: int64\n"
     ]
    }
   ],
   "source": [
    "# Convert 'city' to category for memory savings\n",
    "df[\"city\"] = df[\"city\"].astype(\"category\")\n",
    "\n",
    "print(\"\\nMemory usage after converting 'city' to category:\")\n",
    "print(df.memory_usage(deep=True))"
   ]
  },
  {
   "cell_type": "code",
   "execution_count": 16,
   "id": "009db99d",
   "metadata": {},
   "outputs": [
    {
     "name": "stdout",
     "output_type": "stream",
     "text": [
      "\n",
      "First rows with sales tax:\n",
      "           city  sales  sales_tax\n",
      "0     New York    232       23.2\n",
      "1  Los Angeles    135       13.5\n",
      "2      Chicago    479       47.9\n",
      "3     New York    119       11.9\n",
      "4  Los Angeles    455       45.5\n"
     ]
    }
   ],
   "source": [
    "# Vectorized calculation of sales tax (10%)\n",
    "df[\"sales_tax\"] = df[\"sales\"] * 0.10\n",
    "print(\"\\nFirst rows with sales tax:\\n\", df.head())"
   ]
  },
  {
   "cell_type": "markdown",
   "id": "0e5daee4",
   "metadata": {},
   "source": [
    "# Real-World Analogy: Cooking in Bulk vs. One at a Time\n",
    "\n",
    "- **Loop method**: Like making each sandwich individually — get bread, put fillings, wrap it, repeat.\n",
    "- **Vectorized method**: Like setting up an assembly line — prepare all bread slices, then add fillings to all, then wrap all sandwiches at once.\n",
    "\n",
    "Vectorization and optimized methods help process large amounts of \"ingredients\" (data) far faster.\n"
   ]
  }
 ],
 "metadata": {
  "kernelspec": {
   "display_name": "ai",
   "language": "python",
   "name": "python3"
  },
  "language_info": {
   "codemirror_mode": {
    "name": "ipython",
    "version": 3
   },
   "file_extension": ".py",
   "mimetype": "text/x-python",
   "name": "python",
   "nbconvert_exporter": "python",
   "pygments_lexer": "ipython3",
   "version": "3.9.21"
  }
 },
 "nbformat": 4,
 "nbformat_minor": 5
}
