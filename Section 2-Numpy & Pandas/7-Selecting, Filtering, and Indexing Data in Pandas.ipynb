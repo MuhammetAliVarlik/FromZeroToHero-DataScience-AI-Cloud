{
 "cells": [
  {
   "cell_type": "markdown",
   "id": "3865022e",
   "metadata": {},
   "source": [
    "# Selecting, Filtering and Indexing Data in Pandas"
   ]
  },
  {
   "cell_type": "markdown",
   "id": "3c1559d8",
   "metadata": {},
   "source": [
    "One of Pandas' strengths is its ability to quickly select, filter, and index data.\n",
    "\n",
    "Key operations include:\n",
    "\n",
    "- **Column selection**: Access specific columns by their names.\n",
    "- **Row selection**: Access rows by position (`iloc`) or label (`loc`).\n",
    "- **Filtering**: Extract rows that meet certain conditions.\n",
    "- **Boolean indexing**: Use logical expressions to select rows.\n",
    "- **Slicing**: Select a range of rows or columns.\n"
   ]
  },
  {
   "cell_type": "code",
   "execution_count": 11,
   "id": "58331d57",
   "metadata": {},
   "outputs": [],
   "source": [
    "import pandas as pd"
   ]
  },
  {
   "cell_type": "code",
   "execution_count": 12,
   "id": "47e2731d",
   "metadata": {},
   "outputs": [
    {
     "name": "stdout",
     "output_type": "stream",
     "text": [
      "Original DataFrame:\n",
      "          Name  Age         City  Salary\n",
      "0      Hayley   25      Houston  100000\n",
      "1      Taylor   30  Los Angeles   70000\n",
      "2      Claire   35      Chicago   70000\n",
      "3      Aurora   40     New York   80000\n",
      "4  Evangeline   45      Phoenix   90000\n"
     ]
    }
   ],
   "source": [
    "# Create a sample DataFrame\n",
    "data = {\n",
    "    \"Name\": [\"Hayley\", \"Taylor\", \"Claire\", \"Aurora\", \"Evangeline\"],\n",
    "    \"Age\": [25, 30, 35, 40, 45],\n",
    "    \"City\": [\"Houston\", \"Los Angeles\", \"Chicago\", \"New York\", \"Phoenix\"],\n",
    "    \"Salary\": [100000, 70000, 70000, 80000, 90000]\n",
    "}\n",
    "df = pd.DataFrame(data)\n",
    "print(\"Original DataFrame:\\n\", df)"
   ]
  },
  {
   "cell_type": "code",
   "execution_count": 13,
   "id": "b5f5ecc8",
   "metadata": {},
   "outputs": [
    {
     "name": "stdout",
     "output_type": "stream",
     "text": [
      "\n",
      "Select 'Name' column:\n",
      " 0        Hayley\n",
      "1        Taylor\n",
      "2        Claire\n",
      "3        Aurora\n",
      "4    Evangeline\n",
      "Name: Name, dtype: object\n"
     ]
    }
   ],
   "source": [
    "# Selecting a single column\n",
    "print(\"\\nSelect 'Name' column:\\n\", df[\"Name\"])"
   ]
  },
  {
   "cell_type": "code",
   "execution_count": 14,
   "id": "f946c121",
   "metadata": {},
   "outputs": [
    {
     "name": "stdout",
     "output_type": "stream",
     "text": [
      "\n",
      "Select 'Name' and 'Salary' columns:\n",
      "          Name  Salary\n",
      "0      Hayley  100000\n",
      "1      Taylor   70000\n",
      "2      Claire   70000\n",
      "3      Aurora   80000\n",
      "4  Evangeline   90000\n"
     ]
    }
   ],
   "source": [
    "\n",
    "# Selecting multiple columns\n",
    "print(\"\\nSelect 'Name' and 'Salary' columns:\\n\", df[[\"Name\", \"Salary\"]])"
   ]
  },
  {
   "cell_type": "code",
   "execution_count": 15,
   "id": "35e706ce",
   "metadata": {},
   "outputs": [
    {
     "name": "stdout",
     "output_type": "stream",
     "text": [
      "\n",
      "Select first two rows:\n",
      "      Name  Age         City  Salary\n",
      "0  Hayley   25      Houston  100000\n",
      "1  Taylor   30  Los Angeles   70000\n"
     ]
    }
   ],
   "source": [
    "# Selecting rows by position (iloc)\n",
    "print(\"\\nSelect first two rows:\\n\", df.iloc[0:2])"
   ]
  },
  {
   "cell_type": "code",
   "execution_count": 16,
   "id": "9714d200",
   "metadata": {},
   "outputs": [
    {
     "name": "stdout",
     "output_type": "stream",
     "text": [
      "\n",
      "Select rows with labels 1 to 3:\n",
      "      Name  Age         City  Salary\n",
      "1  Taylor   30  Los Angeles   70000\n",
      "2  Claire   35      Chicago   70000\n",
      "3  Aurora   40     New York   80000\n"
     ]
    }
   ],
   "source": [
    "# Selecting rows by label (loc)\n",
    "print(\"\\nSelect rows with labels 1 to 3:\\n\", df.loc[1:3])"
   ]
  },
  {
   "cell_type": "code",
   "execution_count": 17,
   "id": "8631db13",
   "metadata": {},
   "outputs": [
    {
     "name": "stdout",
     "output_type": "stream",
     "text": [
      "\n",
      "Rows where Age > 30:\n",
      "          Name  Age      City  Salary\n",
      "2      Claire   35   Chicago   70000\n",
      "3      Aurora   40  New York   80000\n",
      "4  Evangeline   45   Phoenix   90000\n"
     ]
    }
   ],
   "source": [
    "# Filtering rows: Age > 30\n",
    "print(\"\\nRows where Age > 30:\\n\", df[df[\"Age\"] > 30])"
   ]
  },
  {
   "cell_type": "code",
   "execution_count": 18,
   "id": "e1e26247",
   "metadata": {},
   "outputs": [
    {
     "name": "stdout",
     "output_type": "stream",
     "text": [
      "\n",
      "Rows where Age > 30 and Salary < 90000:\n",
      "      Name  Age      City  Salary\n",
      "2  Claire   35   Chicago   70000\n",
      "3  Aurora   40  New York   80000\n"
     ]
    }
   ],
   "source": [
    "# Filtering with multiple conditions: Age > 30 and Salary < 90000\n",
    "print(\"\\nRows where Age > 30 and Salary < 90000:\\n\", df[(df[\"Age\"] > 30) & (df[\"Salary\"] < 90000)])"
   ]
  },
  {
   "cell_type": "code",
   "execution_count": 19,
   "id": "b794d5b0",
   "metadata": {},
   "outputs": [
    {
     "name": "stdout",
     "output_type": "stream",
     "text": [
      "\n",
      "Rows where City is Chicago:\n",
      "      Name  Age     City  Salary\n",
      "2  Claire   35  Chicago   70000\n"
     ]
    }
   ],
   "source": [
    "# Boolean indexing example\n",
    "is_chicago = df[\"City\"] == \"Chicago\"\n",
    "print(\"\\nRows where City is Chicago:\\n\", df[is_chicago])"
   ]
  },
  {
   "cell_type": "code",
   "execution_count": 20,
   "id": "0d0e9fbb",
   "metadata": {},
   "outputs": [
    {
     "name": "stdout",
     "output_type": "stream",
     "text": [
      "\n",
      "Rows from index 2 to 4:\n",
      "          Name  Age      City  Salary\n",
      "2      Claire   35   Chicago   70000\n",
      "3      Aurora   40  New York   80000\n",
      "4  Evangeline   45   Phoenix   90000\n"
     ]
    }
   ],
   "source": [
    "# Slicing rows\n",
    "print(\"\\nRows from index 2 to 4:\\n\", df[2:5])"
   ]
  },
  {
   "cell_type": "markdown",
   "id": "cbfaf770",
   "metadata": {},
   "source": [
    "# Real-World Analogy: Library Search\n",
    "\n",
    "- **Column selection** is like choosing which details you want to see about each book (title, author, genre).\n",
    "- **Row selection** is like picking specific books by their position on the shelf or by their catalog number.\n",
    "- **Filtering** is like searching for books published after 2010 and written by a certain author.\n",
    "- **Boolean indexing** is like marking books that match a search query and then pulling only those off the shelf.\n"
   ]
  }
 ],
 "metadata": {
  "kernelspec": {
   "display_name": "ai",
   "language": "python",
   "name": "python3"
  },
  "language_info": {
   "codemirror_mode": {
    "name": "ipython",
    "version": 3
   },
   "file_extension": ".py",
   "mimetype": "text/x-python",
   "name": "python",
   "nbconvert_exporter": "python",
   "pygments_lexer": "ipython3",
   "version": "3.9.21"
  }
 },
 "nbformat": 4,
 "nbformat_minor": 5
}
