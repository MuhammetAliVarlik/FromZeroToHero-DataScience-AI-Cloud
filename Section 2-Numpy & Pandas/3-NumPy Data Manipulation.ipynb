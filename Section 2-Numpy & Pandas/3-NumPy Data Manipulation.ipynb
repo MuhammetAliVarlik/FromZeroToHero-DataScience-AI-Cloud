{
 "cells": [
  {
   "cell_type": "markdown",
   "id": "09794429",
   "metadata": {},
   "source": [
    "# Numpy Data Manipulation"
   ]
  },
  {
   "cell_type": "markdown",
   "id": "b2b86bda",
   "metadata": {},
   "source": [
    "Data manipulation in NumPy involves changing the structure or content of arrays without losing the original data. This includes reshaping arrays to new dimensions, combining multiple arrays into one, selecting or extracting specific elements, and filtering arrays based on conditions.\n",
    "\n",
    "Common techniques include:\n",
    "- **Reshaping:** Changing the shape of an array (e.g., from 2D to 1D).\n",
    "- **Combining:** Joining arrays horizontally or vertically.\n",
    "- **Indexing and Fancy Indexing:** Accessing elements by position or using arrays of indices.\n",
    "- **Slicing:** Extracting parts of an array.\n",
    "- **Subsetting:** Filtering elements that satisfy a condition.\n"
   ]
  },
  {
   "cell_type": "code",
   "execution_count": null,
   "id": "81bfc13f",
   "metadata": {},
   "outputs": [],
   "source": [
    "import numpy as np"
   ]
  },
  {
   "cell_type": "code",
   "execution_count": null,
   "id": "2534ee19",
   "metadata": {},
   "outputs": [
    {
     "name": "stdout",
     "output_type": "stream",
     "text": [
      "Flattened: [ 1  2  3  4  5  6  7  8  9 10]\n",
      "Reshaped:\n",
      " [[ 1  2]\n",
      " [ 3  4]\n",
      " [ 5  6]\n",
      " [ 7  8]\n",
      " [ 9 10]]\n",
      "Resized:\n",
      " [[ 1  2]\n",
      " [ 3  4]\n",
      " [ 5  6]\n",
      " [ 7  8]\n",
      " [ 9 10]]\n",
      "Transposed:\n",
      " [[ 1  3  5  7  9]\n",
      " [ 2  4  6  8 10]]\n"
     ]
    }
   ],
   "source": [
    "# 1- Reshaping arrays\n",
    "\n",
    "original_array = np.array([\n",
    "    [1, 2, 3, 4, 5],\n",
    "    [6, 7, 8, 9, 10]\n",
    "])\n",
    "\n",
    "# Flatten the array to 1D\n",
    "flattened = original_array.flatten()\n",
    "print(\"Flattened:\", flattened)\n",
    "\n",
    "# Reshape the array to 5 rows and 2 columns (does not modify original)\n",
    "reshaped = original_array.reshape(5, 2)\n",
    "print(\"Reshaped:\\n\", reshaped)\n",
    "\n",
    "# Resize the original array to 5 rows and 2 columns (modifies in place)\n",
    "original_array.resize((5, 2))\n",
    "print(\"Resized:\\n\", original_array)\n",
    "\n",
    "# Transpose swaps rows and columns\n",
    "transposed = original_array.T\n",
    "print(\"Transposed:\\n\", transposed)"
   ]
  },
  {
   "cell_type": "code",
   "execution_count": null,
   "id": "314dea88",
   "metadata": {},
   "outputs": [
    {
     "name": "stdout",
     "output_type": "stream",
     "text": [
      "Horizontal Stack: [1 2 3 4 5 6]\n",
      "Vertical Stack:\n",
      " [[1 2 3]\n",
      " [4 5 6]]\n",
      "Concatenated: [1 2 3 4 5 6]\n",
      "Stacked:\n",
      " [[1 2 3]\n",
      " [4 5 6]]\n"
     ]
    }
   ],
   "source": [
    "# 2- Combining arrays\n",
    "\n",
    "array_a = np.array([1, 2, 3])\n",
    "array_b = np.array([4, 5, 6])\n",
    "\n",
    "# Horizontal stack (combine as columns)\n",
    "horiz_combined = np.hstack((array_a, array_b))\n",
    "print(\"Horizontal Stack:\", horiz_combined)\n",
    "\n",
    "# Vertical stack (combine as rows)\n",
    "vert_combined = np.vstack((array_a, array_b))\n",
    "print(\"Vertical Stack:\\n\", vert_combined)\n",
    "\n",
    "# Generic concatenate (default along axis 0 for 1D arrays)\n",
    "concatenated = np.concatenate((array_a, array_b))\n",
    "print(\"Concatenated:\", concatenated)\n",
    "\n",
    "# Stack adds a new axis (creates a 2D array)\n",
    "stacked = np.stack((array_a, array_b))\n",
    "print(\"Stacked:\\n\", stacked)\n"
   ]
  },
  {
   "cell_type": "code",
   "execution_count": null,
   "id": "a5f39ff7",
   "metadata": {},
   "outputs": [
    {
     "name": "stdout",
     "output_type": "stream",
     "text": [
      "Indexed Array (Transposed):\n",
      " [[ 1  3  5  7  9]\n",
      " [ 2  4  6  8 10]]\n",
      "First row: [1 3 5 7 9]\n",
      "Second element of first row: 3\n",
      "Fancy indexed elements: [1 5 3]\n"
     ]
    }
   ],
   "source": [
    "# 3- Indexing and Fancy Indexing\n",
    "\n",
    "indexed_array = original_array.T\n",
    "print(\"Indexed Array (Transposed):\\n\", indexed_array)\n",
    "\n",
    "# Access first row\n",
    "first_row = indexed_array[0]\n",
    "print(\"First row:\", first_row)\n",
    "\n",
    "# Access second element of first row\n",
    "second_element = indexed_array[0][1]\n",
    "print(\"Second element of first row:\", second_element)\n",
    "\n",
    "# Fancy indexing: select elements at indices 0, 4, and 2\n",
    "sample_array = np.array([1, 2, 3, 4, 5])\n",
    "selected_indices = [0, 4, 2]\n",
    "fancy_indexed = sample_array[selected_indices]\n",
    "print(\"Fancy indexed elements:\", fancy_indexed)"
   ]
  },
  {
   "cell_type": "code",
   "execution_count": null,
   "id": "bfffbbc5",
   "metadata": {},
   "outputs": [
    {
     "name": "stdout",
     "output_type": "stream",
     "text": [
      "Slice from index 2 to 4: [3 4 5]\n",
      "First 3 elements: [1 2 3]\n",
      "Reversed array: [5 4 3 2 1]\n",
      "Third column of indexed array: [5 6]\n",
      "All rows, first 3 columns:\n",
      " [[1 3 5]\n",
      " [2 4 6]]\n"
     ]
    }
   ],
   "source": [
    "# 4- Slicing arrays\n",
    "\n",
    "slice_1 = sample_array[2:5]\n",
    "print(\"Slice from index 2 to 4:\", slice_1)\n",
    "\n",
    "slice_2 = sample_array[:3]\n",
    "print(\"First 3 elements:\", slice_2)\n",
    "\n",
    "reverse_slice = sample_array[::-1]\n",
    "print(\"Reversed array:\", reverse_slice)\n",
    "\n",
    "column_3 = indexed_array[:, 2]\n",
    "print(\"Third column of indexed array:\", column_3)\n",
    "\n",
    "rows_and_columns = indexed_array[0:, :3]\n",
    "print(\"All rows, first 3 columns:\\n\", rows_and_columns)"
   ]
  },
  {
   "cell_type": "code",
   "execution_count": null,
   "id": "5ae38a9a",
   "metadata": {},
   "outputs": [
    {
     "name": "stdout",
     "output_type": "stream",
     "text": [
      "Elements greater than 2: [ 3  5  7  9  4  6  8 10]\n",
      "Elements >1 and <4: [3 2]\n",
      "Elements not equal to 5: [ 1  3  7  9  2  4  6  8 10]\n",
      "Conditional replace (<3 keep, else -1):\n",
      " [[ 1 -1 -1 -1 -1]\n",
      " [ 2 -1 -1 -1 -1]]\n"
     ]
    }
   ],
   "source": [
    "# 5- Subsetting with conditions\n",
    "\n",
    "subset_1 = indexed_array[indexed_array > 2]\n",
    "print(\"Elements greater than 2:\", subset_1)\n",
    "\n",
    "subset_2 = indexed_array[(indexed_array > 1) & (indexed_array < 4)]\n",
    "print(\"Elements >1 and <4:\", subset_2)\n",
    "\n",
    "subset_3 = indexed_array[indexed_array != 5]\n",
    "print(\"Elements not equal to 5:\", subset_3)\n",
    "\n",
    "conditional_array = np.where(indexed_array < 3, indexed_array, -1)\n",
    "print(\"Conditional replace (<3 keep, else -1):\\n\", conditional_array)"
   ]
  },
  {
   "cell_type": "markdown",
   "id": "5b76a85d",
   "metadata": {},
   "source": [
    "# Real-World Analogy: Sorting and Filtering Your Music Playlist\n",
    "\n",
    "- **Reshaping** is like changing the layout of your music playlist — from a simple list of songs to grouping them by albums or artists.\n",
    "- **Combining** playlists means merging different collections of songs into one.\n",
    "- **Indexing** is like choosing a specific song by its position in the playlist.\n",
    "- **Slicing** is selecting a part of the playlist, such as songs 5 to 10.\n",
    "- **Subsetting** is filtering songs by criteria, like only songs longer than 3 minutes or those with a certain genre.\n",
    "\n",
    "These tools help organize large datasets (or playlists!) so you can find or analyze exactly what you need quickly.\n"
   ]
  }
 ],
 "metadata": {
  "kernelspec": {
   "display_name": "ai",
   "language": "python",
   "name": "python3"
  },
  "language_info": {
   "codemirror_mode": {
    "name": "ipython",
    "version": 3
   },
   "file_extension": ".py",
   "mimetype": "text/x-python",
   "name": "python",
   "nbconvert_exporter": "python",
   "pygments_lexer": "ipython3",
   "version": "3.9.21"
  }
 },
 "nbformat": 4,
 "nbformat_minor": 5
}
