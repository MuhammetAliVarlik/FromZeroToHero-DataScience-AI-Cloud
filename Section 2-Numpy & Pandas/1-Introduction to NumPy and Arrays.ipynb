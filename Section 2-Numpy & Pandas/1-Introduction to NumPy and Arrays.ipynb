{
 "cells": [
  {
   "cell_type": "markdown",
   "id": "be1b364b",
   "metadata": {},
   "source": [
    "# Introduction to NumPy Arrays"
   ]
  },
  {
   "cell_type": "markdown",
   "id": "0f7aadba",
   "metadata": {},
   "source": [
    "NumPy is a powerful Python library used for numerical computing. At the heart of NumPy is the **array** object, which is like a more efficient and flexible version of Python lists for handling large amounts of data.\n",
    "\n",
    "NumPy arrays can be:\n",
    "- **1D (one-dimensional)**: a simple list of numbers,\n",
    "- **2D (two-dimensional)**: like a table or matrix,\n",
    "- **3D (three-dimensional)**: a collection of 2D arrays stacked together.\n",
    "\n",
    "NumPy also provides many useful functions to create arrays filled with specific values (like all ones or zeros), generate random numbers, and create arrays with evenly spaced values. Arrays also have attributes to get information about their shape, size, number of dimensions, and data type.\n"
   ]
  },
  {
   "cell_type": "code",
   "execution_count": 12,
   "id": "b472a453",
   "metadata": {},
   "outputs": [],
   "source": [
    "import numpy as np"
   ]
  },
  {
   "cell_type": "code",
   "execution_count": 13,
   "id": "32f32c8e",
   "metadata": {},
   "outputs": [
    {
     "name": "stdout",
     "output_type": "stream",
     "text": [
      "1D Array: [10 20 30 40 50]\n",
      "2D Array:\n",
      " [[ 1  2  3  4  5]\n",
      " [ 6  7  8  9 10]]\n",
      "3D Array:\n",
      " [[[ 1  2  3  4  5]]\n",
      "\n",
      " [[ 6  7  8  9 10]]\n",
      "\n",
      " [[11 12 13 14 15]]]\n"
     ]
    }
   ],
   "source": [
    "# Create a 1D array of integers\n",
    "one_d_array = np.array([10, 20, 30, 40, 50])\n",
    "print(\"1D Array:\", one_d_array)\n",
    "\n",
    "# Create a 2D array (2 rows, 5 columns)\n",
    "two_d_array = np.array([\n",
    "    [1, 2, 3, 4, 5],\n",
    "    [6, 7, 8, 9, 10]\n",
    "])\n",
    "print(\"2D Array:\\n\", two_d_array)\n",
    "\n",
    "# Create a 3D array (3 layers, each with 1 row and 5 columns)\n",
    "three_d_array = np.array([\n",
    "    [[1, 2, 3, 4, 5]],\n",
    "    [[6, 7, 8, 9, 10]],\n",
    "    [[11, 12, 13, 14, 15]]\n",
    "])\n",
    "print(\"3D Array:\\n\", three_d_array)"
   ]
  },
  {
   "cell_type": "code",
   "execution_count": 14,
   "id": "d32fd4a8",
   "metadata": {},
   "outputs": [
    {
     "name": "stdout",
     "output_type": "stream",
     "text": [
      "Ones Array: [1. 1. 1. 1. 1.]\n",
      "Zeros Array: [0. 0. 0. 0. 0.]\n"
     ]
    }
   ],
   "source": [
    "# Create arrays filled with ones and zeros\n",
    "ones_array = np.ones(5)      # 1D array of five ones\n",
    "zeros_array = np.zeros(5)    # 1D array of five zeros\n",
    "print(\"Ones Array:\", ones_array)\n",
    "print(\"Zeros Array:\", zeros_array)"
   ]
  },
  {
   "cell_type": "code",
   "execution_count": 15,
   "id": "10a4dc58",
   "metadata": {},
   "outputs": [
    {
     "name": "stdout",
     "output_type": "stream",
     "text": [
      "Identity Matrix:\n",
      " [[1. 0. 0. 0. 0.]\n",
      " [0. 1. 0. 0. 0.]\n",
      " [0. 0. 1. 0. 0.]\n",
      " [0. 0. 0. 1. 0.]\n",
      " [0. 0. 0. 0. 1.]]\n"
     ]
    }
   ],
   "source": [
    "# Create a 5x5 identity matrix\n",
    "identity_matrix = np.eye(5)\n",
    "print(\"Identity Matrix:\\n\", identity_matrix)"
   ]
  },
  {
   "cell_type": "code",
   "execution_count": 16,
   "id": "df7e8c55",
   "metadata": {},
   "outputs": [
    {
     "name": "stdout",
     "output_type": "stream",
     "text": [
      "Random Integers: [1 9 7 1 3]\n"
     ]
    }
   ],
   "source": [
    "# Generate random integers between 0 and 9, size 5\n",
    "random_ints = np.random.randint(0, 10, size=5)\n",
    "print(\"Random Integers:\", random_ints)"
   ]
  },
  {
   "cell_type": "code",
   "execution_count": 17,
   "id": "979c96b8",
   "metadata": {},
   "outputs": [
    {
     "name": "stdout",
     "output_type": "stream",
     "text": [
      "Filled Array with 9s:\n",
      " [[9 9 9 9 9]\n",
      " [9 9 9 9 9]\n",
      " [9 9 9 9 9]]\n"
     ]
    }
   ],
   "source": [
    "# Create a 3x5 array filled with 9s\n",
    "filled_array = np.full((3, 5), 9)\n",
    "print(\"Filled Array with 9s:\\n\", filled_array)"
   ]
  },
  {
   "cell_type": "code",
   "execution_count": 18,
   "id": "e8c1da6f",
   "metadata": {},
   "outputs": [
    {
     "name": "stdout",
     "output_type": "stream",
     "text": [
      "Random Floats:\n",
      " [[0.78818928 0.63869014 0.62003989 0.76236067 0.72119549]\n",
      " [0.49469702 0.8033946  0.12621039 0.02160317 0.49080314]]\n"
     ]
    }
   ],
   "source": [
    "# Generate a 2x5 array of random floats between 0 and 1\n",
    "random_floats = np.random.rand(2, 5)\n",
    "print(\"Random Floats:\\n\", random_floats)"
   ]
  },
  {
   "cell_type": "code",
   "execution_count": 19,
   "id": "1a50a277",
   "metadata": {},
   "outputs": [
    {
     "name": "stdout",
     "output_type": "stream",
     "text": [
      "Normal Distribution Array:\n",
      " [[-2.02781565 -2.06253449  2.24556142 -1.91633332  3.36088535]\n",
      " [-1.39674171 -0.72943308 -2.31477529 -4.3797453  -2.40145901]]\n"
     ]
    }
   ],
   "source": [
    "# Generate a 2x5 array with normal distribution (mean=0, std=2)\n",
    "normal_dist_array = np.random.normal(0, 2, (2, 5))\n",
    "print(\"Normal Distribution Array:\\n\", normal_dist_array)"
   ]
  },
  {
   "cell_type": "code",
   "execution_count": 20,
   "id": "67d4e09b",
   "metadata": {},
   "outputs": [
    {
     "name": "stdout",
     "output_type": "stream",
     "text": [
      "Range Array: [ 0  3  6  9 12]\n",
      "Linspace Array: [ 0.   7.5 15. ]\n"
     ]
    }
   ],
   "source": [
    "# Create arrays with specific ranges\n",
    "range_array = np.arange(0, 15, 3)      # Values from 0 to 15 stepping by 3\n",
    "linspace_array = np.linspace(0, 15, 3) # 3 evenly spaced values between 0 and 15\n",
    "print(\"Range Array:\", range_array)\n",
    "print(\"Linspace Array:\", linspace_array)"
   ]
  },
  {
   "cell_type": "code",
   "execution_count": 21,
   "id": "c36ee5c8",
   "metadata": {},
   "outputs": [
    {
     "name": "stdout",
     "output_type": "stream",
     "text": [
      "Array Shape: (2, 5)\n",
      "Array Size: 10\n",
      "Array Dimensions: 2\n",
      "Array Data Type: int32\n"
     ]
    }
   ],
   "source": [
    "# Example array for attributes demonstration\n",
    "example_array = np.array([\n",
    "    [1, 2, 3, 4, 5],\n",
    "    [6, 7, 8, 9, 10]\n",
    "])\n",
    "\n",
    "# Display array attributes\n",
    "array_shape = example_array.shape      # Shape of the array (rows, columns)\n",
    "array_size = example_array.size        # Total number of elements\n",
    "array_dimensions = example_array.ndim  # Number of dimensions\n",
    "array_dtype = example_array.dtype      # Data type of elements\n",
    "\n",
    "print(\"Array Shape:\", array_shape)\n",
    "print(\"Array Size:\", array_size)\n",
    "print(\"Array Dimensions:\", array_dimensions)\n",
    "print(\"Array Data Type:\", array_dtype)"
   ]
  },
  {
   "cell_type": "code",
   "execution_count": 22,
   "id": "0da69fd1",
   "metadata": {},
   "outputs": [
    {
     "name": "stdout",
     "output_type": "stream",
     "text": [
      "Float Array:\n",
      " [[ 1.  2.  3.  4.  5.]\n",
      " [ 6.  7.  8.  9. 10.]]\n",
      "Float Array Data Type: float64\n"
     ]
    }
   ],
   "source": [
    "# Convert array elements to floats\n",
    "float_array = example_array.astype(float)\n",
    "float_dtype = float_array.dtype\n",
    "print(\"Float Array:\\n\", float_array)\n",
    "print(\"Float Array Data Type:\", float_dtype)"
   ]
  },
  {
   "cell_type": "markdown",
   "id": "24d1cd63",
   "metadata": {},
   "source": [
    "# Real-World Analogy: Organizing Data Like Boxes\n",
    "\n",
    "Think of NumPy arrays as boxes for storing items:\n",
    "- A **1D array** is like a single row of boxes lined up in a row.\n",
    "- A **2D array** is like multiple rows of boxes stacked to form shelves.\n",
    "- A **3D array** is like several shelves stacked on top of each other to form a cabinet.\n",
    "\n",
    "Using NumPy functions is like deciding whether to fill boxes with all apples, all oranges, or a mix of random fruits, and knowing exactly how many boxes you have and what types of fruits are inside.\n",
    "\n",
    "This organized structure helps computers process data quickly and efficiently.\n"
   ]
  }
 ],
 "metadata": {
  "kernelspec": {
   "display_name": "ai",
   "language": "python",
   "name": "python3"
  },
  "language_info": {
   "codemirror_mode": {
    "name": "ipython",
    "version": 3
   },
   "file_extension": ".py",
   "mimetype": "text/x-python",
   "name": "python",
   "nbconvert_exporter": "python",
   "pygments_lexer": "ipython3",
   "version": "3.9.21"
  }
 },
 "nbformat": 4,
 "nbformat_minor": 5
}
