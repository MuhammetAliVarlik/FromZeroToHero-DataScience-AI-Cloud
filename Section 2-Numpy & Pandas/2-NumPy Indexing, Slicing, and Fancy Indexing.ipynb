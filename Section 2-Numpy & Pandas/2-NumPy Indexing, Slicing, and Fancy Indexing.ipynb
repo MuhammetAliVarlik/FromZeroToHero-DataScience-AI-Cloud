{
 "cells": [
  {
   "cell_type": "markdown",
   "id": "c513b6b3",
   "metadata": {},
   "source": [
    "# Numpy Indexing, Slicing and Fancy Indexing"
   ]
  },
  {
   "cell_type": "markdown",
   "id": "1605793e",
   "metadata": {},
   "source": [
    "NumPy arrays allow you to access and manipulate data efficiently using:\n",
    "\n",
    "- **Indexing:** Selecting individual elements by their position.\n",
    "- **Slicing:** Extracting a range or subset of elements using start, stop, and step.\n",
    "- **Fancy Indexing:** Using arrays or lists of indices to select multiple elements at once.\n",
    "\n",
    "These techniques help work with large datasets by accessing only the parts you need, or rearranging data quickly.\n"
   ]
  },
  {
   "cell_type": "code",
   "execution_count": 14,
   "id": "d9efa11e",
   "metadata": {},
   "outputs": [],
   "source": [
    "import numpy as np"
   ]
  },
  {
   "cell_type": "code",
   "execution_count": 15,
   "id": "a9e44bf1",
   "metadata": {},
   "outputs": [],
   "source": [
    "# Create a sample array\n",
    "array = np.array([10, 20, 30, 40, 50])"
   ]
  },
  {
   "cell_type": "code",
   "execution_count": 16,
   "id": "d76caaea",
   "metadata": {},
   "outputs": [
    {
     "name": "stdout",
     "output_type": "stream",
     "text": [
      "Element at index 0: 10\n",
      "Element at index 3: 40\n"
     ]
    }
   ],
   "source": [
    "# Indexing - access single elements\n",
    "print(\"Element at index 0:\", array[0])\n",
    "print(\"Element at index 3:\", array[3])"
   ]
  },
  {
   "cell_type": "code",
   "execution_count": 17,
   "id": "86443a27",
   "metadata": {},
   "outputs": [
    {
     "name": "stdout",
     "output_type": "stream",
     "text": [
      "Elements at indices [0, 4, 2]: [10 50 30]\n"
     ]
    }
   ],
   "source": [
    "# Fancy Indexing - select multiple specific elements\n",
    "indices = [0, 4, 2]\n",
    "print(\"Elements at indices [0, 4, 2]:\", array[indices])"
   ]
  },
  {
   "cell_type": "code",
   "execution_count": 18,
   "id": "5a57e8b7",
   "metadata": {},
   "outputs": [
    {
     "name": "stdout",
     "output_type": "stream",
     "text": [
      "Elements from index 2 to 4: [30 40 50]\n",
      "First three elements: [10 20 30]\n",
      "Array in reverse order: [50 40 30 20 10]\n"
     ]
    }
   ],
   "source": [
    "# Slicing - select a range of elements\n",
    "print(\"Elements from index 2 to 4:\", array[2:5])\n",
    "print(\"First three elements:\", array[:3])\n",
    "print(\"Array in reverse order:\", array[::-1])"
   ]
  },
  {
   "cell_type": "code",
   "execution_count": 19,
   "id": "8cba5b6c",
   "metadata": {},
   "outputs": [
    {
     "name": "stdout",
     "output_type": "stream",
     "text": [
      "Entire first row: [1 2 3]\n",
      "Element at row 1, column 2: 6\n",
      "All rows, first two columns:\n",
      " [[1 2]\n",
      " [4 5]\n",
      " [7 8]]\n",
      "Last two rows, all columns:\n",
      " [[4 5 6]\n",
      " [7 8 9]]\n",
      "Elements greater than 5: [6 7 8 9]\n"
     ]
    }
   ],
   "source": [
    "# Multi-dimensional array example\n",
    "matrix = np.array([\n",
    "    [1, 2, 3],\n",
    "    [4, 5, 6],\n",
    "    [7, 8, 9]\n",
    "])\n",
    "\n",
    "print(\"Entire first row:\", matrix[0])\n",
    "print(\"Element at row 1, column 2:\", matrix[1, 2])\n",
    "\n",
    "# Slicing rows and columns\n",
    "print(\"All rows, first two columns:\\n\", matrix[:, :2])\n",
    "print(\"Last two rows, all columns:\\n\", matrix[1:, :])\n",
    "\n",
    "# Boolean Indexing (subsetting)\n",
    "print(\"Elements greater than 5:\", matrix[matrix > 5])"
   ]
  },
  {
   "cell_type": "markdown",
   "id": "80b8353a",
   "metadata": {},
   "source": [
    "# Real-World Analogy: Selecting Books from a Bookshelf\n",
    "\n",
    "- **Indexing** is like picking a single book by its exact position on the shelf.\n",
    "- **Slicing** is like taking a whole section of books from the shelf.\n",
    "- **Fancy Indexing** is like grabbing specific books scattered across the shelf using a list of positions.\n",
    "- **Boolean indexing** is like choosing all books that meet a certain condition, such as all books by a particular author.\n",
    "\n",
    "These techniques make it easier to organize and retrieve data quickly.\n"
   ]
  }
 ],
 "metadata": {
  "kernelspec": {
   "display_name": "ai",
   "language": "python",
   "name": "python3"
  },
  "language_info": {
   "codemirror_mode": {
    "name": "ipython",
    "version": 3
   },
   "file_extension": ".py",
   "mimetype": "text/x-python",
   "name": "python",
   "nbconvert_exporter": "python",
   "pygments_lexer": "ipython3",
   "version": "3.9.21"
  }
 },
 "nbformat": 4,
 "nbformat_minor": 5
}
