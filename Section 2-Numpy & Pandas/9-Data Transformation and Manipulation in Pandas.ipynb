{
 "cells": [
  {
   "cell_type": "markdown",
   "id": "609d34cb",
   "metadata": {},
   "source": [
    "# Data Transformation and Manipulation in Pandas"
   ]
  },
  {
   "cell_type": "markdown",
   "id": "7fb662ff",
   "metadata": {},
   "source": [
    "Data transformation and manipulation are essential steps in preparing data for analysis.  \n",
    "In Pandas, you can easily reshape, modify, and compute new values from your datasets.\n",
    "\n",
    "Common transformations include:\n",
    "- **Renaming columns**: To make them more descriptive or consistent.\n",
    "- **Sorting data**: By one or more columns, in ascending or descending order.\n",
    "- **Creating new columns**: Based on existing data.\n",
    "- **Applying functions**: With `apply()` or `map()` to transform values.\n",
    "- **Replacing values**: Using `replace()` for corrections or standardization.\n",
    "- **Changing data types**: With `astype()` to ensure correct formats.\n",
    "- **Dropping columns or rows**: To remove unnecessary data.\n",
    "\n",
    "These operations make your dataset more meaningful and easier to analyze.\n"
   ]
  },
  {
   "cell_type": "code",
   "execution_count": 1,
   "id": "5ca3b2dd",
   "metadata": {},
   "outputs": [],
   "source": [
    "import pandas as pd"
   ]
  },
  {
   "cell_type": "code",
   "execution_count": 2,
   "id": "c301eb7d",
   "metadata": {},
   "outputs": [
    {
     "name": "stdout",
     "output_type": "stream",
     "text": [
      "Original DataFrame:\n",
      "          Name  Age  Salary   Sector\n",
      "0      Hayley   25   50000    Music\n",
      "1      Taylor   30   60000    Music\n",
      "2      Claire   35   70000       IT\n",
      "3      Aurora   40   80000  Finance\n",
      "4  Evangeline   45   90000       HR\n"
     ]
    }
   ],
   "source": [
    "# Sample dataset\n",
    "data = {\n",
    "    \"Name\": [\"Hayley\", \"Taylor\", \"Claire\", \"Aurora\", \"Evangeline\"],\n",
    "    \"Age\": [25, 30, 35, 40, 45],\n",
    "    \"Salary\": [50000, 60000, 70000, 80000, 90000],\n",
    "    \"Sector\": [\"Music\", \"Music\", \"IT\", \"Finance\", \"HR\"]\n",
    "}\n",
    "df = pd.DataFrame(data)\n",
    "print(\"Original DataFrame:\\n\", df)"
   ]
  },
  {
   "cell_type": "code",
   "execution_count": 3,
   "id": "04b43efd",
   "metadata": {},
   "outputs": [
    {
     "name": "stdout",
     "output_type": "stream",
     "text": [
      "\n",
      "Renamed Columns:\n",
      "          Name  Age  Annual Salary   Sector\n",
      "0      Hayley   25          50000    Music\n",
      "1      Taylor   30          60000    Music\n",
      "2      Claire   35          70000       IT\n",
      "3      Aurora   40          80000  Finance\n",
      "4  Evangeline   45          90000       HR\n"
     ]
    }
   ],
   "source": [
    "# 1. Rename columns\n",
    "df_renamed = df.rename(columns={\"Salary\": \"Annual Salary\"})\n",
    "print(\"\\nRenamed Columns:\\n\", df_renamed)"
   ]
  },
  {
   "cell_type": "code",
   "execution_count": 4,
   "id": "e7d49b05",
   "metadata": {},
   "outputs": [
    {
     "name": "stdout",
     "output_type": "stream",
     "text": [
      "\n",
      "Sorted by Age (Descending):\n",
      "          Name  Age  Salary   Sector\n",
      "4  Evangeline   45   90000       HR\n",
      "3      Aurora   40   80000  Finance\n",
      "2      Claire   35   70000       IT\n",
      "1      Taylor   30   60000    Music\n",
      "0      Hayley   25   50000    Music\n"
     ]
    }
   ],
   "source": [
    "# 2. Sort by Age (descending)\n",
    "df_sorted = df.sort_values(by=\"Age\", ascending=False)\n",
    "print(\"\\nSorted by Age (Descending):\\n\", df_sorted)\n",
    "\n"
   ]
  },
  {
   "cell_type": "code",
   "execution_count": 5,
   "id": "1a8820b7",
   "metadata": {},
   "outputs": [
    {
     "name": "stdout",
     "output_type": "stream",
     "text": [
      "\n",
      "New Column 'Salary (K)':\n",
      "          Name  Age  Salary   Sector  Salary (K)\n",
      "0      Hayley   25   50000    Music        50.0\n",
      "1      Taylor   30   60000    Music        60.0\n",
      "2      Claire   35   70000       IT        70.0\n",
      "3      Aurora   40   80000  Finance        80.0\n",
      "4  Evangeline   45   90000       HR        90.0\n"
     ]
    }
   ],
   "source": [
    "# 3. Create a new column (Salary in thousands)\n",
    "df[\"Salary (K)\"] = df[\"Salary\"] / 1000\n",
    "print(\"\\nNew Column 'Salary (K)':\\n\", df)\n",
    "\n"
   ]
  },
  {
   "cell_type": "code",
   "execution_count": 6,
   "id": "b4a6ee14",
   "metadata": {},
   "outputs": [
    {
     "name": "stdout",
     "output_type": "stream",
     "text": [
      "\n",
      "Added 'Age Category' Column:\n",
      "          Name  Age  Salary   Sector  Salary (K) Age Category\n",
      "0      Hayley   25   50000    Music        50.0        Young\n",
      "1      Taylor   30   60000    Music        60.0        Young\n",
      "2      Claire   35   70000       IT        70.0       Senior\n",
      "3      Aurora   40   80000  Finance        80.0       Senior\n",
      "4  Evangeline   45   90000       HR        90.0       Senior\n"
     ]
    }
   ],
   "source": [
    "# 4. Apply a function to transform a column\n",
    "df[\"Age Category\"] = df[\"Age\"].apply(lambda x: \"Young\" if x < 35 else \"Senior\")\n",
    "print(\"\\nAdded 'Age Category' Column:\\n\", df)\n",
    "\n"
   ]
  },
  {
   "cell_type": "code",
   "execution_count": 8,
   "id": "ba66b326",
   "metadata": {},
   "outputs": [
    {
     "name": "stdout",
     "output_type": "stream",
     "text": [
      "\n",
      "Updated Sector Names:\n",
      "          Name  Age  Salary                  Sector  Salary (K) Age Category\n",
      "0      Hayley   25   50000                   Music        50.0        Young\n",
      "1      Taylor   30   60000                   Music        60.0        Young\n",
      "2      Claire   35   70000  Information Technology        70.0       Senior\n",
      "3      Aurora   40   80000                 Finance        80.0       Senior\n",
      "4  Evangeline   45   90000         Human Resources        90.0       Senior\n"
     ]
    }
   ],
   "source": [
    "# 5. Replace department names\n",
    "df[\"Sector\"] = df[\"Sector\"].replace({\"HR\": \"Human Resources\", \"IT\": \"Information Technology\"})\n",
    "print(\"\\nUpdated Sector Names:\\n\", df)\n",
    "\n"
   ]
  },
  {
   "cell_type": "code",
   "execution_count": 9,
   "id": "2e616a56",
   "metadata": {},
   "outputs": [
    {
     "name": "stdout",
     "output_type": "stream",
     "text": [
      "\n",
      "Changed Age to float:\n",
      "          Name   Age  Salary                  Sector  Salary (K) Age Category\n",
      "0      Hayley  25.0   50000                   Music        50.0        Young\n",
      "1      Taylor  30.0   60000                   Music        60.0        Young\n",
      "2      Claire  35.0   70000  Information Technology        70.0       Senior\n",
      "3      Aurora  40.0   80000                 Finance        80.0       Senior\n",
      "4  Evangeline  45.0   90000         Human Resources        90.0       Senior\n"
     ]
    }
   ],
   "source": [
    "# 6. Change data type of Age to float\n",
    "df[\"Age\"] = df[\"Age\"].astype(float)\n",
    "print(\"\\nChanged Age to float:\\n\", df)\n",
    "\n"
   ]
  },
  {
   "cell_type": "code",
   "execution_count": 10,
   "id": "040d9912",
   "metadata": {},
   "outputs": [
    {
     "name": "stdout",
     "output_type": "stream",
     "text": [
      "\n",
      "Dropped 'Salary (K)' Column:\n",
      "          Name   Age  Salary                  Sector Age Category\n",
      "0      Hayley  25.0   50000                   Music        Young\n",
      "1      Taylor  30.0   60000                   Music        Young\n",
      "2      Claire  35.0   70000  Information Technology       Senior\n",
      "3      Aurora  40.0   80000                 Finance       Senior\n",
      "4  Evangeline  45.0   90000         Human Resources       Senior\n"
     ]
    }
   ],
   "source": [
    "# 7. Drop a column\n",
    "df_dropped = df.drop(columns=[\"Salary (K)\"])\n",
    "print(\"\\nDropped 'Salary (K)' Column:\\n\", df_dropped)"
   ]
  },
  {
   "cell_type": "markdown",
   "id": "a9d02701",
   "metadata": {},
   "source": [
    "# Real-World Analogy: Preparing a Recipe\n",
    "\n",
    "Imagine your dataset is like a recipe:\n",
    "- **Renaming**: Changing ingredient names for clarity.\n",
    "- **Sorting**: Organizing ingredients by amount or category.\n",
    "- **Creating new columns**: Adding a \"calories per serving\" column.\n",
    "- **Applying functions**: Converting quantities from grams to ounces.\n",
    "- **Replacing**: Updating old ingredient names to new ones.\n",
    "- **Changing data types**: Making sure quantities are stored as numbers, not text.\n",
    "- **Dropping**: Removing unneeded steps or ingredients.\n",
    "\n",
    "Just like preparing a recipe before cooking, transforming data ensures it’s ready for analysis.\n"
   ]
  }
 ],
 "metadata": {
  "kernelspec": {
   "display_name": "ai",
   "language": "python",
   "name": "python3"
  },
  "language_info": {
   "codemirror_mode": {
    "name": "ipython",
    "version": 3
   },
   "file_extension": ".py",
   "mimetype": "text/x-python",
   "name": "python",
   "nbconvert_exporter": "python",
   "pygments_lexer": "ipython3",
   "version": "3.9.21"
  }
 },
 "nbformat": 4,
 "nbformat_minor": 5
}
