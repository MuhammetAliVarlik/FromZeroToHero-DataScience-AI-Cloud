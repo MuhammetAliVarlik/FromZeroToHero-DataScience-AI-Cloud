{
 "cells": [
  {
   "cell_type": "markdown",
   "id": "fd280507",
   "metadata": {},
   "source": [
    "# Functions, Graphs, and Transformations in R"
   ]
  },
  {
   "cell_type": "markdown",
   "id": "b48c78a3",
   "metadata": {},
   "source": [
    "Functions in R allow you to **encapsulate calculations** and reuse them.  \n",
    "Graphs help visualize these functions. Transformations are changes you can make to a function, like scaling, shifting, or reflecting it.\n",
    "\n",
    "Key points:\n",
    "- Define a function using `function()`.\n",
    "- Transformations include:\n",
    "  - Vertical shift: `f(x) + k`\n",
    "  - Horizontal shift: `f(x - h)`\n",
    "  - Vertical scaling: `a * f(x)`\n",
    "  - Reflection: `-f(x)` or `f(-x)`\n",
    "- Plot the original function and transformations to see the effect.\n"
   ]
  },
  {
   "cell_type": "code",
   "execution_count": 1,
   "id": "525e0a04",
   "metadata": {
    "vscode": {
     "languageId": "r"
    }
   },
   "outputs": [],
   "source": [
    "# Define a basic function: f(x) = x^2\n",
    "f <- function(x) {\n",
    "  x^2\n",
    "}\n",
    "\n",
    "# Apply transformations\n",
    "x_vals <- seq(-5, 5, by = 0.1)\n",
    "y_original <- f(x_vals)          # original function\n",
    "y_shift_up <- f(x_vals) + 5      # vertical shift\n",
    "y_shift_right <- f(x_vals - 2)   # horizontal shift\n",
    "y_scaled <- 2 * f(x_vals)        # vertical scaling\n",
    "y_reflect <- -f(x_vals)          # reflection across x-axis"
   ]
  },
  {
   "cell_type": "code",
   "execution_count": 2,
   "id": "b64e4824",
   "metadata": {
    "vscode": {
     "languageId": "r"
    }
   },
   "outputs": [
    {
     "name": "stdout",
     "output_type": "stream",
     "text": [
      "[1] \"Original y values for x = -5:5 (step 1):\"\n",
      " [1] 25.00 24.01 23.04 22.09 21.16 20.25 19.36 18.49 17.64 16.81 16.00\n",
      "[1] \"Shifted up by 5:\"\n",
      " [1] 30.00 29.01 28.04 27.09 26.16 25.25 24.36 23.49 22.64 21.81 21.00\n",
      "[1] \"Shifted right by 2:\"\n",
      " [1] 49.00 47.61 46.24 44.89 43.56 42.25 40.96 39.69 38.44 37.21 36.00\n",
      "[1] \"Scaled by 2:\"\n",
      " [1] 50.00 48.02 46.08 44.18 42.32 40.50 38.72 36.98 35.28 33.62 32.00\n",
      "[1] \"Reflected across x-axis:\"\n",
      " [1] -25.00 -24.01 -23.04 -22.09 -21.16 -20.25 -19.36 -18.49 -17.64 -16.81\n",
      "[11] -16.00\n"
     ]
    }
   ],
   "source": [
    "# Print sample outputs\n",
    "print(\"Original y values for x = -5:5 (step 1):\")\n",
    "print(round(y_original[1:11], 2))   # first 11 points as example\n",
    "print(\"Shifted up by 5:\")\n",
    "print(round(y_shift_up[1:11], 2))\n",
    "print(\"Shifted right by 2:\")\n",
    "print(round(y_shift_right[1:11], 2))\n",
    "print(\"Scaled by 2:\")\n",
    "print(round(y_scaled[1:11], 2))\n",
    "print(\"Reflected across x-axis:\")\n",
    "print(round(y_reflect[1:11], 2))"
   ]
  },
  {
   "cell_type": "code",
   "execution_count": 3,
   "id": "7fe1d8da",
   "metadata": {
    "vscode": {
     "languageId": "r"
    }
   },
   "outputs": [
    {
     "data": {
      "image/png": "[encoded data removed]",
      "text/plain": [
       "Plot with title \"Function Transformations: f(x) = x^2\""
      ]
     },
     "metadata": {
      "image/png": {
       "height": 420,
       "width": 420
      }
     },
     "output_type": "display_data"
    }
   ],
   "source": [
    "# Plot all functions\n",
    "par(bg = \"white\", col.axis = \"black\", col.lab = \"black\", col.main = \"black\", pch = 19)\n",
    "plot(x_vals, y_original, type = \"l\", col = \"blue\", lwd = 2,\n",
    "     main = \"Function Transformations: f(x) = x^2\",\n",
    "     xlab = \"x values\", ylab = \"y values\")\n",
    "lines(x_vals, y_shift_up, col = \"green\", lwd = 2)\n",
    "lines(x_vals, y_shift_right, col = \"red\", lwd = 2)\n",
    "lines(x_vals, y_scaled, col = \"purple\", lwd = 2)\n",
    "lines(x_vals, y_reflect, col = \"orange\", lwd = 2)\n",
    "legend(\"topleft\", legend = c(\"Original\", \"Shift Up\", \"Shift Right\", \"Scaled\", \"Reflected\"),\n",
    "       col = c(\"blue\", \"green\", \"red\", \"purple\", \"orange\"), lwd = 2)\n"
   ]
  },
  {
   "cell_type": "markdown",
   "id": "445036e2",
   "metadata": {},
   "source": [
    "# Real-World Analogy\n",
    "\n",
    "- Imagine f(x) represents the height of a roller coaster at position x.  \n",
    "- Vertical shifts lift the entire ride up or down.  \n",
    "- Horizontal shifts move the ride along the track.  \n",
    "- Scaling makes the ride taller or shorter.  \n",
    "- Reflection flips the ride upside down.  \n",
    "\n",
    "Visualizing functions with transformations helps understand how mathematical operations change the shape of graphs.\n"
   ]
  }
 ],
 "metadata": {
  "kernelspec": {
   "display_name": "R",
   "language": "R",
   "name": "ir"
  },
  "language_info": {
   "codemirror_mode": "r",
   "file_extension": ".r",
   "mimetype": "text/x-r-source",
   "name": "R",
   "pygments_lexer": "r",
   "version": "4.5.1"
  }
 },
 "nbformat": 4,
 "nbformat_minor": 5
}
