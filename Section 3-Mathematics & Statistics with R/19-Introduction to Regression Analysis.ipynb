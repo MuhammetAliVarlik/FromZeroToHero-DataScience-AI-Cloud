{
 "cells": [
  {
   "cell_type": "markdown",
   "id": "17f97b8f",
   "metadata": {},
   "source": [
    "# Introduction to Regression Analysis"
   ]
  },
  {
   "cell_type": "markdown",
   "id": "288ff087",
   "metadata": {},
   "source": [
    "## 📌 What is Linear Regression?\n",
    "\n",
    "Linear regression is a statistical method used to model and understand the **relationship between a dependent variable $y$** and one or more **independent variables $x$**. \n",
    "\n",
    "- In **simple linear regression**, we have **one predictor** ($x$).  \n",
    "- The relationship is assumed to be **linear**, meaning the effect of $x$ on $y$ is additive and constant.  \n",
    "- The model also assumes that the **errors** $\\epsilon_i$ are:\n",
    "  1. Normally distributed\n",
    "  2. Independent of each other\n",
    "  3. Have constant variance (homoscedasticity)\n"
   ]
  },
  {
   "cell_type": "markdown",
   "id": "b05c5069",
   "metadata": {},
   "source": [
    "## 📌 Mathematical Model\n",
    "\n",
    "The **linear regression equation** is:\n",
    "\n",
    "$$\n",
    "y_i = \\beta_0 + \\beta_1 x_i + \\epsilon_i\n",
    "$$\n",
    "\n",
    "Where:  \n",
    "- $y_i$: observed value of the dependent variable for observation $i$  \n",
    "- $x_i$: value of the independent variable for observation $i$  \n",
    "- $\\beta_0$: intercept (value of $y$ when $x = 0$)  \n",
    "- $\\beta_1$: slope (change in $y$ for a one-unit change in $x$)  \n",
    "- $\\epsilon_i$: error term representing the deviation of the observation from the true line\n",
    "\n",
    "The **predicted value** of $y$ (denoted $\\hat{y}_i$) is:\n",
    "\n",
    "$$\n",
    "\\hat{y}_i = \\hat{\\beta}_0 + \\hat{\\beta}_1 x_i\n",
    "$$\n"
   ]
  },
  {
   "cell_type": "markdown",
   "id": "49a4aca0",
   "metadata": {},
   "source": [
    "## 📌 Estimating Coefficients Using Ordinary Least Squares (OLS)\n",
    "\n",
    "We want to find the line that **best fits the data**. OLS does this by **minimizing the sum of squared errors (SSE)**:\n",
    "\n",
    "$$\n",
    "SSE = \\sum_{i=1}^{n} (y_i - \\hat{y}_i)^2\n",
    "$$\n",
    "\n",
    "The formulas for the estimated coefficients are:\n",
    "\n",
    "$$\n",
    "\\hat{\\beta}_1 = \\frac{\\sum_{i=1}^{n} (x_i - \\bar{x})(y_i - \\bar{y})}{\\sum_{i=1}^{n} (x_i - \\bar{x})^2}\n",
    "$$\n",
    "\n",
    "$$\n",
    "\\hat{\\beta}_0 = \\bar{y} - \\hat{\\beta}_1 \\bar{x}\n",
    "$$\n",
    "\n",
    "Where:  \n",
    "- $\\bar{x}$ = mean of $x$  \n",
    "- $\\bar{y}$ = mean of $y$  \n",
    "\n",
    "**Interpretation**:  \n",
    "- $\\hat{\\beta}_1 > 0$ → $y$ increases as $x$ increases  \n",
    "- $\\hat{\\beta}_1 < 0$ → $y$ decreases as $x$ increases  \n",
    "- $\\hat{\\beta}_0$ gives the **starting point** of $y$ when $x = 0$\n"
   ]
  },
  {
   "cell_type": "markdown",
   "id": "387bfc1c",
   "metadata": {},
   "source": [
    "## 📌 Understanding the Error Term\n",
    "\n",
    "The error term $\\epsilon_i = y_i - \\hat{y}_i$ represents:\n",
    "\n",
    "1. **Random noise** in the data  \n",
    "2. Effects of **variables not included** in the model  \n",
    "3. Measurement errors in $x$ or $y$  \n",
    "\n",
    "Key assumptions for valid OLS estimates:  \n",
    "- $E[\\epsilon_i] = 0$ → errors have zero mean  \n",
    "- $Var(\\epsilon_i) = \\sigma^2$ → constant variance  \n",
    "- Errors are uncorrelated → $Cov(\\epsilon_i, \\epsilon_j) = 0$ for $i \\neq j$  \n",
    "- Linear relationship between $x$ and $y$\n"
   ]
  },
  {
   "cell_type": "markdown",
   "id": "b624cb15",
   "metadata": {},
   "source": [
    "## 📌 Why Minimize Squared Errors?\n",
    "\n",
    "- Squaring ensures all deviations are positive  \n",
    "- Larger deviations are **penalized more heavily**, which makes the line fit better  \n",
    "- Leads to a **unique solution** for $\\hat{\\beta}_0$ and $\\hat{\\beta}_1$ using derivatives\n"
   ]
  },
  {
   "cell_type": "markdown",
   "id": "362b6741",
   "metadata": {},
   "source": [
    "## 📌 Intuition for the Slope\n",
    "\n",
    "- The slope formula:\n",
    "\n",
    "$$\n",
    "\\hat{\\beta}_1 = \\frac{\\text{Cov}(x, y)}{\\text{Var}(x)} = \\frac{\\sum (x_i - \\bar{x})(y_i - \\bar{y})}{\\sum (x_i - \\bar{x})^2}\n",
    "$$\n",
    "\n",
    "- Numerator = how $x$ and $y$ **co-vary**  \n",
    "- Denominator = how $x$ **varies**  \n",
    "- Interpretation: for each 1-unit increase in $x$, $y$ changes by $\\hat{\\beta}_1$ units on average\n"
   ]
  },
  {
   "cell_type": "markdown",
   "id": "e4ecb6fd",
   "metadata": {},
   "source": [
    "## 📌 Intuition for the Intercept\n",
    "\n",
    "- $\\hat{\\beta}_0 = \\bar{y} - \\hat{\\beta}_1 \\bar{x}$  \n",
    "\n",
    "- It **anchors the regression line** at the center of the data  \n",
    "- Ensures the line passes through the point $(\\bar{x}, \\bar{y})$\n"
   ]
  },
  {
   "cell_type": "code",
   "execution_count": 1,
   "id": "88c1e930",
   "metadata": {
    "vscode": {
     "languageId": "r"
    }
   },
   "outputs": [
    {
     "name": "stdout",
     "output_type": "stream",
     "text": [
      "[1] \"Mean Hours: 8\"\n",
      "[1] \"Mean Score: 70.7142857142857\"\n",
      "[1] \"Slope (Beta1): 3.48214285714286\"\n",
      "[1] \"Intercept (Beta0): 42.8571428571428\"\n",
      "[1] \"Predicted Scores:\"\n",
      "[1] 49.82143 56.78571 63.75000 70.71429 77.67857 84.64286 91.60714\n"
     ]
    }
   ],
   "source": [
    "# Example Data: Study Hours vs Test Scores\n",
    "hours_studied <- c(2, 4, 6, 8, 10, 12, 14)\n",
    "test_scores <- c(50, 55, 65, 70, 80, 85, 90)\n",
    "\n",
    "# Combine into data frame\n",
    "study_data <- data.frame(Hours = hours_studied, Score = test_scores)\n",
    "\n",
    "# Step 1: Calculate means\n",
    "mean_hours <- mean(study_data$Hours)\n",
    "mean_score <- mean(study_data$Score)\n",
    "print(paste(\"Mean Hours:\", mean_hours))\n",
    "print(paste(\"Mean Score:\", mean_score))\n",
    "\n",
    "# Step 2: Calculate slope (beta1)\n",
    "beta1 <- sum((study_data$Hours - mean_hours) * (study_data$Score - mean_score)) /\n",
    "         sum((study_data$Hours - mean_hours)^2)\n",
    "print(paste(\"Slope (Beta1):\", beta1))\n",
    "\n",
    "# Step 3: Calculate intercept (beta0)\n",
    "beta0 <- mean_score - beta1 * mean_hours\n",
    "print(paste(\"Intercept (Beta0):\", beta0))\n",
    "\n",
    "# Step 4: Calculate predicted values\n",
    "study_data$Predicted <- beta0 + beta1 * study_data$Hours\n",
    "print(\"Predicted Scores:\")\n",
    "print(study_data$Predicted)"
   ]
  },
  {
   "cell_type": "code",
   "execution_count": 2,
   "id": "4de73c38",
   "metadata": {
    "vscode": {
     "languageId": "r"
    }
   },
   "outputs": [
    {
     "data": {
      "text/plain": [
       "\n",
       "Call:\n",
       "lm(formula = Score ~ Hours, data = study_data)\n",
       "\n",
       "Residuals:\n",
       "      1       2       3       4       5       6       7 \n",
       " 0.1786 -1.7857  1.2500 -0.7143  2.3214  0.3571 -1.6071 \n",
       "\n",
       "Coefficients:\n",
       "            Estimate Std. Error t value Pr(>|t|)    \n",
       "(Intercept)  42.8571     1.3832   30.98 6.57e-07 ***\n",
       "Hours         3.4821     0.1546   22.52 3.21e-06 ***\n",
       "---\n",
       "Signif. codes:  0 '***' 0.001 '**' 0.01 '*' 0.05 '.' 0.1 ' ' 1\n",
       "\n",
       "Residual standard error: 1.637 on 5 degrees of freedom\n",
       "Multiple R-squared:  0.9902,\tAdjusted R-squared:  0.9883 \n",
       "F-statistic:   507 on 1 and 5 DF,  p-value: 3.211e-06\n"
      ]
     },
     "metadata": {},
     "output_type": "display_data"
    }
   ],
   "source": [
    "# Built-in linear model\n",
    "model <- lm(Score ~ Hours, data = study_data)\n",
    "summary(model)"
   ]
  },
  {
   "cell_type": "code",
   "execution_count": 4,
   "id": "90d7c214",
   "metadata": {
    "vscode": {
     "languageId": "r"
    }
   },
   "outputs": [
    {
     "data": {
      "image/png": "[encoded data removed]",
      "text/plain": [
       "Plot with title \"Test Score vs Hours Studied\""
      ]
     },
     "metadata": {
      "image/png": {
       "height": 420,
       "width": 420
      }
     },
     "output_type": "display_data"
    }
   ],
   "source": [
    "# Scatter plot of actual vs predicted\n",
    "par(bg = \"white\", col.axis = \"black\", col.lab = \"black\", col.main = \"black\", pch = 19)\n",
    "plot(study_data$Hours, study_data$Score,\n",
    "     main = \"Test Score vs Hours Studied\",\n",
    "     xlab = \"Hours Studied\",\n",
    "     ylab = \"Test Score\",\n",
    "     pch = 19, col = \"blue\")\n",
    "\n",
    "# Add regression line\n",
    "abline(a = beta0, b = beta1, col = \"red\", lwd = 2)\n",
    "\n",
    "# Add predicted points\n",
    "points(study_data$Hours, study_data$Predicted, col = \"green\", pch = 17)\n",
    "\n",
    "# Add legend\n",
    "legend(\"topleft\", legend=c(\"Actual Scores\", \"Regression Line\", \"Predicted Scores\"),\n",
    "       col=c(\"blue\", \"red\", \"green\"), pch=c(19, NA, 17), lty=c(NA,1,NA))"
   ]
  },
  {
   "cell_type": "markdown",
   "id": "4bf67a9b",
   "metadata": {},
   "source": [
    "## 📌 Interpretation\n",
    "\n",
    "- The **slope** $\\hat{\\beta}_1$ tells how much the score changes for each additional hour studied.  \n",
    "- The **intercept** $\\hat{\\beta}_0$ gives the expected score when study hours = 0.  \n",
    "- The regression line summarizes the **average trend** in the data.  \n",
    "- Predicted points (green) show model estimates for each observation.\n"
   ]
  },
  {
   "cell_type": "markdown",
   "id": "e5de7d50",
   "metadata": {},
   "source": [
    "# Real-World Analogy\n",
    "\n",
    "Imagine you are a teacher predicting students' test scores based on hours studied:  \n",
    "\n",
    "- Each student is a point on the graph.  \n",
    "- The red regression line shows the **average trend**.  \n",
    "- The slope tells you how much the score increases per extra study hour.  \n",
    "- Green points are predicted scores from the model.  \n",
    "\n",
    "This helps **identify patterns** and **make predictions** for future students.\n"
   ]
  }
 ],
 "metadata": {
  "kernelspec": {
   "display_name": "R",
   "language": "R",
   "name": "ir"
  },
  "language_info": {
   "codemirror_mode": "r",
   "file_extension": ".r",
   "mimetype": "text/x-r-source",
   "name": "R",
   "pygments_lexer": "r",
   "version": "4.5.1"
  }
 },
 "nbformat": 4,
 "nbformat_minor": 5
}
