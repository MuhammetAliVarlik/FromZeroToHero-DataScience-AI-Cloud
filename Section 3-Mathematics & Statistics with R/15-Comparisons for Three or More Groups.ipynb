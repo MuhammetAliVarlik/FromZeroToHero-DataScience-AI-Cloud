{
 "cells": [
  {
   "cell_type": "markdown",
   "id": "7a5b8207",
   "metadata": {},
   "source": [
    "# Comparisons for Three or More Groups"
   ]
  },
  {
   "cell_type": "markdown",
   "id": "1e65715e",
   "metadata": {},
   "source": [
    "When comparing **three or more groups**, the choice of statistical test depends on:\n",
    "\n",
    "1. **Data type** – Continuous or categorical\n",
    "2. **Independence** – Independent or repeated-measures\n",
    "3. **Assumptions** – Normality and equal variances\n",
    "\n",
    "---\n",
    "\n",
    "### **Parametric Case (ANOVA)**\n",
    "\n",
    "#### **1. One-way ANOVA (Independent samples)**\n",
    "Used when comparing $k \\geq 3$ independent groups.  \n",
    "Null hypothesis:\n",
    "\n",
    "$$\n",
    "H_0: \\mu_1 = \\mu_2 = \\dots = \\mu_k\n",
    "$$\n",
    "\n",
    "Test statistic:\n",
    "\n",
    "$$\n",
    "F = \\frac{\\text{Between-group variance}}{\\text{Within-group variance}}\n",
    "= \\frac{MS_{\\text{between}}}{MS_{\\text{within}}}\n",
    "$$\n",
    "\n",
    "Where:\n",
    "\n",
    "$$\n",
    "MS_{\\text{between}} = \\frac{\\sum_{i=1}^k n_i (\\bar{X}_i - \\bar{X})^2}{k - 1}\n",
    "$$\n",
    "\n",
    "$$\n",
    "MS_{\\text{within}} = \\frac{\\sum_{i=1}^k \\sum_{j=1}^{n_i} (X_{ij} - \\bar{X}_i)^2}{N - k}\n",
    "$$\n",
    "\n",
    "---\n",
    "\n",
    "#### **2. Repeated-measures ANOVA**\n",
    "Used when the **same subjects** are measured under $k$ different conditions.  \n",
    "It accounts for **within-subject correlation** and partitions variance into between-subjects and within-subjects.\n",
    "\n",
    "---\n",
    "\n",
    "### **Non-parametric Case**\n",
    "\n",
    "- **Kruskal–Wallis test**:  \n",
    "  Rank-based test for $k$ independent groups.  \n",
    "  Test statistic:\n",
    "\n",
    "$$\n",
    "H = \\frac{12}{N(N+1)} \\sum_{i=1}^k \\frac{R_i^2}{n_i} - 3(N+1)\n",
    "$$\n",
    "\n",
    "Where $R_i$ is the sum of ranks in group $i$, $n_i$ is group size, and $N$ total sample size.\n",
    "\n",
    "- **Friedman test**:  \n",
    "  For $k$ repeated measures, ranks each row (subject) separately.  \n",
    "  Test statistic:\n",
    "\n",
    "$$\n",
    "Q = \\frac{12}{n k (k+1)} \\sum_{j=1}^k R_j^2 - 3n(k+1)\n",
    "$$\n",
    "\n",
    "Where $R_j$ is the sum of ranks for treatment $j$ across subjects.\n",
    "\n",
    "---\n",
    "\n",
    "If a test is significant ($p < 0.05$), **post-hoc tests** (Tukey's HSD, pairwise Wilcoxon, etc.) are used to find which groups differ.\n"
   ]
  },
  {
   "cell_type": "code",
   "execution_count": 1,
   "id": "f368f355",
   "metadata": {
    "vscode": {
     "languageId": "r"
    }
   },
   "outputs": [
    {
     "data": {
      "text/plain": [
       "            Df Sum Sq Mean Sq F value  Pr(>F)   \n",
       "groups       2  12.24   6.122   6.435 0.00518 **\n",
       "Residuals   27  25.68   0.951                   \n",
       "---\n",
       "Signif. codes:  0 '***' 0.001 '**' 0.01 '*' 0.05 '.' 0.1 ' ' 1"
      ]
     },
     "metadata": {},
     "output_type": "display_data"
    }
   ],
   "source": [
    "# One-way ANOVA example\n",
    "set.seed(123)\n",
    "group_A <- rnorm(10, mean = 5, sd = 1)\n",
    "group_B <- rnorm(10, mean = 6, sd = 1)\n",
    "group_C <- rnorm(10, mean = 7, sd = 1)\n",
    "\n",
    "values <- c(group_A, group_B, group_C)\n",
    "groups <- factor(rep(c(\"A\", \"B\", \"C\"), each = 10))\n",
    "\n",
    "anova_result <- aov(values ~ groups)\n",
    "summary(anova_result)"
   ]
  },
  {
   "cell_type": "code",
   "execution_count": 2,
   "id": "facc1945",
   "metadata": {
    "vscode": {
     "languageId": "r"
    }
   },
   "outputs": [
    {
     "data": {
      "text/plain": [
       "\n",
       "\tKruskal-Wallis rank sum test\n",
       "\n",
       "data:  list(grp1, grp2, grp3)\n",
       "Kruskal-Wallis chi-squared = 2.355, df = 2, p-value = 0.308\n"
      ]
     },
     "metadata": {},
     "output_type": "display_data"
    }
   ],
   "source": [
    "# Kruskal–Wallis test example (non-parametric)\n",
    "set.seed(321)\n",
    "grp1 <- rexp(8, rate = 0.5)\n",
    "grp2 <- rexp(8, rate = 0.6)\n",
    "grp3 <- rexp(8, rate = 0.7)\n",
    "\n",
    "kw_result <- kruskal.test(list(grp1, grp2, grp3))\n",
    "kw_result"
   ]
  },
  {
   "cell_type": "code",
   "execution_count": 5,
   "id": "7e6a906c",
   "metadata": {
    "vscode": {
     "languageId": "r"
    }
   },
   "outputs": [
    {
     "data": {
      "text/html": [
       "<dl>\n",
       "\t<dt>$ANOVA</dt>\n",
       "\t\t<dd><table class=\"dataframe\">\n",
       "<caption>A data.frame: 1 × 7</caption>\n",
       "<thead>\n",
       "\t<tr><th></th><th scope=col>Effect</th><th scope=col>DFn</th><th scope=col>DFd</th><th scope=col>F</th><th scope=col>p</th><th scope=col>p&lt;.05</th><th scope=col>ges</th></tr>\n",
       "\t<tr><th></th><th scope=col>&lt;chr&gt;</th><th scope=col>&lt;dbl&gt;</th><th scope=col>&lt;dbl&gt;</th><th scope=col>&lt;dbl&gt;</th><th scope=col>&lt;dbl&gt;</th><th scope=col>&lt;chr&gt;</th><th scope=col>&lt;dbl&gt;</th></tr>\n",
       "</thead>\n",
       "<tbody>\n",
       "\t<tr><th scope=row>2</th><td>treatment</td><td>2</td><td>10</td><td>4.262341</td><td>0.04584016</td><td>*</td><td>0.4104552</td></tr>\n",
       "</tbody>\n",
       "</table>\n",
       "</dd>\n",
       "\t<dt>$`Mauchly's Test for Sphericity`</dt>\n",
       "\t\t<dd><table class=\"dataframe\">\n",
       "<caption>A data.frame: 1 × 4</caption>\n",
       "<thead>\n",
       "\t<tr><th></th><th scope=col>Effect</th><th scope=col>W</th><th scope=col>p</th><th scope=col>p&lt;.05</th></tr>\n",
       "\t<tr><th></th><th scope=col>&lt;chr&gt;</th><th scope=col>&lt;dbl&gt;</th><th scope=col>&lt;dbl&gt;</th><th scope=col>&lt;chr&gt;</th></tr>\n",
       "</thead>\n",
       "<tbody>\n",
       "\t<tr><th scope=row>2</th><td>treatment</td><td>0.4379655</td><td>0.1918138</td><td></td></tr>\n",
       "</tbody>\n",
       "</table>\n",
       "</dd>\n",
       "\t<dt>$`Sphericity Corrections`</dt>\n",
       "\t\t<dd><table class=\"dataframe\">\n",
       "<caption>A data.frame: 1 × 7</caption>\n",
       "<thead>\n",
       "\t<tr><th></th><th scope=col>Effect</th><th scope=col>GGe</th><th scope=col>p[GG]</th><th scope=col>p[GG]&lt;.05</th><th scope=col>HFe</th><th scope=col>p[HF]</th><th scope=col>p[HF]&lt;.05</th></tr>\n",
       "\t<tr><th></th><th scope=col>&lt;chr&gt;</th><th scope=col>&lt;dbl&gt;</th><th scope=col>&lt;dbl&gt;</th><th scope=col>&lt;chr&gt;</th><th scope=col>&lt;dbl&gt;</th><th scope=col>&lt;dbl&gt;</th><th scope=col>&lt;chr&gt;</th></tr>\n",
       "</thead>\n",
       "<tbody>\n",
       "\t<tr><th scope=row>2</th><td>treatment</td><td>0.6401907</td><td>0.07659173</td><td></td><td>0.7638268</td><td>0.06409709</td><td></td></tr>\n",
       "</tbody>\n",
       "</table>\n",
       "</dd>\n",
       "</dl>\n"
      ],
      "text/latex": [
       "\\begin{description}\n",
       "\\item[\\$ANOVA] A data.frame: 1 × 7\n",
       "\\begin{tabular}{r|lllllll}\n",
       "  & Effect & DFn & DFd & F & p & p<.05 & ges\\\\\n",
       "  & <chr> & <dbl> & <dbl> & <dbl> & <dbl> & <chr> & <dbl>\\\\\n",
       "\\hline\n",
       "\t2 & treatment & 2 & 10 & 4.262341 & 0.04584016 & * & 0.4104552\\\\\n",
       "\\end{tabular}\n",
       "\n",
       "\\item[\\$`Mauchly's Test for Sphericity`] A data.frame: 1 × 4\n",
       "\\begin{tabular}{r|llll}\n",
       "  & Effect & W & p & p<.05\\\\\n",
       "  & <chr> & <dbl> & <dbl> & <chr>\\\\\n",
       "\\hline\n",
       "\t2 & treatment & 0.4379655 & 0.1918138 & \\\\\n",
       "\\end{tabular}\n",
       "\n",
       "\\item[\\$`Sphericity Corrections`] A data.frame: 1 × 7\n",
       "\\begin{tabular}{r|lllllll}\n",
       "  & Effect & GGe & p{[}GG{]} & p{[}GG{]}<.05 & HFe & p{[}HF{]} & p{[}HF{]}<.05\\\\\n",
       "  & <chr> & <dbl> & <dbl> & <chr> & <dbl> & <dbl> & <chr>\\\\\n",
       "\\hline\n",
       "\t2 & treatment & 0.6401907 & 0.07659173 &  & 0.7638268 & 0.06409709 & \\\\\n",
       "\\end{tabular}\n",
       "\n",
       "\\end{description}\n"
      ],
      "text/markdown": [
       "$ANOVA\n",
       ":   \n",
       "A data.frame: 1 × 7\n",
       "\n",
       "| <!--/--> | Effect &lt;chr&gt; | DFn &lt;dbl&gt; | DFd &lt;dbl&gt; | F &lt;dbl&gt; | p &lt;dbl&gt; | p&lt;.05 &lt;chr&gt; | ges &lt;dbl&gt; |\n",
       "|---|---|---|---|---|---|---|---|\n",
       "| 2 | treatment | 2 | 10 | 4.262341 | 0.04584016 | * | 0.4104552 |\n",
       "\n",
       "\n",
       "$`Mauchly's Test for Sphericity`\n",
       ":   \n",
       "A data.frame: 1 × 4\n",
       "\n",
       "| <!--/--> | Effect &lt;chr&gt; | W &lt;dbl&gt; | p &lt;dbl&gt; | p&lt;.05 &lt;chr&gt; |\n",
       "|---|---|---|---|---|\n",
       "| 2 | treatment | 0.4379655 | 0.1918138 | <!----> |\n",
       "\n",
       "\n",
       "$`Sphericity Corrections`\n",
       ":   \n",
       "A data.frame: 1 × 7\n",
       "\n",
       "| <!--/--> | Effect &lt;chr&gt; | GGe &lt;dbl&gt; | p[GG] &lt;dbl&gt; | p[GG]&lt;.05 &lt;chr&gt; | HFe &lt;dbl&gt; | p[HF] &lt;dbl&gt; | p[HF]&lt;.05 &lt;chr&gt; |\n",
       "|---|---|---|---|---|---|---|---|\n",
       "| 2 | treatment | 0.6401907 | 0.07659173 | <!----> | 0.7638268 | 0.06409709 | <!----> |\n",
       "\n",
       "\n",
       "\n",
       "\n"
      ],
      "text/plain": [
       "$ANOVA\n",
       "     Effect DFn DFd        F          p p<.05       ges\n",
       "2 treatment   2  10 4.262341 0.04584016     * 0.4104552\n",
       "\n",
       "$`Mauchly's Test for Sphericity`\n",
       "     Effect         W         p p<.05\n",
       "2 treatment 0.4379655 0.1918138      \n",
       "\n",
       "$`Sphericity Corrections`\n",
       "     Effect       GGe      p[GG] p[GG]<.05       HFe      p[HF] p[HF]<.05\n",
       "2 treatment 0.6401907 0.07659173           0.7638268 0.06409709          \n"
      ]
     },
     "metadata": {},
     "output_type": "display_data"
    }
   ],
   "source": [
    "# Repeated-measures ANOVA example\n",
    "if(!require(ez)) install.packages(\"ez\")\n",
    "library(ez)\n",
    "\n",
    "# Simulated dataset\n",
    "set.seed(42)\n",
    "subject <- factor(1:6)\n",
    "treatment <- factor(rep(c(\"T1\", \"T2\", \"T3\"), each = 6))\n",
    "score <- c(rnorm(6, 5), rnorm(6, 6), rnorm(6, 7))\n",
    "\n",
    "data_rm <- data.frame(subject = rep(subject, 3),\n",
    "                      treatment = treatment,\n",
    "                      score = score)\n",
    "\n",
    "ez_result <- ezANOVA(data = data_rm,\n",
    "                     dv = score,\n",
    "                     wid = subject,\n",
    "                     within = treatment)\n",
    "ez_result"
   ]
  },
  {
   "cell_type": "markdown",
   "id": "0e368440",
   "metadata": {},
   "source": [
    "# Real-World Analogy\n",
    "\n",
    "- **One-way ANOVA**: Compare the average yield of **three different fertilizer types** on crops.  \n",
    "- **Repeated-measures ANOVA**: Test the same patients' blood pressure at **three time points**.  \n",
    "- **Kruskal–Wallis**: Compare customer satisfaction scores (non-normal) between **three stores**.  \n",
    "- **Friedman test**: Compare performance of algorithms on the **same datasets**.\n"
   ]
  }
 ],
 "metadata": {
  "kernelspec": {
   "display_name": "R",
   "language": "R",
   "name": "ir"
  },
  "language_info": {
   "codemirror_mode": "r",
   "file_extension": ".r",
   "mimetype": "text/x-r-source",
   "name": "R",
   "pygments_lexer": "r",
   "version": "4.5.1"
  }
 },
 "nbformat": 4,
 "nbformat_minor": 5
}
