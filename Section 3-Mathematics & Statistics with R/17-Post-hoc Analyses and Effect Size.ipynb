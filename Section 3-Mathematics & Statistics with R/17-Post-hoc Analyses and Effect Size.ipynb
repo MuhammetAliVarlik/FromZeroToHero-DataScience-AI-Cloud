{
 "cells": [
  {
   "cell_type": "markdown",
   "id": "e53390ba",
   "metadata": {},
   "source": [
    "# Post-hoc Analyses and Effect Size"
   ]
  },
  {
   "cell_type": "markdown",
   "id": "3ce0c861",
   "metadata": {},
   "source": [
    "## 📌 What are Post-hoc Analyses?\n",
    "Post-hoc analyses are **additional statistical tests** performed after a significant result in ANOVA (or similar omnibus tests) to determine **exactly which groups differ**.\n",
    "\n",
    "---\n",
    "\n",
    "### 1. **Why Post-hoc?**\n",
    "- ANOVA tells us if there is **at least one difference** among group means, but **not where** that difference is.\n",
    "- Post-hoc tests compare group pairs while controlling the **familywise error rate (FWER)**.\n",
    "\n",
    "---\n",
    "\n",
    "### 2. **Common Post-hoc Tests**\n",
    "1. **Tukey's Honest Significant Difference (HSD)** — Equal variances, equal sample sizes.\n",
    "2. **Bonferroni Correction** — Conservative, adjusts p-values by the number of comparisons:\n",
    "\n",
    "$$\n",
    "p_{\\text{adjusted}} = \\min(1, \\; p_{\\text{raw}} \\times m)\n",
    "$$\n",
    "\n",
    "where \\( m \\) = number of comparisons.\n",
    "\n",
    "3. **Scheffé Test** — Very conservative, good for unequal group sizes.\n",
    "4. **Games–Howell Test** — Works when variances are unequal.\n",
    "\n",
    "---\n",
    "\n",
    "## 📌 What is Effect Size?\n",
    "Effect size quantifies **the magnitude** of the difference, not just whether it's statistically significant.\n",
    "\n",
    "### 1. **Cohen's d** for two groups:\n",
    "$$\n",
    "d = \\frac{\\bar{X}_1 - \\bar{X}_2}{s_p}\n",
    "$$\n",
    "\n",
    "where \\( s_p \\) is the pooled standard deviation:\n",
    "$$\n",
    "s_p = \\sqrt{\\frac{(n_1 - 1)s_1^2 + (n_2 - 1)s_2^2}{n_1 + n_2 - 2}}\n",
    "$$\n",
    "\n",
    "**Interpretation** (Cohen, 1988):\n",
    "- 0.2 → Small\n",
    "- 0.5 → Medium\n",
    "- 0.8 → Large\n",
    "\n",
    "---\n",
    "\n",
    "### 2. **Eta squared** (\\( \\eta^2 \\)) for ANOVA:\n",
    "$$\n",
    "\\eta^2 = \\frac{\\text{SS}_{\\text{between}}}{\\text{SS}_{\\text{total}}}\n",
    "$$\n",
    "\n",
    "**Interpretation**:\n",
    "- 0.01 → Small\n",
    "- 0.06 → Medium\n",
    "- 0.14 → Large\n",
    "\n",
    "---\n",
    "\n",
    "### 3. **Partial Eta squared** (\\( \\eta_p^2 \\)):\n",
    "$$\n",
    "\\eta_p^2 = \\frac{\\text{SS}_{\\text{effect}}}{\\text{SS}_{\\text{effect}} + \\text{SS}_{\\text{error}}}\n",
    "$$"
   ]
  },
  {
   "cell_type": "code",
   "execution_count": null,
   "id": "0dc76654",
   "metadata": {
    "vscode": {
     "languageId": "r"
    }
   },
   "outputs": [],
   "source": [
    "# Example: Tukey HSD after ANOVA\n",
    "set.seed(42)\n",
    "\n",
    "# Simulated data\n",
    "group_A <- rnorm(10, mean = 5, sd = 1)\n",
    "group_B <- rnorm(10, mean = 6.5, sd = 1)\n",
    "group_C <- rnorm(10, mean = 7, sd = 1)\n",
    "\n",
    "values <- c(group_A, group_B, group_C)\n",
    "groups <- factor(rep(c(\"A\", \"B\", \"C\"), each = 10))\n",
    "\n",
    "# ANOVA\n",
    "anova_model <- aov(values ~ groups)\n",
    "summary(anova_model)\n",
    "\n",
    "# Tukey HSD\n",
    "TukeyHSD(anova_model)"
   ]
  },
  {
   "cell_type": "code",
   "execution_count": null,
   "id": "61ec16dc",
   "metadata": {
    "vscode": {
     "languageId": "r"
    }
   },
   "outputs": [],
   "source": [
    "# Example: Effect size (Eta squared) using rstatix\n",
    "if(!require(rstatix)) install.packages(\"rstatix\", dependencies = TRUE)\n",
    "library(rstatix)\n",
    "\n",
    "anova_model %>% eta_squared()"
   ]
  },
  {
   "cell_type": "code",
   "execution_count": null,
   "id": "d8147cf5",
   "metadata": {
    "vscode": {
     "languageId": "r"
    }
   },
   "outputs": [],
   "source": [
    "# Example: Cohen's d for two groups\n",
    "if(!require(effsize)) install.packages(\"effsize\", dependencies = TRUE)\n",
    "library(effsize)\n",
    "\n",
    "cohen.d(group_A, group_B)"
   ]
  },
  {
   "cell_type": "markdown",
   "id": "cf9c5765",
   "metadata": {},
   "source": [
    "# Real-World Analogy\n",
    "\n",
    "- **Post-hoc**: ANOVA is like a teacher saying, “Some students scored differently.”  \n",
    "  Post-hoc tests find **exactly which students** had different scores.\n",
    "- **Effect size**: While p-values tell if a difference is likely real,  \n",
    "  effect size tells **how big** that difference is — like measuring not just if someone is taller, but **how many centimeters taller**."
   ]
  }
 ],
 "metadata": {
  "kernelspec": {
   "display_name": "R",
   "language": "R",
   "name": "ir"
  },
  "language_info": {
   "name": "R"
  }
 },
 "nbformat": 4,
 "nbformat_minor": 5
}
