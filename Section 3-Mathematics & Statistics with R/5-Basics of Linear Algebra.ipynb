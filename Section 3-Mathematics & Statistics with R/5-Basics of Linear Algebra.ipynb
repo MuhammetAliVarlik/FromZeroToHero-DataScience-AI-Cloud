{
 "cells": [
  {
   "cell_type": "markdown",
   "id": "26f4a1fd",
   "metadata": {},
   "source": [
    "# Basics of Linear Algebra"
   ]
  },
  {
   "cell_type": "markdown",
   "id": "b6550198",
   "metadata": {},
   "source": [
    "Linear algebra is the branch of mathematics that deals with vectors, matrices, and operations on them.  \n",
    "In R, you can easily perform matrix calculations, which are useful in data science, statistics, and machine learning.\n",
    "\n",
    "Key concepts:\n",
    "- **Vector**: A sequence of numbers (1D)\n",
    "- **Matrix**: A rectangular arrangement of numbers (2D)\n",
    "- **Operations**:\n",
    "  - Addition and subtraction\n",
    "  - Scalar multiplication\n",
    "  - Matrix multiplication\n",
    "  - Transpose\n",
    "  - Determinant\n",
    "  - Inverse\n"
   ]
  },
  {
   "cell_type": "code",
   "execution_count": 1,
   "id": "7935abf8",
   "metadata": {
    "vscode": {
     "languageId": "r"
    }
   },
   "outputs": [],
   "source": [
    "# Create two matrices\n",
    "A <- matrix(c(1, 2, 3, 4, 5, 6), nrow = 2, ncol = 3)  # 2x3 matrix\n",
    "B <- matrix(c(6, 5, 4, 3, 2, 1), nrow = 2, ncol = 3)  # 2x3 matrix"
   ]
  },
  {
   "cell_type": "code",
   "execution_count": 8,
   "id": "7b8937fb",
   "metadata": {
    "vscode": {
     "languageId": "r"
    }
   },
   "outputs": [
    {
     "name": "stdout",
     "output_type": "stream",
     "text": [
      "[1] \"Matrix A:\"\n",
      "     [,1] [,2] [,3]\n",
      "[1,]    1    3    5\n",
      "[2,]    2    4    6\n"
     ]
    }
   ],
   "source": [
    "print(\"Matrix A:\")\n",
    "print(A)"
   ]
  },
  {
   "cell_type": "code",
   "execution_count": 9,
   "id": "413b8600",
   "metadata": {
    "vscode": {
     "languageId": "r"
    }
   },
   "outputs": [
    {
     "name": "stdout",
     "output_type": "stream",
     "text": [
      "[1] \"Matrix B:\"\n",
      "     [,1] [,2] [,3]\n",
      "[1,]    6    4    2\n",
      "[2,]    5    3    1\n"
     ]
    }
   ],
   "source": [
    "print(\"Matrix B:\")\n",
    "print(B)"
   ]
  },
  {
   "cell_type": "code",
   "execution_count": 2,
   "id": "7bc91ea9",
   "metadata": {
    "vscode": {
     "languageId": "r"
    }
   },
   "outputs": [
    {
     "name": "stdout",
     "output_type": "stream",
     "text": [
      "[1] \"Matrix Addition (A + B):\"\n",
      "     [,1] [,2] [,3]\n",
      "[1,]    7    7    7\n",
      "[2,]    7    7    7\n"
     ]
    }
   ],
   "source": [
    "# Matrix addition\n",
    "C_add <- A + B\n",
    "print(\"Matrix Addition (A + B):\")\n",
    "print(C_add)"
   ]
  },
  {
   "cell_type": "code",
   "execution_count": 3,
   "id": "0d9e0e4d",
   "metadata": {
    "vscode": {
     "languageId": "r"
    }
   },
   "outputs": [
    {
     "name": "stdout",
     "output_type": "stream",
     "text": [
      "[1] \"Scalar Multiplication (2 * A):\"\n",
      "     [,1] [,2] [,3]\n",
      "[1,]    2    6   10\n",
      "[2,]    4    8   12\n"
     ]
    }
   ],
   "source": [
    "# Scalar multiplication\n",
    "C_scalar <- 2 * A\n",
    "print(\"Scalar Multiplication (2 * A):\")\n",
    "print(C_scalar)"
   ]
  },
  {
   "cell_type": "code",
   "execution_count": 4,
   "id": "7633d3c6",
   "metadata": {
    "vscode": {
     "languageId": "r"
    }
   },
   "outputs": [
    {
     "name": "stdout",
     "output_type": "stream",
     "text": [
      "[1] \"Matrix Multiplication (A %*% D):\"\n",
      "     [,1] [,2]\n",
      "[1,]    1    9\n",
      "[2,]    2   12\n"
     ]
    }
   ],
   "source": [
    "# Matrix multiplication (requires compatible dimensions)\n",
    "# For multiplication, A must be (m x n) and another matrix must be (n x p)\n",
    "D <- matrix(c(1, 0, 0, 1, 1, 1), nrow = 3, ncol = 2) # 3x2 matrix\n",
    "C_mult <- A %*% D\n",
    "print(\"Matrix Multiplication (A %*% D):\")\n",
    "print(C_mult)"
   ]
  },
  {
   "cell_type": "code",
   "execution_count": 5,
   "id": "22334fe1",
   "metadata": {
    "vscode": {
     "languageId": "r"
    }
   },
   "outputs": [
    {
     "name": "stdout",
     "output_type": "stream",
     "text": [
      "[1] \"Transpose of A:\"\n",
      "     [,1] [,2]\n",
      "[1,]    1    2\n",
      "[2,]    3    4\n",
      "[3,]    5    6\n"
     ]
    }
   ],
   "source": [
    "# Transpose of A\n",
    "A_transpose <- t(A)\n",
    "print(\"Transpose of A:\")\n",
    "print(A_transpose)"
   ]
  },
  {
   "cell_type": "code",
   "execution_count": 6,
   "id": "360aaabd",
   "metadata": {
    "vscode": {
     "languageId": "r"
    }
   },
   "outputs": [
    {
     "name": "stdout",
     "output_type": "stream",
     "text": [
      "[1] \"Determinant of E:\"\n",
      "[1] 10\n",
      "[1] \"Inverse of E:\"\n",
      "     [,1] [,2]\n",
      "[1,]  0.6 -0.2\n",
      "[2,] -0.7  0.4\n"
     ]
    }
   ],
   "source": [
    "# Square matrix for determinant and inverse\n",
    "E <- matrix(c(4, 7, 2, 6), nrow = 2, ncol = 2)\n",
    "det_E <- det(E)\n",
    "inv_E <- solve(E)\n",
    "\n",
    "print(\"Determinant of E:\")\n",
    "print(det_E)\n",
    "print(\"Inverse of E:\")\n",
    "print(inv_E)"
   ]
  },
  {
   "cell_type": "code",
   "execution_count": 7,
   "id": "2c294fee",
   "metadata": {
    "vscode": {
     "languageId": "r"
    }
   },
   "outputs": [
    {
     "data": {
      "image/png": "[encoded data removed]",
      "text/plain": [
       "Plot with title \"Vector Visualization\""
      ]
     },
     "metadata": {
      "image/png": {
       "height": 420,
       "width": 420
      }
     },
     "output_type": "display_data"
    }
   ],
   "source": [
    "# Optional visualization of vectors in 2D\n",
    "# We'll plot two vectors from the origin\n",
    "vector1 <- c(2, 3)\n",
    "vector2 <- c(4, 1)\n",
    "\n",
    "par(bg = \"white\", col.axis = \"black\", col.lab = \"black\", col.main = \"black\", pch = 19)\n",
    "plot(c(0, vector1[1], vector2[1]), c(0, vector1[2], vector2[2]),\n",
    "     type = \"n\", xlim = c(0, 5), ylim = c(0, 4),\n",
    "     xlab = \"X\", ylab = \"Y\", main = \"Vector Visualization\")\n",
    "arrows(0, 0, vector1[1], vector1[2], col = \"blue\", lwd = 2)\n",
    "arrows(0, 0, vector2[1], vector2[2], col = \"red\", lwd = 2)\n",
    "legend(\"topright\", legend = c(\"Vector 1\", \"Vector 2\"),\n",
    "       col = c(\"blue\", \"red\"), lwd = 2)"
   ]
  },
  {
   "cell_type": "markdown",
   "id": "9f9b2cce",
   "metadata": {},
   "source": [
    "# Real-World Analogy\n",
    "\n",
    "- **Vectors**: Think of them as arrows showing both direction and length.\n",
    "- **Matrices**: Like spreadsheets of numbers where rows and columns matter.\n",
    "- **Matrix multiplication**: Similar to combining transformations — like scaling and rotating an image.\n",
    "- **Determinant**: A special number that can tell if a transformation is reversible.\n",
    "- **Inverse**: The \"undo\" button for a transformation.\n",
    "\n",
    "Linear algebra is the mathematical engine behind 3D graphics, machine learning models, and physics simulations.\n"
   ]
  }
 ],
 "metadata": {
  "kernelspec": {
   "display_name": "R",
   "language": "R",
   "name": "ir"
  },
  "language_info": {
   "codemirror_mode": "r",
   "file_extension": ".r",
   "mimetype": "text/x-r-source",
   "name": "R",
   "pygments_lexer": "r",
   "version": "4.5.1"
  }
 },
 "nbformat": 4,
 "nbformat_minor": 5
}
