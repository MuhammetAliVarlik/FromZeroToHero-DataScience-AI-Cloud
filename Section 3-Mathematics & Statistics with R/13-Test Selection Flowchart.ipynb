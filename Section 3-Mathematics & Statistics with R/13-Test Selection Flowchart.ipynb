{
 "cells": [
  {
   "cell_type": "markdown",
   "id": "e58760f7",
   "metadata": {},
   "source": [
    "# Hypothesis Test Selection Flowchart"
   ]
  },
  {
   "cell_type": "markdown",
   "id": "62d00838",
   "metadata": {},
   "source": [
    "## How to Choose the Right Hypothesis Test\n",
    "\n",
    "Choosing the appropriate statistical test depends on several factors:\n",
    "\n",
    "1. **Type of Data**\n",
    "   - Continuous (numeric) → Z-test, t-test, ANOVA\n",
    "   - Categorical → Chi-square test, Fisher's exact test\n",
    "\n",
    "2. **Sample Size & Population Knowledge**\n",
    "   - Large sample or known variance → Z-test\n",
    "   - Small sample or unknown variance → t-test\n",
    "\n",
    "3. **Number of Groups**\n",
    "   - One group → One-sample test\n",
    "   - Two groups → Two-sample test\n",
    "   - Three or more → ANOVA\n",
    "\n",
    "4. **Paired vs. Independent Samples**\n",
    "   - Paired → Paired t-test\n",
    "   - Independent → Two-sample t-test\n",
    "\n",
    "This flowchart visually summarizes these decision rules.\n"
   ]
  },
  {
   "cell_type": "code",
   "execution_count": 1,
   "id": "65643d5f",
   "metadata": {
    "vscode": {
     "languageId": "r"
    }
   },
   "outputs": [
    {
     "name": "stderr",
     "output_type": "stream",
     "text": [
      "Zorunlu paket yükleniyor: DiagrammeR\n",
      "\n",
      "Zorunlu paket yükleniyor: DiagrammeRsvg\n",
      "\n",
      "Zorunlu paket yükleniyor: rsvg\n",
      "\n",
      "Linking to librsvg 2.57.0\n",
      "\n"
     ]
    }
   ],
   "source": [
    "if(!require(DiagrammeR)) install.packages(\"DiagrammeR\", dependencies = TRUE)\n",
    "if(!require(DiagrammeRsvg)) install.packages(\"DiagrammeRsvg\")\n",
    "if(!require(rsvg)) install.packages(\"rsvg\")\n",
    "\n",
    "library(DiagrammeR)\n",
    "library(DiagrammeRsvg)\n",
    "library(rsvg)"
   ]
  },
  {
   "cell_type": "code",
   "execution_count": 3,
   "id": "8381140b",
   "metadata": {
    "vscode": {
     "languageId": "r"
    }
   },
   "outputs": [
    {
     "data": {
      "text/plain": [
       "[1] \"test_selection_flow.png\"\n",
       "attr(,\"class\")\n",
       "[1] \"knit_image_paths\" \"knit_asis\"       "
      ]
     },
     "metadata": {},
     "output_type": "display_data"
    }
   ],
   "source": [
    "# Create detailed flowchart\n",
    "flowchart <- grViz(\"\n",
    "digraph test_selection {\n",
    "\n",
    "  graph [layout = dot, rankdir = TB, fontsize = 14, nodesep=1, ranksep=1.2]\n",
    "\n",
    "  node [shape = box, style=filled, fontname=Helvetica, fontsize=14]\n",
    "\n",
    "  # Top node\n",
    "  Groups [label='Number of groups to compare', fillcolor=lightyellow]\n",
    "\n",
    "  # Two groups\n",
    "  TwoGroups [label='2 groups', fillcolor=lightblue]\n",
    "\n",
    "  Paired_2 [label='Paired', fillcolor=lightblue]\n",
    "  Unpaired_2 [label='Unpaired', fillcolor=lightblue]\n",
    "\n",
    "  Parametic_Paired_2 [label='Parametic', fillcolor=lightblue]\n",
    "  Unparametic_Paired_2 [label='Non-parametic', fillcolor=lightblue]\n",
    "  Parametic_Unpaired_2 [label='Parametic', fillcolor=lightblue]\n",
    "  Unparametic_Unpaired_2 [label='Non-parametic', fillcolor=lightblue]\n",
    "\n",
    "  Unpaired_t_test [label='Unpaired t-test', fillcolor=lightblue]\n",
    "  MannWhitney [label='Mann-Whitney U Test', fillcolor=lightblue]\n",
    "  paired_t_test [label='Paired t-test', fillcolor=lightblue]\n",
    "  WilcoxonSigned [label='Wilcoxon Signed Rank Test', fillcolor=lightblue]\n",
    "\n",
    "  Assume_2 [label='Assume Equal Variences?', fillcolor=lightblue]\n",
    "\n",
    "  yes_2 [label='yes', fillcolor=lightblue]\n",
    "  no_2  [label='no', fillcolor=lightblue]\n",
    "\n",
    "  Student_t_test [label='Student t-test', fillcolor=lightblue]\n",
    "  Welch_t_test [label='Welch t-test', fillcolor=lightblue]\n",
    "\n",
    "\n",
    "  # ≥3 groups\n",
    "  ThreeGroups [label='≥ 3 groups', fillcolor=lightblue]\n",
    "  Paired_3 [label='Paired', fillcolor=lightblue]\n",
    "  Unpaired_3 [label='Unpaired', fillcolor=lightblue]\n",
    "  \n",
    "  Parametic_Paired_3 [label='Parametic', fillcolor=lightblue]\n",
    "  Unparametic_Paired_3 [label='Non-parametic', fillcolor=lightblue]\n",
    "  Parametic_Unpaired_3 [label='Parametic', fillcolor=lightblue]\n",
    "  Unparametic_Unpaired_3 [label='Non-parametic', fillcolor=lightblue]\n",
    "\n",
    "  OneWayRepeated [label='One-Way repeated measure ANNOVA', fillcolor=lightblue]\n",
    "  Friedman [label='Friedman Test', fillcolor=lightblue]\n",
    "\n",
    "  Assume_3 [label='Assume Equal Variences?', fillcolor=lightblue]\n",
    "\n",
    "  yes_3 [label='yes', fillcolor=lightblue]\n",
    "  no_3  [label='no', fillcolor=lightblue]\n",
    "\n",
    "  KruskallWallis [label='Kruskall-Wallis test', fillcolor=lightblue]\n",
    "  OneWay [label='One-way ANOVA', fillcolor=lightblue]\n",
    "\n",
    "  p[label='P<0.05',fillcolor=lightblue]\n",
    "\n",
    "  # Edges\n",
    "  Groups -> TwoGroups\n",
    "  Groups -> ThreeGroups\n",
    "\n",
    "  TwoGroups -> Paired_2\n",
    "  TwoGroups -> Unpaired_2\n",
    "  Paired_2 -> Parametic_Paired_2\n",
    "  Paired_2 -> Unparametic_Paired_2\n",
    "  Unpaired_2 -> Parametic_Unpaired_2\n",
    "  Unpaired_2 -> Unparametic_Unpaired_2\n",
    "  Parametic_Paired_2 -> paired_t_test\n",
    "  Unparametic_Paired_2 -> WilcoxonSigned\n",
    "  Parametic_Unpaired_2 -> Unpaired_t_test\n",
    "  Unparametic_Unpaired_2 -> MannWhitney\n",
    "  Unpaired_t_test -> Assume_2\n",
    "  Assume_2 -> yes_2\n",
    "  Assume_2 -> no_2\n",
    "  yes_2-> Student_t_test\n",
    "  no_2 -> Welch_t_test\n",
    "\n",
    "  ThreeGroups -> Unpaired_3\n",
    "  ThreeGroups -> Paired_3\n",
    "  \n",
    "  Paired_3 -> Parametic_Paired_3\n",
    "  Paired_3 -> Unparametic_Paired_3\n",
    "  Unpaired_3 -> Parametic_Unpaired_3\n",
    "  Unpaired_3 -> Unparametic_Unpaired_3\n",
    "  Parametic_Paired_3 -> OneWayRepeated\n",
    "  Unparametic_Paired_3 -> Friedman\n",
    "  Parametic_Unpaired_3 -> Assume_3\n",
    "  Unparametic_Unpaired_3 -> KruskallWallis\n",
    "  Assume_3 -> yes_3\n",
    "  Assume_3 -> no_3\n",
    "  yes_3 -> OneWay\n",
    "  no_3 -> KruskallWallis\n",
    "  KruskallWallis -> p\n",
    "  OneWay -> p\n",
    "  Friedman -> p\n",
    "  \n",
    "}\n",
    "\")\n",
    "\n",
    "# Export to PNG\n",
    "svg_code <- export_svg(flowchart)\n",
    "rsvg_png(charToRaw(svg_code), \"test_selection_flow.png\")\n",
    "\n",
    "# Display in notebook\n",
    "knitr::include_graphics(\"test_selection_flow.png\")"
   ]
  },
  {
   "cell_type": "markdown",
   "id": "83586b25",
   "metadata": {},
   "source": [
    "![title](test_selection_flow.png)"
   ]
  },
  {
   "cell_type": "markdown",
   "id": "514ee0e2",
   "metadata": {},
   "source": [
    "### Real-World Analogy\n",
    "\n",
    "Imagine you are a chef testing recipes:\n",
    "\n",
    "- **Continuous data**: Measuring exact cooking times or weights.  \n",
    "- **Categorical data**: Counting customer preferences (e.g., likes/dislikes).  \n",
    "- Use **Z-test** for large-scale, precise recipes, **t-test** for smaller batches, **ANOVA** for comparing several recipes, and **Chi-square** for preference counts.\n"
   ]
  }
 ],
 "metadata": {
  "kernelspec": {
   "display_name": "R",
   "language": "R",
   "name": "ir"
  },
  "language_info": {
   "codemirror_mode": "r",
   "file_extension": ".r",
   "mimetype": "text/x-r-source",
   "name": "R",
   "pygments_lexer": "r",
   "version": "4.5.1"
  }
 },
 "nbformat": 4,
 "nbformat_minor": 5
}
