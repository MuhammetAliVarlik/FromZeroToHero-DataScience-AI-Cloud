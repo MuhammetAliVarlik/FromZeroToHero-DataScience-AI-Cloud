{
 "cells": [
  {
   "cell_type": "markdown",
   "id": "0d682c54",
   "metadata": {},
   "source": [
    "# Basic Arithmetic and Algebra"
   ]
  },
  {
   "cell_type": "markdown",
   "id": "37654606",
   "metadata": {},
   "source": [
    "R can perform arithmetic and simple algebra.  \n",
    "We will print the results so you can see exactly what each operation produces.\n",
    "\n",
    "Common operations:\n",
    "- `+` addition\n",
    "- `-` subtraction\n",
    "- `*` multiplication\n",
    "- `/` division\n",
    "- `^` exponentiation\n",
    "- `%%` modulus (remainder)\n",
    "- `%/%` integer division\n"
   ]
  },
  {
   "cell_type": "code",
   "execution_count": 2,
   "id": "611ab250",
   "metadata": {
    "vscode": {
     "languageId": "r"
    }
   },
   "outputs": [
    {
     "name": "stdout",
     "output_type": "stream",
     "text": [
      "[1] \"Sum: 13\"\n",
      "[1] \"Difference: 7\"\n",
      "[1] \"Product: 30\"\n",
      "[1] \"Quotient: 3.33333333333333\"\n",
      "[1] \"Power: 1000\"\n",
      "[1] \"Remainder: 1\"\n",
      "[1] \"Integer Division: 3\"\n"
     ]
    }
   ],
   "source": [
    "# Basic arithmetic examples\n",
    "a <- 10\n",
    "b <- 3\n",
    "\n",
    "sum_ab <- a + b        # addition\n",
    "diff_ab <- a - b       # subtraction\n",
    "prod_ab <- a * b       # multiplication\n",
    "quot_ab <- a / b       # division\n",
    "power_ab <- a^b        # exponentiation\n",
    "mod_ab <- a %% b       # remainder\n",
    "int_div_ab <- a %/% b  # integer division\n",
    "\n",
    "# Print results explicitly\n",
    "print(paste(\"Sum:\", sum_ab))\n",
    "print(paste(\"Difference:\", diff_ab))\n",
    "print(paste(\"Product:\", prod_ab))\n",
    "print(paste(\"Quotient:\", quot_ab))\n",
    "print(paste(\"Power:\", power_ab))\n",
    "print(paste(\"Remainder:\", mod_ab))\n",
    "print(paste(\"Integer Division:\", int_div_ab))"
   ]
  },
  {
   "cell_type": "code",
   "execution_count": 3,
   "id": "e23c2254",
   "metadata": {
    "vscode": {
     "languageId": "r"
    }
   },
   "outputs": [
    {
     "name": "stdout",
     "output_type": "stream",
     "text": [
      "[1] \"Values of y for x = 1:5:\"\n",
      "[1]  7  9 11 13 15\n"
     ]
    },
    {
     "data": {
      "image/png": "[encoded data removed]",
      "text/plain": [
       "Plot with title \"\"Plot of\" ~ y == 2 * x + 5\""
      ]
     },
     "metadata": {
      "image/png": {
       "height": 420,
       "width": 420
      }
     },
     "output_type": "display_data"
    }
   ],
   "source": [
    "# Algebraic expression example\n",
    "x <- 1:5\n",
    "y <- 2 * x + 5   # linear equation: y = 2x + 5\n",
    "\n",
    "# Print the algebraic result\n",
    "print(\"Values of y for x = 1:5:\")\n",
    "print(y)\n",
    "\n",
    "# Optional plot to visualize the linear equation\n",
    "par(bg = \"white\", col.axis = \"black\", col.lab = \"black\", col.main = \"black\", pch = 19)\n",
    "plot(x, y, \n",
    "     main = expression(\"Plot of\" ~ y == 2*x + 5), \n",
    "     xlab = expression(\"x values\"), \n",
    "     ylab = expression(\"y values\"))"
   ]
  },
  {
   "cell_type": "markdown",
   "id": "ab4fe07e",
   "metadata": {},
   "source": [
    "# Real-World Analogy\n",
    "\n",
    "- Arithmetic: Adding or subtracting items in a shopping cart.  \n",
    "- Algebra: Representing total cost as \"y = 2*x + 5\" where x is the number of items.  \n",
    "\n",
    "Printing the outputs lets you check calculations immediately and see how changing `x` affects `y`.  \n",
    "The plot visualizes this relationship.\n"
   ]
  }
 ],
 "metadata": {
  "kernelspec": {
   "display_name": "R",
   "language": "R",
   "name": "ir"
  },
  "language_info": {
   "codemirror_mode": "r",
   "file_extension": ".r",
   "mimetype": "text/x-r-source",
   "name": "R",
   "pygments_lexer": "r",
   "version": "4.5.1"
  }
 },
 "nbformat": 4,
 "nbformat_minor": 5
}
