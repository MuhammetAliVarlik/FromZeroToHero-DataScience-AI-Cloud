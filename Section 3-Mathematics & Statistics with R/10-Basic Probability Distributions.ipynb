{
 "cells": [
  {
   "cell_type": "markdown",
   "id": "57cef294",
   "metadata": {},
   "source": [
    "# Basic Probability Distributions in R"
   ]
  },
  {
   "cell_type": "markdown",
   "id": "cd64d661",
   "metadata": {},
   "source": [
    "A **probability distribution** describes how the probability mass (discrete case)  \n",
    "or probability density (continuous case) is spread across possible outcomes.\n",
    "\n",
    "## 1. Discrete Probability Distributions\n",
    "- Defined for **countable** outcomes.\n",
    "- **Probability Mass Function (PMF)**:  \n",
    "  $$\n",
    "  P(X = x) = f(x)\n",
    "  $$  \n",
    "  Conditions:\n",
    "  1. $f(x) \\ge 0$ for all $x$\n",
    "  2. $\\sum_x f(x) = 1$\n",
    "\n",
    "### Example: Binomial Distribution\n",
    "- Models the number of successes in $n$ independent Bernoulli trials.\n",
    "- Parameters:\n",
    "  - $n$: Number of trials\n",
    "  - $p$: Probability of success\n",
    "- PMF:\n",
    "  $$\n",
    "  P(X = k) = \\binom{n}{k} p^k (1-p)^{n-k}, \\quad k = 0, 1, ..., n\n",
    "  $$\n",
    "\n",
    "## 2. Continuous Probability Distributions\n",
    "- Defined for **uncountable** outcomes (intervals of real numbers).\n",
    "- **Probability Density Function (PDF)**:  \n",
    "  $$\n",
    "  f(x) \\ge 0, \\quad \\int_{-\\infty}^{\\infty} f(x) dx = 1\n",
    "  $$\n",
    "- Probability of a single value is zero: $P(X = x) = 0$\n",
    "- Probability for a range: $P(a \\le X \\le b) = \\int_a^b f(x) dx$\n",
    "\n",
    "### Example: Normal Distribution\n",
    "- Parameters:\n",
    "  - $\\mu$: Mean (center)\n",
    "  - $\\sigma$: Standard deviation (spread)\n",
    "- PDF:\n",
    "  $$\n",
    "  f(x) = \\frac{1}{\\sigma \\sqrt{2\\pi}} \\exp\\Big(-\\frac{(x-\\mu)^2}{2\\sigma^2}\\Big)\n",
    "  $$\n",
    "- Symmetric, bell-shaped curve centered at $\\mu$.\n"
   ]
  },
  {
   "cell_type": "code",
   "execution_count": 4,
   "id": "f999225b",
   "metadata": {
    "vscode": {
     "languageId": "r"
    }
   },
   "outputs": [
    {
     "name": "stdout",
     "output_type": "stream",
     "text": [
      "[1] \"Binomial PMF values (n=10, p=0.5):\"\n",
      " [1] 0.0010 0.0098 0.0439 0.1172 0.2051 0.2461 0.2051 0.1172 0.0439 0.0098\n",
      "[11] 0.0010\n"
     ]
    },
    {
     "data": {
      "image/png": "[encoded data removed]",
      "text/plain": [
       "Plot with title \"Binomial Distribution PMF\""
      ]
     },
     "metadata": {
      "image/png": {
       "height": 420,
       "width": 420
      }
     },
     "output_type": "display_data"
    }
   ],
   "source": [
    "### 1. Binomial Distribution Example\n",
    "n <- 10    # number of trials\n",
    "p <- 0.5   # probability of success\n",
    "\n",
    "# PMF values for X = 0,1,...,n\n",
    "x_vals_binom <- 0:n\n",
    "prob_binom <- dbinom(x_vals_binom, size = n, prob = p)\n",
    "\n",
    "# Print probabilities\n",
    "print(\"Binomial PMF values (n=10, p=0.5):\")\n",
    "print(round(prob_binom, 4))\n",
    "\n",
    "# Plot PMF\n",
    "par(bg = \"white\", col.axis = \"black\", col.lab = \"black\", col.main = \"black\", pch = 19)\n",
    "barplot(prob_binom, names.arg = x_vals_binom, col = \"skyblue\",\n",
    "        main = \"Binomial Distribution PMF\",\n",
    "        xlab = \"Number of Successes (k)\",\n",
    "        ylab = \"P(X = k)\")"
   ]
  },
  {
   "cell_type": "code",
   "execution_count": 6,
   "id": "5b3823e0",
   "metadata": {
    "vscode": {
     "languageId": "r"
    }
   },
   "outputs": [
    {
     "name": "stdout",
     "output_type": "stream",
     "text": [
      "[1] \"First 10 PDF values for N(0,1):\"\n",
      " [1] 0.0001 0.0002 0.0003 0.0004 0.0006 0.0009 0.0012 0.0017 0.0024 0.0033\n"
     ]
    },
    {
     "data": {
      "image/png": "[encoded data removed]",
      "text/plain": [
       "Plot with title \"Normal Distribution PDF: N(0, 1)\""
      ]
     },
     "metadata": {
      "image/png": {
       "height": 420,
       "width": 420
      }
     },
     "output_type": "display_data"
    }
   ],
   "source": [
    "### 2. Normal Distribution Example\n",
    "mu <- 0     # mean\n",
    "sigma <- 1  # standard deviation\n",
    "x_vals_norm <- seq(-4, 4, by = 0.1)\n",
    "y_vals_norm <- dnorm(x_vals_norm, mean = mu, sd = sigma)\n",
    "\n",
    "# Print first few density values\n",
    "print(\"First 10 PDF values for N(0,1):\")\n",
    "print(round(y_vals_norm[1:10], 4))\n",
    "\n",
    "# Plot PDF\n",
    "par(bg = \"white\", col.axis = \"black\", col.lab = \"black\", col.main = \"black\", pch = 19)\n",
    "plot(x_vals_norm, y_vals_norm, type = \"l\", col = \"red\", lwd = 2,\n",
    "     main = expression(\"Normal Distribution PDF: N(0, 1)\"),\n",
    "     xlab = \"x\", ylab = \"Density\")\n"
   ]
  },
  {
   "cell_type": "markdown",
   "id": "7cd99bf0",
   "metadata": {},
   "source": [
    "# Mathematical & Real-World Interpretation\n",
    "\n",
    "- **Binomial (discrete)**: Counts successes in fixed trials.  \n",
    "  Examples: Number of heads in coin tosses, number of defective items in a batch.\n",
    "\n",
    "- **Normal (continuous)**: Often arises via the Central Limit Theorem.  \n",
    "  Examples: Heights, weights, measurement errors.\n",
    "\n",
    "Mathematically:\n",
    "- Binomial PMF gives exact probability for each outcome $k$.\n",
    "- Normal PDF describes density — areas under the curve represent probabilities.\n",
    "\n",
    "In practice:\n",
    "- Use `dbinom`/`dnorm` for probabilities or densities.\n",
    "- Use `pbinom`/`pnorm` for cumulative probabilities.\n",
    "- Use `rbinom`/`rnorm` to generate random samples.\n"
   ]
  }
 ],
 "metadata": {
  "kernelspec": {
   "display_name": "R",
   "language": "R",
   "name": "ir"
  },
  "language_info": {
   "codemirror_mode": "r",
   "file_extension": ".r",
   "mimetype": "text/x-r-source",
   "name": "R",
   "pygments_lexer": "r",
   "version": "4.5.1"
  }
 },
 "nbformat": 4,
 "nbformat_minor": 5
}
