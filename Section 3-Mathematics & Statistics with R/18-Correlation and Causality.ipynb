{
 "cells": [
  {
   "cell_type": "markdown",
   "id": "575ca0cb",
   "metadata": {},
   "source": [
    "# Correlation and Causality"
   ]
  },
  {
   "cell_type": "markdown",
   "id": "6bc186de",
   "metadata": {},
   "source": [
    "## 📌 What is Correlation?\n",
    "Correlation measures the **strength** and **direction** of a linear relationship between two quantitative variables.\n",
    "\n",
    "The most common measure is **Pearson's correlation coefficient**:\n",
    "\n",
    "$$\n",
    "r = \\frac{\\sum_{i=1}^n (x_i - \\bar{x})(y_i - \\bar{y})}\n",
    "{\\sqrt{\\sum_{i=1}^n (x_i - \\bar{x})^2} \\cdot \\sqrt{\\sum_{i=1}^n (y_i - \\bar{y})^2}}\n",
    "$$\n",
    "\n",
    "Where:\n",
    "- \\( r \\) ranges from **-1** to **+1**\n",
    "  - \\( r = +1 \\) → Perfect positive correlation  \n",
    "  - \\( r = -1 \\) → Perfect negative correlation  \n",
    "  - \\( r = 0 \\) → No linear relationship\n",
    "\n",
    "---\n",
    "\n",
    "## 📌 What is Causality?\n",
    "Causality means **one variable directly affects another**.\n",
    "\n",
    "- **Correlation ≠ Causation**\n",
    "- Correlation can be caused by:\n",
    "  1. **Direct causal relationship** (A → B)\n",
    "  2. **Reverse causality** (B → A)\n",
    "  3. **Confounding variable** (C causes both A and B)\n",
    "  4. **Coincidence** (spurious correlation)\n",
    "\n",
    "---\n",
    "\n",
    "## 📌 Hypothesis Testing for Correlation\n",
    "We can test:\n",
    "- \\( H_0 \\): \\( \\rho = 0 \\) (no linear relationship in population)\n",
    "- \\( H_a \\): \\( \\rho \\neq 0 \\) (there is a relationship)\n",
    "\n",
    "Test statistic:\n",
    "$$\n",
    "t = r \\cdot \\sqrt{\\frac{n-2}{1-r^2}}\n",
    "$$\n",
    "\n",
    "Degrees of freedom: \\( df = n - 2 \\)"
   ]
  },
  {
   "cell_type": "code",
   "execution_count": 1,
   "id": "57b4587f",
   "metadata": {
    "vscode": {
     "languageId": "r"
    }
   },
   "outputs": [
    {
     "data": {
      "text/html": [
       "0.993497688894576"
      ],
      "text/latex": [
       "0.993497688894576"
      ],
      "text/markdown": [
       "0.993497688894576"
      ],
      "text/plain": [
       "[1] 0.9934977"
      ]
     },
     "metadata": {},
     "output_type": "display_data"
    },
    {
     "data": {
      "text/plain": [
       "\n",
       "\tPearson's product-moment correlation\n",
       "\n",
       "data:  study_hours and exam_scores\n",
       "t = 21.375, df = 6, p-value = 6.839e-07\n",
       "alternative hypothesis: true correlation is not equal to 0\n",
       "95 percent confidence interval:\n",
       " 0.9630411 0.9988705\n",
       "sample estimates:\n",
       "      cor \n",
       "0.9934977 \n"
      ]
     },
     "metadata": {},
     "output_type": "display_data"
    }
   ],
   "source": [
    "# Example: Pearson Correlation in R\n",
    "set.seed(42)\n",
    "\n",
    "# Simulate data\n",
    "study_hours <- c(2, 3, 4, 5, 6, 8, 9, 10)\n",
    "exam_scores <- c(50, 55, 58, 64, 66, 72, 75, 78)\n",
    "\n",
    "# Calculate correlation\n",
    "correlation_result <- cor(study_hours, exam_scores, method = \"pearson\")\n",
    "correlation_result\n",
    "\n",
    "# Test correlation significance\n",
    "cor.test(study_hours, exam_scores, method = \"pearson\")"
   ]
  },
  {
   "cell_type": "code",
   "execution_count": 3,
   "id": "9826588b",
   "metadata": {
    "vscode": {
     "languageId": "r"
    }
   },
   "outputs": [
    {
     "data": {
      "image/png": "[encoded data removed]",
      "text/plain": [
       "Plot with title \"Scatter plot (r = 0.99 )\""
      ]
     },
     "metadata": {
      "image/png": {
       "height": 420,
       "width": 420
      }
     },
     "output_type": "display_data"
    }
   ],
   "source": [
    "# Visualization\n",
    "par(bg = \"white\", col.axis = \"black\", col.lab = \"black\", col.main = \"black\", pch = 19)\n",
    "plot(study_hours, exam_scores,\n",
    "     main = paste(\"Scatter plot (r =\", round(correlation_result, 2), \")\"),\n",
    "     xlab = \"Study Hours\",\n",
    "     ylab = \"Exam Score\",\n",
    "     pch = 19, col = \"blue\")\n",
    "abline(lm(exam_scores ~ study_hours), col = \"red\", lwd = 2)"
   ]
  },
  {
   "cell_type": "markdown",
   "id": "e35137f8",
   "metadata": {},
   "source": [
    "# Real-World Analogy\n",
    "\n",
    "- **Correlation**: You notice that ice cream sales and drowning incidents both increase in summer.  \n",
    "  They are correlated, but one doesn’t cause the other — **temperature** is the hidden factor.\n",
    "- **Causation**: Turning on a light switch causes the light to turn on — direct cause-effect.\n"
   ]
  }
 ],
 "metadata": {
  "kernelspec": {
   "display_name": "R",
   "language": "R",
   "name": "ir"
  },
  "language_info": {
   "codemirror_mode": "r",
   "file_extension": ".r",
   "mimetype": "text/x-r-source",
   "name": "R",
   "pygments_lexer": "r",
   "version": "4.5.1"
  }
 },
 "nbformat": 4,
 "nbformat_minor": 5
}
