{
 "cells": [
  {
   "cell_type": "markdown",
   "id": "32d6c24c",
   "metadata": {},
   "source": [
    "# Introduction to Hypothesis Testing"
   ]
  },
  {
   "cell_type": "markdown",
   "id": "2c8811f6",
   "metadata": {},
   "source": [
    "## Hypothesis Testing — Detailed Theory\n",
    "\n",
    "Hypothesis testing is a **formal statistical framework** for evaluating whether a sample provides enough evidence to infer a property of a population.\n",
    "\n",
    "---\n",
    "\n",
    "### 1. Formulation of Hypotheses\n",
    "We define two competing statements:\n",
    "\n",
    "- **Null Hypothesis ($H_0$)**  \n",
    "  Represents the default assumption about the population.  \n",
    "  Example: $H_0: \\mu = \\mu_0$ (no difference in means).\n",
    "\n",
    "- **Alternative Hypothesis ($H_a$ or $H_1$)**  \n",
    "  Represents the claim we want to investigate. It can be:\n",
    "  - **Two-sided**: $H_a: \\mu \\neq \\mu_0$\n",
    "  - **Right-tailed**: $H_a: \\mu > \\mu_0$\n",
    "  - **Left-tailed**: $H_a: \\mu < \\mu_0$\n",
    "\n",
    "---\n",
    "\n",
    "### 2. Significance Level ($\\alpha$)\n",
    "- $\\alpha$ is the **probability of committing a Type I error**:\n",
    "$$\n",
    "\\alpha = P(\\text{Reject } H_0 \\mid H_0 \\text{ is true})\n",
    "$$\n",
    "- Typical choices: $\\alpha = 0.05$ (5%), $\\alpha = 0.01$ (1%).\n",
    "- Smaller $\\alpha$ → stricter test, lower probability of false positive.\n",
    "\n",
    "---\n",
    "\n",
    "### 3. Types of Statistical Errors\n",
    "- **Type I Error**: Rejecting $H_0$ when it is actually true. Probability = $\\alpha$.\n",
    "- **Type II Error**: Failing to reject $H_0$ when $H_a$ is true. Probability = $\\beta$.\n",
    "- **Power of the test**: $1 - \\beta$, probability of correctly rejecting $H_0$ when $H_a$ is true.\n",
    "\n",
    "---\n",
    "\n",
    "### 4. Choice of Test Statistic\n",
    "The **test statistic** is a standardized measure of the difference between the sample statistic and the hypothesized population parameter.\n",
    "\n",
    "- **Z-test**: When population variance is known, or $n$ is large (Central Limit Theorem applies).\n",
    "- **t-test**: When variance is unknown, and we estimate it from the sample.\n",
    "- **$\\chi^2$-test**: For variance testing or categorical data association.\n",
    "- **F-test**: For comparing variances or in ANOVA.\n",
    "\n",
    "---\n",
    "\n",
    "### 5. Decision Rule Using p-value\n",
    "- **p-value** = Probability of observing a test statistic at least as extreme as the one calculated from the sample **assuming $H_0$ is true**.\n",
    "- Decision criterion:\n",
    "$$\n",
    "\\text{If } p\\text{-value} < \\alpha \\quad \\Rightarrow \\quad \\text{Reject } H_0\n",
    "$$\n",
    "Otherwise: Fail to reject $H_0$.\n",
    "\n",
    "---\n",
    "\n",
    "### 6. Example: One-Sample t-Test\n",
    "Suppose:\n",
    "- Hypothesized mean: $\\mu_0$\n",
    "- Sample mean: $\\bar{X}$\n",
    "- Sample standard deviation: $s$\n",
    "- Sample size: $n$\n",
    "\n",
    "Test statistic:\n",
    "$$\n",
    "t = \\frac{\\bar{X} - \\mu_0}{s / \\sqrt{n}}\n",
    "$$\n",
    "\n",
    "Degrees of freedom:\n",
    "$$\n",
    "df = n - 1\n",
    "$$\n",
    "\n",
    "We compare $t$ to the Student's t-distribution with $n-1$ degrees of freedom.\n",
    "\n",
    "---\n",
    "\n",
    "### 7. Graphical Interpretation\n",
    "The rejection region is determined by $\\alpha$ and the shape of the test statistic's distribution.\n",
    "\n",
    "For a two-sided test:\n",
    "$$\n",
    "\\text{Reject } H_0 \\quad \\text{if} \\quad |t| > t_{\\alpha/2, \\, df}\n",
    "$$\n",
    "\n",
    "For a right-tailed test:\n",
    "$$\n",
    "\\text{Reject } H_0 \\quad \\text{if} \\quad t > t_{\\alpha, \\, df}\n",
    "$$\n",
    "\n",
    "For a left-tailed test:\n",
    "$$\n",
    "\\text{Reject } H_0 \\quad \\text{if} \\quad t < -t_{\\alpha, \\, df}\n",
    "$$\n"
   ]
  },
  {
   "cell_type": "markdown",
   "id": "a09d8320",
   "metadata": {},
   "source": [
    "### Common Tests:\n",
    "\n",
    "1. **Z-Test**\n",
    "   - Use when population variance is known or sample size is large ($n>30$).\n",
    "   - Test statistic:\n",
    "   $$\n",
    "   Z = \\frac{\\bar{X} - \\mu_0}{\\sigma / \\sqrt{n}}\n",
    "   $$\n",
    "\n",
    "2. **t-Test**\n",
    "   - Use when population variance is unknown and/or $n$ is small.\n",
    "   - One-sample t-test: compare sample mean to hypothesized mean.\n",
    "   - Two-sample t-test: compare means of two independent samples.\n",
    "   $$\n",
    "   t = \\frac{\\bar{X}_1 - \\bar{X}_2}{\\sqrt{s_1^2/n_1 + s_2^2/n_2}}\n",
    "   $$\n",
    "\n",
    "3. **Chi-Square Test ($\\chi^2$)**\n",
    "   - Test categorical distributions or variances.\n",
    "   - Test statistic:\n",
    "   $$\n",
    "   \\chi^2 = \\sum \\frac{(O_i - E_i)^2}{E_i}\n",
    "   $$\n",
    "   - $O_i$ = observed counts, $E_i$ = expected counts.\n",
    "\n",
    "4. **F-Test / ANOVA**\n",
    "   - Compare variances or means of multiple groups.\n",
    "   - Test statistic:\n",
    "   $$\n",
    "   F = \\frac{\\text{variance between groups}}{\\text{variance within groups}}\n",
    "   $$\n"
   ]
  },
  {
   "cell_type": "markdown",
   "id": "c84dd6f0",
   "metadata": {},
   "source": [
    "## Z-Test Example"
   ]
  },
  {
   "cell_type": "code",
   "execution_count": 8,
   "id": "60ecda25",
   "metadata": {
    "vscode": {
     "languageId": "r"
    }
   },
   "outputs": [
    {
     "name": "stdout",
     "output_type": "stream",
     "text": [
      "Z-test statistic: 1.991 \n",
      "p-value: 0.0465 \n"
     ]
    },
    {
     "data": {
      "image/png": "[encoded data removed]",
      "text/plain": [
       "Plot with title \"Z-Test Rejection Regions\""
      ]
     },
     "metadata": {
      "image/png": {
       "height": 420,
       "width": 420
      }
     },
     "output_type": "display_data"
    }
   ],
   "source": [
    "# Z-test example: known population variance\n",
    "par(bg = \"white\", col.axis = \"black\", col.lab = \"black\", col.main = \"black\", pch = 19)\n",
    "\n",
    "# Sample data\n",
    "set.seed(100)\n",
    "sample_data <- rnorm(50, mean = 102, sd = 10)  # sample mean ~102\n",
    "mu_0 <- 100                                     # hypothesized mean\n",
    "sigma <- 10                                     # known population SD\n",
    "n <- length(sample_data)\n",
    "\n",
    "# Z statistic\n",
    "z_stat <- (mean(sample_data) - mu_0) / (sigma / sqrt(n))\n",
    "\n",
    "# Two-tailed p-value\n",
    "p_value <- 2 * (1 - pnorm(abs(z_stat)))\n",
    "\n",
    "# Print results\n",
    "cat(\"Z-test statistic:\", round(z_stat, 3), \"\\n\")\n",
    "cat(\"p-value:\", round(p_value, 4), \"\\n\")\n",
    "\n",
    "# Visualize Z-distribution with rejection regions\n",
    "x <- seq(-4, 4, length = 500)\n",
    "y <- dnorm(x)\n",
    "alpha <- 0.05\n",
    "z_crit <- qnorm(1 - alpha/2)\n",
    "\n",
    "plot(x, y, type = \"l\", lwd = 2, col = \"blue\",\n",
    "     main = \"Z-Test Rejection Regions\", xlab = \"Z value\", ylab = \"Density\", cex.main = 1.5)\n",
    "polygon(c(x[x <= -z_crit], -z_crit), c(y[x <= -z_crit], 0), col = \"pink\", border = NA)\n",
    "polygon(c(x[x >= z_crit], z_crit), c(y[x >= z_crit], 0), col = \"pink\", border = NA)\n",
    "abline(v = z_stat, col = \"red\", lwd = 2, lty = 2)\n",
    "abline(v = c(-z_crit, z_crit), col = \"darkgreen\", lwd = 2, lty = 3)\n"
   ]
  },
  {
   "cell_type": "markdown",
   "id": "0cbd0e33",
   "metadata": {},
   "source": [
    "## One-sample t-test"
   ]
  },
  {
   "cell_type": "code",
   "execution_count": 9,
   "id": "23410f75",
   "metadata": {
    "vscode": {
     "languageId": "r"
    }
   },
   "outputs": [
    {
     "name": "stdout",
     "output_type": "stream",
     "text": [
      "\n",
      "\tOne Sample t-test\n",
      "\n",
      "data:  weights\n",
      "t = -1.8409, df = 29, p-value = 0.07588\n",
      "alternative hypothesis: true mean is not equal to 70\n",
      "95 percent confidence interval:\n",
      " 67.35545 70.13903\n",
      "sample estimates:\n",
      "mean of x \n",
      " 68.74724 \n",
      "\n"
     ]
    },
    {
     "data": {
      "image/png": "[encoded data removed]",
      "text/plain": [
       "Plot with title \"One-Sample t-Test\""
      ]
     },
     "metadata": {
      "image/png": {
       "height": 420,
       "width": 420
      }
     },
     "output_type": "display_data"
    }
   ],
   "source": [
    "# One-sample t-test\n",
    "weights <- rnorm(30, mean = 69, sd = 3)\n",
    "mu_0 <- 70\n",
    "\n",
    "t_result <- t.test(weights, mu = mu_0)\n",
    "print(t_result)\n",
    "\n",
    "# Boxplot\n",
    "par(bg = \"white\", col.axis = \"black\", col.lab = \"black\", col.main = \"black\", pch = 19)\n",
    "boxplot(weights, main = \"One-Sample t-Test\", ylab = \"Weight (kg)\", col = \"lightblue\", cex.main = 1.5)\n",
    "abline(h = mu_0, col = \"red\", lwd = 2, lty = 2)\n"
   ]
  },
  {
   "cell_type": "markdown",
   "id": "c3890dd1",
   "metadata": {},
   "source": [
    "## Two-Sample t-Test Example"
   ]
  },
  {
   "cell_type": "code",
   "execution_count": 10,
   "id": "da83aff9",
   "metadata": {
    "vscode": {
     "languageId": "r"
    }
   },
   "outputs": [
    {
     "name": "stdout",
     "output_type": "stream",
     "text": [
      "\n",
      "\tTwo Sample t-test\n",
      "\n",
      "data:  group1 and group2\n",
      "t = -3.5648, df = 48, p-value = 0.0008362\n",
      "alternative hypothesis: true difference in means is not equal to 0\n",
      "95 percent confidence interval:\n",
      " -7.546965 -2.103721\n",
      "sample estimates:\n",
      "mean of x mean of y \n",
      " 79.73787  84.56321 \n",
      "\n"
     ]
    },
    {
     "data": {
      "image/png": "[encoded data removed]",
      "text/plain": [
       "Plot with title \"Two-Sample t-Test\""
      ]
     },
     "metadata": {
      "image/png": {
       "height": 420,
       "width": 420
      }
     },
     "output_type": "display_data"
    }
   ],
   "source": [
    "# Two independent samples\n",
    "group1 <- rnorm(25, mean = 80, sd = 5)\n",
    "group2 <- rnorm(25, mean = 85, sd = 5)\n",
    "\n",
    "t2_result <- t.test(group1, group2, var.equal = TRUE)  # assuming equal variances\n",
    "print(t2_result)\n",
    "\n",
    "# Visual comparison\n",
    "par(bg = \"white\", col.axis = \"black\", col.lab = \"black\", col.main = \"black\", pch = 19)\n",
    "boxplot(group1, group2, names = c(\"Group1\", \"Group2\"),\n",
    "        main = \"Two-Sample t-Test\", col = c(\"lightgreen\",\"lightblue\"), cex.main = 1.5)"
   ]
  },
  {
   "cell_type": "markdown",
   "id": "a2795e0a",
   "metadata": {},
   "source": [
    "## Chi-Square Test Example"
   ]
  },
  {
   "cell_type": "code",
   "execution_count": 11,
   "id": "8aed4068",
   "metadata": {
    "vscode": {
     "languageId": "r"
    }
   },
   "outputs": [
    {
     "name": "stdout",
     "output_type": "stream",
     "text": [
      "\n",
      "\tChi-squared test for given probabilities\n",
      "\n",
      "data:  observed\n",
      "X-squared = 5, df = 2, p-value = 0.08208\n",
      "\n"
     ]
    },
    {
     "data": {
      "image/png": "[encoded data removed]",
      "text/plain": [
       "Plot with title \"Chi-Square Test\""
      ]
     },
     "metadata": {
      "image/png": {
       "height": 420,
       "width": 420
      }
     },
     "output_type": "display_data"
    }
   ],
   "source": [
    "# Observed counts in categories\n",
    "observed <- c(50, 30, 20)\n",
    "expected <- c(40, 40, 20)\n",
    "\n",
    "chi_result <- chisq.test(x = observed, p = expected/sum(expected))\n",
    "print(chi_result)\n",
    "\n",
    "# Barplot\n",
    "par(bg = \"white\", col.axis = \"black\", col.lab = \"black\", col.main = \"black\", pch = 19)\n",
    "barplot(observed, names.arg = c(\"Category1\",\"Category2\",\"Category3\"),\n",
    "        col = \"orange\", main = \"Chi-Square Test\", cex.main = 1.5)\n",
    "abline(h = expected, col = \"red\", lty = 2, lwd = 2)\n"
   ]
  },
  {
   "cell_type": "markdown",
   "id": "65d83f88",
   "metadata": {},
   "source": [
    "## F-Test / ANOVA Example"
   ]
  },
  {
   "cell_type": "code",
   "execution_count": 12,
   "id": "cfa00562",
   "metadata": {
    "vscode": {
     "languageId": "r"
    }
   },
   "outputs": [
    {
     "name": "stdout",
     "output_type": "stream",
     "text": [
      "            Df Sum Sq Mean Sq F value   Pr(>F)    \n",
      "group        2 1143.5   571.7   60.16 8.98e-15 ***\n",
      "Residuals   57  541.7     9.5                     \n",
      "---\n",
      "Signif. codes:  0 '***' 0.001 '**' 0.01 '*' 0.05 '.' 0.1 ' ' 1\n"
     ]
    },
    {
     "data": {
      "image/png": "[encoded data removed]",
      "text/plain": [
       "Plot with title \"ANOVA Test\""
      ]
     },
     "metadata": {
      "image/png": {
       "height": 420,
       "width": 420
      }
     },
     "output_type": "display_data"
    }
   ],
   "source": [
    "# Three groups for ANOVA\n",
    "groupA <- rnorm(20, mean = 55, sd = 4)\n",
    "groupB <- rnorm(20, mean = 60, sd = 4)\n",
    "groupC <- rnorm(20, mean = 65, sd = 4)\n",
    "\n",
    "data <- data.frame(\n",
    "  score = c(groupA, groupB, groupC),\n",
    "  group = factor(rep(c(\"A\",\"B\",\"C\"), each = 20))\n",
    ")\n",
    "\n",
    "anova_result <- aov(score ~ group, data = data)\n",
    "print(summary(anova_result))\n",
    "\n",
    "# Boxplot\n",
    "par(bg = \"white\", col.axis = \"black\", col.lab = \"black\", col.main = \"black\", pch = 19)\n",
    "boxplot(score ~ group, data = data, main = \"ANOVA Test\", col = c(\"pink\",\"lightblue\",\"lightgreen\"), cex.main = 1.5)\n"
   ]
  },
  {
   "cell_type": "markdown",
   "id": "d4766e19",
   "metadata": {},
   "source": [
    "### Real-World Analogies\n",
    "\n",
    "- **Z-Test**: Checking if a machine produces bolts with exact target length, variance known.  \n",
    "- **t-Test**: Comparing average test scores between two small classrooms.  \n",
    "- **Chi-Square Test**: Examining if observed survey preferences differ from expected distribution.  \n",
    "- **ANOVA / F-Test**: Comparing average yields across multiple fertilizer types in agriculture.\n"
   ]
  }
 ],
 "metadata": {
  "kernelspec": {
   "display_name": "R",
   "language": "R",
   "name": "ir"
  },
  "language_info": {
   "codemirror_mode": "r",
   "file_extension": ".r",
   "mimetype": "text/x-r-source",
   "name": "R",
   "pygments_lexer": "r",
   "version": "4.5.1"
  }
 },
 "nbformat": 4,
 "nbformat_minor": 5
}
