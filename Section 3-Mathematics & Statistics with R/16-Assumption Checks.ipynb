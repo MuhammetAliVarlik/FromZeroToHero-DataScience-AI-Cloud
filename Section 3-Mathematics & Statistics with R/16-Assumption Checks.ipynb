{
 "cells": [
  {
   "cell_type": "markdown",
   "id": "3f1a140b",
   "metadata": {},
   "source": [
    "# Assumption Checks for Parametric Tests"
   ]
  },
  {
   "cell_type": "markdown",
   "id": "a6be9d1b",
   "metadata": {},
   "source": [
    "Before applying **parametric statistical tests** (t-tests, ANOVA, regression), we must check key assumptions:\n",
    "\n",
    "---\n",
    "\n",
    "## 1. **Independence of Observations**\n",
    "- **Definition**: Each data point should be independent of the others.\n",
    "- **Mathematical Implication**:  \n",
    "  Covariance between two independent observations is zero:\n",
    "\n",
    "$$\n",
    "\\text{Cov}(X_i, X_j) = 0 \\quad \\forall i \\neq j\n",
    "$$\n",
    "\n",
    "- **Check**: This is mostly ensured by **study design** (random sampling, random assignment).\n",
    "\n",
    "---\n",
    "\n",
    "## 2. **Normality**\n",
    "- **Definition**: Residuals (or data) should follow a normal distribution.\n",
    "- **Mathematical Expression**:  \n",
    "\n",
    "$$\n",
    "X \\sim \\mathcal{N}(\\mu, \\sigma^2)\n",
    "$$\n",
    "\n",
    "- **Why it matters**: Many test statistics rely on sampling distributions derived from normality.\n",
    "- **Tests**:\n",
    "  - **Shapiro–Wilk test**:\n",
    "\n",
    "$$\n",
    "H_0: \\text{Data is normally distributed}\n",
    "$$\n",
    "\n",
    "  - **Kolmogorov–Smirnov test**\n",
    "  - **Visual checks**: Histogram, Q–Q plot\n",
    "\n",
    "---\n",
    "\n",
    "## 3. **Homogeneity of Variances (Homoscedasticity)**\n",
    "- **Definition**: All groups have equal variances.\n",
    "- **Mathematical Expression**:\n",
    "\n",
    "$$\n",
    "\\sigma_1^2 = \\sigma_2^2 = \\dots = \\sigma_k^2\n",
    "$$\n",
    "\n",
    "- **Tests**:\n",
    "  - **Levene’s test**\n",
    "  - **Bartlett’s test** (more sensitive to non-normality)\n",
    "- **Visual checks**: Side-by-side boxplots, residual plots.\n",
    "\n",
    "---\n",
    "\n",
    "If these assumptions are violated:\n",
    "- Use **transformations** (log, square root, Box–Cox).\n",
    "- Use **non-parametric tests** (Mann–Whitney, Kruskal–Wallis)."
   ]
  },
  {
   "cell_type": "code",
   "execution_count": 4,
   "id": "993e69d1",
   "metadata": {
    "vscode": {
     "languageId": "r"
    }
   },
   "outputs": [
    {
     "data": {
      "text/plain": [
       "\n",
       "\tShapiro-Wilk normality test\n",
       "\n",
       "data:  data_norm\n",
       "W = 0.94403, p-value = 0.2854\n"
      ]
     },
     "metadata": {},
     "output_type": "display_data"
    },
    {
     "data": {
      "image/png": "[encoded data removed]",
      "text/plain": [
       "Plot with title \"Normal Q-Q Plot\""
      ]
     },
     "metadata": {
      "image/png": {
       "height": 420,
       "width": 420
      }
     },
     "output_type": "display_data"
    }
   ],
   "source": [
    "# Example: Checking Normality (Shapiro–Wilk test)\n",
    "par(bg = \"white\", col.axis = \"black\", col.lab = \"black\", col.main = \"black\", pch = 19)\n",
    "set.seed(42)\n",
    "data_norm <- rnorm(20, mean = 5, sd = 1)\n",
    "shapiro.test(data_norm)\n",
    "\n",
    "# Q–Q plot\n",
    "qqnorm(data_norm)\n",
    "qqline(data_norm, col = \"red\")"
   ]
  },
  {
   "cell_type": "code",
   "execution_count": 2,
   "id": "ad96e6f2",
   "metadata": {
    "vscode": {
     "languageId": "r"
    }
   },
   "outputs": [
    {
     "name": "stderr",
     "output_type": "stream",
     "text": [
      "Zorunlu paket yükleniyor: car\n",
      "\n",
      "Zorunlu paket yükleniyor: carData\n",
      "\n"
     ]
    },
    {
     "data": {
      "text/html": [
       "<table class=\"dataframe\">\n",
       "<caption>A anova: 2 × 3</caption>\n",
       "<thead>\n",
       "\t<tr><th></th><th scope=col>Df</th><th scope=col>F value</th><th scope=col>Pr(&gt;F)</th></tr>\n",
       "\t<tr><th></th><th scope=col>&lt;int&gt;</th><th scope=col>&lt;dbl&gt;</th><th scope=col>&lt;dbl&gt;</th></tr>\n",
       "</thead>\n",
       "<tbody>\n",
       "\t<tr><th scope=row>group</th><td> 2</td><td>0.4246867</td><td>0.6582677</td></tr>\n",
       "\t<tr><th scope=row> </th><td>27</td><td>       NA</td><td>       NA</td></tr>\n",
       "</tbody>\n",
       "</table>\n"
      ],
      "text/latex": [
       "A anova: 2 × 3\n",
       "\\begin{tabular}{r|lll}\n",
       "  & Df & F value & Pr(>F)\\\\\n",
       "  & <int> & <dbl> & <dbl>\\\\\n",
       "\\hline\n",
       "\tgroup &  2 & 0.4246867 & 0.6582677\\\\\n",
       "\t  & 27 &        NA &        NA\\\\\n",
       "\\end{tabular}\n"
      ],
      "text/markdown": [
       "\n",
       "A anova: 2 × 3\n",
       "\n",
       "| <!--/--> | Df &lt;int&gt; | F value &lt;dbl&gt; | Pr(&gt;F) &lt;dbl&gt; |\n",
       "|---|---|---|---|\n",
       "| group |  2 | 0.4246867 | 0.6582677 |\n",
       "| <!----> | 27 |        NA |        NA |\n",
       "\n"
      ],
      "text/plain": [
       "      Df F value   Pr(>F)   \n",
       "group  2 0.4246867 0.6582677\n",
       "      27        NA        NA"
      ]
     },
     "metadata": {},
     "output_type": "display_data"
    }
   ],
   "source": [
    "# Example: Checking Homogeneity of Variances (Levene's test)\n",
    "if(!require(car)) install.packages(\"car\", dependencies = TRUE)\n",
    "library(car)\n",
    "\n",
    "group_A <- rnorm(10, mean = 5, sd = 1)\n",
    "group_B <- rnorm(10, mean = 6, sd = 1)\n",
    "group_C <- rnorm(10, mean = 7, sd = 1.5)\n",
    "\n",
    "values <- c(group_A, group_B, group_C)\n",
    "groups <- factor(rep(c(\"A\", \"B\", \"C\"), each = 10))\n",
    "\n",
    "leveneTest(values ~ groups)"
   ]
  },
  {
   "cell_type": "code",
   "execution_count": 3,
   "id": "8f27275a",
   "metadata": {
    "vscode": {
     "languageId": "r"
    }
   },
   "outputs": [
    {
     "data": {
      "text/plain": [
       "\n",
       "\tBartlett test of homogeneity of variances\n",
       "\n",
       "data:  values by groups\n",
       "Bartlett's K-squared = 0.20906, df = 2, p-value = 0.9007\n"
      ]
     },
     "metadata": {},
     "output_type": "display_data"
    }
   ],
   "source": [
    "# Example: Bartlett's test\n",
    "bartlett.test(values ~ groups)"
   ]
  },
  {
   "cell_type": "markdown",
   "id": "649f7bfc",
   "metadata": {},
   "source": [
    "# Real-World Analogy\n",
    "\n",
    "- **Independence**: Like ensuring each student's exam paper is their own work — no copying.\n",
    "- **Normality**: Imagine test scores forming the classic \"bell curve\".\n",
    "- **Homogeneity of variances**: Groups of plants in different soils should have similar variation in height.\n"
   ]
  }
 ],
 "metadata": {
  "kernelspec": {
   "display_name": "R",
   "language": "R",
   "name": "ir"
  },
  "language_info": {
   "codemirror_mode": "r",
   "file_extension": ".r",
   "mimetype": "text/x-r-source",
   "name": "R",
   "pygments_lexer": "r",
   "version": "4.5.1"
  }
 },
 "nbformat": 4,
 "nbformat_minor": 5
}
