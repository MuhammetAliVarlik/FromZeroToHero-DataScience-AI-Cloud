{
 "cells": [
  {
   "cell_type": "markdown",
   "id": "1b0b9b9d",
   "metadata": {},
   "source": [
    "# Calculus and Optimization in R"
   ]
  },
  {
   "cell_type": "markdown",
   "metadata": {},
   "source": [
    "Calculus deals with rates of change (derivatives) and accumulation (integrals).  \n",
    "Optimization finds the maximum or minimum values of functions.\n",
    "\n",
    "In R:\n",
    "- **Derivatives** can be computed symbolically with packages like `Deriv` or numerically using small step differences.\n",
    "- **Integrals** can be computed with `integrate()`.\n",
    "- **Optimization** can be done with `optimize()` or `optim()`.\n",
    "\n",
    "Key concepts:\n",
    "- **Derivative**: Slope of a function at a given point.\n",
    "- **Integral**: Area under a curve between two points.\n",
    "- **Optimization**: Finding where a function is smallest (min) or largest (max).\n"
   ]
  },
  {
   "cell_type": "code",
   "execution_count": 1,
   "id": "973b71df",
   "metadata": {
    "vscode": {
     "languageId": "r"
    }
   },
   "outputs": [
    {
     "name": "stderr",
     "output_type": "stream",
     "text": [
      "Zorunlu paket yükleniyor: Deriv\n",
      "\n",
      "Warning message in library(package, lib.loc = lib.loc, character.only = TRUE, logical.return = TRUE, :\n",
      "\"there is no package called 'Deriv'\"\n",
      "also installing the dependencies 'diffobj', 'brio', 'praise', 'waldo', 'testthat'\n",
      "\n",
      "\n"
     ]
    },
    {
     "name": "stdout",
     "output_type": "stream",
     "text": [
      "package 'diffobj' successfully unpacked and MD5 sums checked\n",
      "package 'brio' successfully unpacked and MD5 sums checked\n",
      "package 'praise' successfully unpacked and MD5 sums checked\n",
      "package 'waldo' successfully unpacked and MD5 sums checked\n",
      "package 'testthat' successfully unpacked and MD5 sums checked\n",
      "package 'Deriv' successfully unpacked and MD5 sums checked\n",
      "\n",
      "The downloaded binary packages are in\n",
      "\tC:\\Users\\Administrator\\AppData\\Local\\Temp\\RtmpwLPvC7\\downloaded_packages\n"
     ]
    }
   ],
   "source": [
    "# Install Deriv package if not installed\n",
    "if(!require(Deriv)) install.packages(\"Deriv\", dependencies = TRUE)\n",
    "library(Deriv)"
   ]
  },
  {
   "cell_type": "code",
   "execution_count": 2,
   "id": "1a6abe46",
   "metadata": {
    "vscode": {
     "languageId": "r"
    }
   },
   "outputs": [],
   "source": [
    "# Define a function: f(x) = x^3 - 2x^2 + 3\n",
    "f <- function(x) {\n",
    "  x^3 - 2*x^2 + 3\n",
    "}"
   ]
  },
  {
   "cell_type": "code",
   "execution_count": 3,
   "id": "a4d07eed",
   "metadata": {
    "vscode": {
     "languageId": "r"
    }
   },
   "outputs": [
    {
     "name": "stdout",
     "output_type": "stream",
     "text": [
      "[1] \"Symbolic derivative of f(x):\"\n",
      "function (x) \n",
      "x * (3 * x - 4)\n"
     ]
    }
   ],
   "source": [
    "# Symbolic derivative\n",
    "f_prime <- Deriv(f, \"x\")\n",
    "print(\"Symbolic derivative of f(x):\")\n",
    "print(f_prime)"
   ]
  },
  {
   "cell_type": "code",
   "execution_count": 4,
   "id": "6ce9c304",
   "metadata": {
    "vscode": {
     "languageId": "r"
    }
   },
   "outputs": [
    {
     "name": "stdout",
     "output_type": "stream",
     "text": [
      "[1] \"Slope at x = 2: 4\"\n"
     ]
    }
   ],
   "source": [
    "# Evaluate derivative at x = 2\n",
    "slope_at_2 <- f_prime(2)\n",
    "print(paste(\"Slope at x = 2:\", slope_at_2))"
   ]
  },
  {
   "cell_type": "code",
   "execution_count": 5,
   "id": "58253893",
   "metadata": {
    "vscode": {
     "languageId": "r"
    }
   },
   "outputs": [
    {
     "name": "stdout",
     "output_type": "stream",
     "text": [
      "[1] \"Definite integral of f(x) from 0 to 3:\"\n",
      "11.25 with absolute error < 1.2e-13\n"
     ]
    }
   ],
   "source": [
    "# Numerical integration from x = 0 to 3\n",
    "integral_result <- integrate(f, lower = 0, upper = 3)\n",
    "print(\"Definite integral of f(x) from 0 to 3:\")\n",
    "print(integral_result)"
   ]
  },
  {
   "cell_type": "code",
   "execution_count": 6,
   "id": "c19c206e",
   "metadata": {
    "vscode": {
     "languageId": "r"
    }
   },
   "outputs": [
    {
     "name": "stdout",
     "output_type": "stream",
     "text": [
      "[1] \"Minimum point (x, f(x)):\"\n",
      "[1] 1.333340 1.814815\n",
      "[1] \"Maximum point (x, f(x)):\"\n",
      "[1] 1.997368e-05 3.000000e+00\n"
     ]
    }
   ],
   "source": [
    "# Optimization: Find minimum and maximum in range [-1, 3]\n",
    "min_result <- optimize(f, c(-1, 3))\n",
    "max_result <- optimize(function(x) -f(x), c(-1, 3))\n",
    "\n",
    "print(\"Minimum point (x, f(x)):\")\n",
    "print(c(min_result$minimum, min_result$objective))\n",
    "print(\"Maximum point (x, f(x)):\")\n",
    "print(c(max_result$minimum, -max_result$objective))"
   ]
  },
  {
   "cell_type": "code",
   "execution_count": 8,
   "id": "ca12012c",
   "metadata": {
    "vscode": {
     "languageId": "r"
    }
   },
   "outputs": [
    {
     "data": {
      "image/png": "[encoded data removed]",
      "text/plain": [
       "Plot with title \"\"Calculus and Optimization for\" ~ f(x) == x^3 - 2 * x^2 + 3\""
      ]
     },
     "metadata": {
      "image/png": {
       "height": 420,
       "width": 420
      }
     },
     "output_type": "display_data"
    }
   ],
   "source": [
    "# Plot the function and mark min/max points\n",
    "x_vals <- seq(-1, 3, by = 0.01)\n",
    "y_vals <- f(x_vals)\n",
    "\n",
    "par(bg = \"white\", col.axis = \"black\", col.lab = \"black\", col.main = \"black\", pch = 19)\n",
    "plot(x_vals, y_vals, type = \"l\", lwd = 2, col = \"blue\",\n",
    "     main = expression(\"Calculus and Optimization for\" ~ f(x) == x^3 - 2*x^2 + 3),\n",
    "     xlab = \"x\", ylab = \"f(x)\")\n",
    "points(min_result$minimum, min_result$objective, col = \"red\", pch = 19)\n",
    "points(max_result$minimum, -max_result$objective, col = \"green\", pch = 19)\n",
    "legend(\"topright\", legend = c(\"Function\", \"Minimum\", \"Maximum\"),\n",
    "       col = c(\"blue\", \"red\", \"green\"), lwd = c(2, NA, NA), pch = c(NA, 19, 19))"
   ]
  },
  {
   "cell_type": "markdown",
   "id": "2944a06d",
   "metadata": {},
   "source": [
    "# Real-World Analogy\n",
    "\n",
    "- **Derivative**: Like checking how fast a car is moving at an exact second.\n",
    "- **Integral**: Like measuring the total distance the car traveled between two points in time.\n",
    "- **Optimization**: Like finding the fastest speed or the lowest fuel consumption over a trip.\n",
    "\n",
    "Calculus helps in economics, physics, engineering, and AI model training — optimization is the \"tuning\" step to get the best results."
   ]
  }
 ],
 "metadata": {
  "kernelspec": {
   "display_name": "R",
   "language": "R",
   "name": "ir"
  },
  "language_info": {
   "codemirror_mode": "r",
   "file_extension": ".r",
   "mimetype": "text/x-r-source",
   "name": "R",
   "pygments_lexer": "r",
   "version": "4.5.1"
  }
 },
 "nbformat": 4,
 "nbformat_minor": 5
}
