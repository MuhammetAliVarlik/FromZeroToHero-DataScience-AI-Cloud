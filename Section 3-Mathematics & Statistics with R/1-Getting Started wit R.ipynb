{
 "cells": [
  {
   "cell_type": "markdown",
   "id": "91f51bf0",
   "metadata": {},
   "source": [
    "# Getting Started with R and VS Code (Jupyter Notebook)"
   ]
  },
  {
   "cell_type": "markdown",
   "id": "d5051ac6",
   "metadata": {},
   "source": [
    "Visual Studio Code (VS Code) is a lightweight, free code editor that supports many programming languages, including R.  \n",
    "With the Jupyter extension, you can run R code in interactive \"notebook\" cells, similar to RStudio's R Markdown.\n",
    "\n",
    "**Why use VS Code with Jupyter for R?**\n",
    "- You can write code and explanations in the same file.\n",
    "- Interactive execution lets you test code piece by piece.\n",
    "- VS Code works well for multi-language projects (e.g., R + Python).\n",
    "\n",
    "**Steps to set up R in VS Code with Jupyter:**\n",
    "1. Install **R** on your computer from [https://cran.r-project.org](https://cran.r-project.org).\n",
    "2. Install **VS Code** from [https://code.visualstudio.com](https://code.visualstudio.com).\n",
    "3. Open VS Code and install the following extensions:\n",
    "   - `Jupyter` (Microsoft)\n",
    "   - `R` (REditorSupport)\n",
    "4. Install the R kernel for Jupyter by running in R:\n",
    "   ```r\n",
    "   install.packages(\"IRkernel\")\n",
    "   IRkernel::installspec()\n",
    "```\n",
    "Open a new .ipynb file in VS Code, choose the R kernel, and start coding interactively."
   ]
  },
  {
   "cell_type": "code",
   "execution_count": 2,
   "id": "186017f4",
   "metadata": {
    "vscode": {
     "languageId": "r"
    }
   },
   "outputs": [
    {
     "data": {
      "text/html": [
       "'Hello, Student ! Welcome to R in VS Code 🚀'"
      ],
      "text/latex": [
       "'Hello, Student ! Welcome to R in VS Code 🚀'"
      ],
      "text/markdown": [
       "'Hello, Student ! Welcome to R in VS Code 🚀'"
      ],
      "text/plain": [
       "[1] \"Hello, Student ! Welcome to R in VS Code 🚀\""
      ]
     },
     "metadata": {},
     "output_type": "display_data"
    }
   ],
   "source": [
    "# Simple R example in VS Code Jupyter Notebook\n",
    "# This will print a friendly message\n",
    "greeting <- function(name) {\n",
    "  paste(\"Hello,\", name, \"! Welcome to R in VS Code 🚀\")\n",
    "}\n",
    "\n",
    "greeting(\"Student\")"
   ]
  }
 ],
 "metadata": {
  "kernelspec": {
   "display_name": "R",
   "language": "R",
   "name": "ir"
  },
  "language_info": {
   "codemirror_mode": "r",
   "file_extension": ".r",
   "mimetype": "text/x-r-source",
   "name": "R",
   "pygments_lexer": "r",
   "version": "4.5.1"
  }
 },
 "nbformat": 4,
 "nbformat_minor": 5
}
