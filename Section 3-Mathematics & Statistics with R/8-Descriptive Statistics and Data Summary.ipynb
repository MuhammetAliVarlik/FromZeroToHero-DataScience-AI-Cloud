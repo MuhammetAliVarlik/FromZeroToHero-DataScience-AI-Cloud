{
 "cells": [
  {
   "cell_type": "markdown",
   "id": "f332add5",
   "metadata": {},
   "source": [
    "# Descriptive Statistics and Data Summary"
   ]
  },
  {
   "cell_type": "markdown",
   "id": "b40c75a3",
   "metadata": {},
   "source": [
    "Descriptive statistics help **summarize and describe** the main features of a dataset.  \n",
    "They give us a quick understanding of:\n",
    "- **Central tendency**: Mean, median, mode  \n",
    "- **Spread/variability**: Range, variance, standard deviation, interquartile range  \n",
    "- **Shape**: Skewness and kurtosis\n",
    "\n",
    "R has built-in functions to calculate these measures quickly.\n"
   ]
  },
  {
   "cell_type": "code",
   "execution_count": 7,
   "id": "a468782d",
   "metadata": {
    "vscode": {
     "languageId": "r"
    }
   },
   "outputs": [
    {
     "name": "stdout",
     "output_type": "stream",
     "text": [
      "[1] \"Mean score: 72.6666666666667\"\n",
      "[1] \"Median score: 74\"\n",
      "[1] \"Mode score: 30\"\n",
      "[1] \"Range: 30 to 95\"\n",
      "[1] \"Variance: 348.52380952381\"\n",
      "[1] \"Standard Deviation: 18.6687923959695\"\n",
      "[1] \"Interquartile Range (IQR): 24.5\"\n"
     ]
    }
   ],
   "source": [
    "# Example dataset: Exam scores of 15 students\n",
    "scores <- c(72, 66, 95, 60, 78, 85, 90, 30, 74, 58, 91, 69, 45, 84, 93)\n",
    "\n",
    "# Central tendency\n",
    "mean_score <- mean(scores)\n",
    "median_score <- median(scores)\n",
    "mode_score <- as.numeric(names(sort(table(scores), decreasing = TRUE))[1])  # mode calculation\n",
    "\n",
    "# Spread\n",
    "range_scores <- range(scores)\n",
    "variance_score <- var(scores)\n",
    "sd_score <- sd(scores)\n",
    "iqr_score <- IQR(scores)\n",
    "\n",
    "# Print results\n",
    "print(paste(\"Mean score:\", mean_score))\n",
    "print(paste(\"Median score:\", median_score))\n",
    "print(paste(\"Mode score:\", mode_score))\n",
    "print(paste(\"Range:\", paste(range_scores, collapse = \" to \")))\n",
    "print(paste(\"Variance:\", variance_score))\n",
    "print(paste(\"Standard Deviation:\", sd_score))\n",
    "print(paste(\"Interquartile Range (IQR):\", iqr_score))"
   ]
  },
  {
   "cell_type": "code",
   "execution_count": 8,
   "id": "048e8d2f",
   "metadata": {
    "vscode": {
     "languageId": "r"
    }
   },
   "outputs": [
    {
     "data": {
      "image/png": "[encoded data removed]",
      "text/plain": [
       "Plot with title \"Distribution of Exam Scores\""
      ]
     },
     "metadata": {
      "image/png": {
       "height": 420,
       "width": 420
      }
     },
     "output_type": "display_data"
    }
   ],
   "source": [
    "# Visual summary with histogram\n",
    "par(bg = \"white\", col.axis = \"black\", col.lab = \"black\", col.main = \"black\", pch = 19)\n",
    "hist(scores, col = \"skyblue\", main = \"Distribution of Exam Scores\",\n",
    "     xlab = \"Scores\", ylab = \"Frequency\", border = \"white\")\n",
    "abline(v = mean_score, col = \"red\", lwd = 2)     # mean line\n",
    "abline(v = median_score, col = \"green\", lwd = 2) # median line\n",
    "legend(\"topright\", legend = c(\"Mean\", \"Median\"),\n",
    "       col = c(\"red\", \"green\"), lwd = 2)"
   ]
  },
  {
   "cell_type": "markdown",
   "id": "d809c1f3",
   "metadata": {},
   "source": [
    "# Real-World Analogy\n",
    "\n",
    "Think of descriptive statistics as a **quick report card** for your data:\n",
    "- Mean: The class's average score.\n",
    "- Median: The middle student's score.\n",
    "- Mode: The most common score in the class.\n",
    "- Spread measures: How much students’ scores differ.\n",
    "\n",
    "Visualizing with a histogram helps spot patterns like clustering or outliers in the data.\n"
   ]
  }
 ],
 "metadata": {
  "kernelspec": {
   "display_name": "R",
   "language": "R",
   "name": "ir"
  },
  "language_info": {
   "codemirror_mode": "r",
   "file_extension": ".r",
   "mimetype": "text/x-r-source",
   "name": "R",
   "pygments_lexer": "r",
   "version": "4.5.1"
  }
 },
 "nbformat": 4,
 "nbformat_minor": 5
}
