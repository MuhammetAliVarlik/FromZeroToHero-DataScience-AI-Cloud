{
 "cells": [
  {
   "cell_type": "markdown",
   "id": "71444c31",
   "metadata": {},
   "source": [
    "# Introduction to Probability Theory"
   ]
  },
  {
   "cell_type": "markdown",
   "id": "18839761",
   "metadata": {},
   "source": [
    "Probability theory studies the **likelihood of events happening**.  \n",
    "It is foundational for statistics, data science, and risk analysis.\n",
    "\n",
    "Key concepts:\n",
    "- **Experiment**: Any process that generates outcomes (e.g., rolling a die).  \n",
    "- **Sample Space (S)**: Set of all possible outcomes.  \n",
    "- **Event**: A subset of the sample space.  \n",
    "- **Probability of an event (P(E))**: A number between 0 and 1 representing the chance the event occurs.\n",
    "\n",
    "Basic rules:\n",
    "1. 0 ≤ P(E) ≤ 1  \n",
    "2. P(S) = 1 (the probability of all outcomes is 1)  \n",
    "3. For mutually exclusive events E and F: P(E ∪ F) = P(E) + P(F)"
   ]
  },
  {
   "cell_type": "code",
   "execution_count": 2,
   "id": "e5cc53ac",
   "metadata": {
    "vscode": {
     "languageId": "r"
    }
   },
   "outputs": [
    {
     "name": "stdout",
     "output_type": "stream",
     "text": [
      "[1] \"Probability of even number: 0.5\"\n",
      "[1] \"Probability of number > 3: 0.5\"\n",
      "[1] \"Probability of even OR number > 3: 0.666666666666667\"\n"
     ]
    }
   ],
   "source": [
    "# Probability of a single die roll\n",
    "die <- 1:6\n",
    "\n",
    "# Define events\n",
    "event_even <- c(2, 4, 6)   # Event: rolling an even number\n",
    "event_gt3 <- c(4, 5, 6)    # Event: rolling a number greater than 3\n",
    "\n",
    "# Compute probabilities\n",
    "prob_even <- length(event_even) / length(die)\n",
    "prob_gt3 <- length(event_gt3) / length(die)\n",
    "prob_even_or_gt3 <- length(unique(c(event_even, event_gt3))) / length(die)\n",
    "\n",
    "# Print probabilities\n",
    "print(paste(\"Probability of even number:\", prob_even))\n",
    "print(paste(\"Probability of number > 3:\", prob_gt3))\n",
    "print(paste(\"Probability of even OR number > 3:\", prob_even_or_gt3))"
   ]
  },
  {
   "cell_type": "code",
   "execution_count": 3,
   "id": "e0128102",
   "metadata": {
    "vscode": {
     "languageId": "r"
    }
   },
   "outputs": [
    {
     "data": {
      "image/png": "[encoded data removed]",
      "text/plain": [
       "Plot with title \"Probability of Simple Events\""
      ]
     },
     "metadata": {
      "image/png": {
       "height": 420,
       "width": 420
      }
     },
     "output_type": "display_data"
    }
   ],
   "source": [
    "# Visualize probabilities\n",
    "event_names <- c(\"Even\", \">3\", \"Even OR >3\")\n",
    "probs <- c(prob_even, prob_gt3, prob_even_or_gt3)\n",
    "\n",
    "par(bg = \"white\", col.axis = \"black\", col.lab = \"black\", col.main = \"black\", pch = 19)\n",
    "barplot(probs, names.arg = event_names, col = c(\"blue\", \"green\", \"purple\"),\n",
    "        main = \"Probability of Simple Events\", ylab = \"Probability\")"
   ]
  },
  {
   "cell_type": "markdown",
   "id": "57747853",
   "metadata": {},
   "source": [
    "# Real-World Analogy\n",
    "\n",
    "- **Die roll**: Simple chance experiment.  \n",
    "- **Even numbers**: Like choosing a blue marble from a bag of 6 marbles.  \n",
    "- **Probability rules**: Help estimate chances in real life, e.g., likelihood of rain, winning a game, or a stock increasing in price.  \n",
    "\n",
    "Bar plots make it easier to **visualize probabilities** and compare events."
   ]
  }
 ],
 "metadata": {
  "kernelspec": {
   "display_name": "R",
   "language": "R",
   "name": "ir"
  },
  "language_info": {
   "codemirror_mode": "r",
   "file_extension": ".r",
   "mimetype": "text/x-r-source",
   "name": "R",
   "pygments_lexer": "r",
   "version": "4.5.1"
  }
 },
 "nbformat": 4,
 "nbformat_minor": 5
}
