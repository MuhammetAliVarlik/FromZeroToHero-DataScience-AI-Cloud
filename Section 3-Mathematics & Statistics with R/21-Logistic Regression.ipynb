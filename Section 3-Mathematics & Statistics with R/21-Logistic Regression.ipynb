{
 "cells": [
  {
   "cell_type": "markdown",
   "id": "c7630979",
   "metadata": {},
   "source": [
    "# Logistic Regression"
   ]
  },
  {
   "cell_type": "markdown",
   "id": "33823c91",
   "metadata": {},
   "source": [
    "## 📌 What is Logistic Regression?\n",
    "\n",
    "Logistic Regression is used to model the relationship between a **binary outcome variable** $y$ (0 or 1) and one or more predictor variables ($x_1, x_2, ..., x_p$).\n",
    "\n",
    "- Unlike linear regression, it predicts **probabilities** that $y = 1$.\n",
    "- The model uses the **logit function**:\n",
    "\n",
    "$$\n",
    "\\text{logit}(p) = \\log \\frac{p}{1-p} = \\beta_0 + \\beta_1 x_1 + \\dots + \\beta_p x_p\n",
    "$$\n",
    "\n",
    "Where:  \n",
    "- $p = P(y=1 \\mid x_1, ..., x_p)$  \n",
    "- $\\beta_0$ = intercept  \n",
    "- $\\beta_j$ = coefficient for predictor $x_j$\n"
   ]
  },
  {
   "cell_type": "markdown",
   "id": "5f35e356",
   "metadata": {},
   "source": [
    "## 📌 From Logit to Probability\n",
    "\n",
    "We convert logit to probability using the **logistic function**:\n",
    "\n",
    "$$\n",
    "p = \\frac{1}{1 + e^{-(\\beta_0 + \\beta_1 x_1 + ... + \\beta_p x_p)}}\n",
    "$$\n",
    "\n",
    "- $\\beta_j > 0$ → predictor increases probability of $y=1$  \n",
    "- $\\beta_j < 0$ → predictor decreases probability of $y=1$  \n",
    "- $\\beta_j = 0$ → no effect\n"
   ]
  },
  {
   "cell_type": "markdown",
   "id": "eaf97de7",
   "metadata": {},
   "source": [
    "## 📌 Hypothesis Testing in Logistic Regression\n",
    "\n",
    "- Null hypothesis $H_0$: $\\beta_j = 0$ (predictor has no effect)  \n",
    "- Alternative $H_a$: $\\beta_j \\neq 0$ (predictor affects outcome)\n",
    "\n",
    "Coefficients are estimated via **Maximum Likelihood Estimation (MLE)** rather than OLS.\n"
   ]
  },
  {
   "cell_type": "code",
   "execution_count": 1,
   "id": "d766282e",
   "metadata": {
    "vscode": {
     "languageId": "r"
    }
   },
   "outputs": [
    {
     "name": "stderr",
     "output_type": "stream",
     "text": [
      "Warning message:\n",
      "\"glm.fit: algorithm did not converge\"\n",
      "Warning message:\n",
      "\"glm.fit: fitted probabilities numerically 0 or 1 occurred\"\n"
     ]
    },
    {
     "data": {
      "text/plain": [
       "\n",
       "Call:\n",
       "glm(formula = Pass ~ Study, family = binomial, data = logit_data)\n",
       "\n",
       "Coefficients:\n",
       "             Estimate Std. Error z value Pr(>|z|)\n",
       "(Intercept)   -248.42  380171.05  -0.001    0.999\n",
       "Study           45.16   68704.80   0.001    0.999\n",
       "\n",
       "(Dispersion parameter for binomial family taken to be 1)\n",
       "\n",
       "    Null deviance: 1.2365e+01  on 8  degrees of freedom\n",
       "Residual deviance: 6.2376e-10  on 7  degrees of freedom\n",
       "AIC: 4\n",
       "\n",
       "Number of Fisher Scoring iterations: 25\n"
      ]
     },
     "metadata": {},
     "output_type": "display_data"
    },
    {
     "name": "stdout",
     "output_type": "stream",
     "text": [
      "[1] \"Predicted Probabilities:\"\n",
      "[1] 2.220446e-16 2.220446e-16 2.220446e-16 1.525811e-10 1.000000e+00\n",
      "[6] 1.000000e+00 1.000000e+00 1.000000e+00 1.000000e+00\n"
     ]
    }
   ],
   "source": [
    "# Example: Predict pass/fail based on study hours\n",
    "study_hours <- c(2, 3, 4, 5, 6, 7, 8, 9, 10)\n",
    "pass_exam <- c(0, 0, 0, 0, 1, 1, 1, 1, 1)  # 0=Fail, 1=Pass\n",
    "\n",
    "# Combine into data frame\n",
    "logit_data <- data.frame(Study = study_hours, Pass = pass_exam)\n",
    "\n",
    "# Fit logistic regression model\n",
    "logit_model <- glm(Pass ~ Study, data = logit_data, family = binomial)\n",
    "\n",
    "# Print model summary\n",
    "summary(logit_model)\n",
    "\n",
    "# Predicted probabilities\n",
    "logit_data$Predicted_Prob <- predict(logit_model, type = \"response\")\n",
    "print(\"Predicted Probabilities:\")\n",
    "print(logit_data$Predicted_Prob)"
   ]
  },
  {
   "cell_type": "code",
   "execution_count": 3,
   "id": "c4e7fb59",
   "metadata": {
    "vscode": {
     "languageId": "r"
    }
   },
   "outputs": [
    {
     "data": {
      "image/png": "[encoded data removed]",
      "text/plain": [
       "Plot with title \"Logistic Regression: Study Hours vs Pass Probability\""
      ]
     },
     "metadata": {
      "image/png": {
       "height": 420,
       "width": 420
      }
     },
     "output_type": "display_data"
    }
   ],
   "source": [
    "# Plot observed and predicted probabilities\n",
    "par(bg = \"white\", col.axis = \"black\", col.lab = \"black\", col.main = \"black\", pch = 19)\n",
    "plot(logit_data$Study, logit_data$Pass, pch = 19, col = \"blue\",\n",
    "     xlab = \"Study Hours\", ylab = \"Pass (0=Fail,1=Pass)\",\n",
    "     main = \"Logistic Regression: Study Hours vs Pass Probability\")\n",
    "\n",
    "# Add logistic curve\n",
    "curve(predict(logit_model, newdata = data.frame(Study = x), type=\"response\"),\n",
    "      add = TRUE, col = \"red\", lwd = 2)"
   ]
  },
  {
   "cell_type": "markdown",
   "id": "6e447261",
   "metadata": {},
   "source": [
    "## 📌 Interpretation\n",
    "\n",
    "- The logistic curve shows **probability of passing** for different study hours.  \n",
    "- As study hours increase, the probability of passing increases.  \n",
    "- Coefficient $\\hat{\\beta}_\\text{Study}$ > 0 indicates **more study hours → higher pass probability**.\n"
   ]
  },
  {
   "cell_type": "markdown",
   "id": "87f3b7cb",
   "metadata": {},
   "source": [
    "# Real-World Analogy\n",
    "\n",
    "Imagine predicting whether a student passes an exam based on study hours:\n",
    "\n",
    "- Points on the plot: each student’s result (pass=1, fail=0)  \n",
    "- Red curve: predicted probability of passing  \n",
    "- Helps teachers or students **understand the likelihood of success** given study effort.  \n",
    "- Similar to **medical studies**, e.g., predicting presence/absence of a disease based on risk factors.\n"
   ]
  }
 ],
 "metadata": {
  "kernelspec": {
   "display_name": "R",
   "language": "R",
   "name": "ir"
  },
  "language_info": {
   "codemirror_mode": "r",
   "file_extension": ".r",
   "mimetype": "text/x-r-source",
   "name": "R",
   "pygments_lexer": "r",
   "version": "4.5.1"
  }
 },
 "nbformat": 4,
 "nbformat_minor": 5
}
