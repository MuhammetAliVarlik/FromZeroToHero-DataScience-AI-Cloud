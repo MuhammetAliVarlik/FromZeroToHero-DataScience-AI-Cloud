{
 "cells": [
  {
   "cell_type": "markdown",
   "id": "ea14b1ce",
   "metadata": {},
   "source": [
    "# Generalized Linear Models (GLM) and Advanced Techniques"
   ]
  },
  {
   "cell_type": "markdown",
   "id": "a23d4bdb",
   "metadata": {},
   "source": [
    "## 📌 What is a GLM?\n",
    "\n",
    "A **Generalized Linear Model (GLM)** is an extension of linear regression that allows the response variable $Y$ to have **different distributions**, not just normal.  \n",
    "\n",
    "GLMs consist of three components:\n",
    "\n",
    "1. **Random Component**: $Y_i$ follows a distribution from the **exponential family** (e.g., Normal, Binomial, Poisson)  \n",
    "2. **Systematic Component**: Linear predictor \n",
    "   $$\n",
    "   \\eta_i = \\beta_0 + \\beta_1 x_{i1} + ... + \\beta_p x_{ip}\n",
    "   $$  \n",
    "3. **Link Function** $g(\\cdot)$: connects expected value to linear predictor  \n",
    "   $$\n",
    "   g(\\mathbb{E}[Y_i]) = \\eta_i\n",
    "   $$\n"
   ]
  },
  {
   "cell_type": "markdown",
   "id": "383dcc6b",
   "metadata": {},
   "source": [
    "## 📌 Common GLM Families and Link Functions\n",
    "\n",
    "| Family      | Response Type       | Link Function       |\n",
    "|------------|------------------|------------------|\n",
    "| Gaussian   | Continuous         | Identity          |\n",
    "| Binomial   | Binary (0/1)       | Logit             |\n",
    "| Poisson    | Count data          | Log               |\n",
    "| Gamma      | Positive continuous | Inverse           |\n",
    "\n",
    "- Example: Logistic regression is a **GLM with binomial family** and logit link.\n",
    "- Poisson regression is used for **count data** (e.g., number of accidents per day).\n"
   ]
  },
  {
   "cell_type": "markdown",
   "id": "2668eac1",
   "metadata": {},
   "source": [
    "## 📌 GLM Formulation\n",
    "\n",
    "For observation $i$:\n",
    "\n",
    "$$\n",
    "Y_i \\sim \\text{ExponentialFamily}(\\mu_i, \\phi)\n",
    "$$\n",
    "\n",
    "Linear predictor:  \n",
    "$$\n",
    "\\eta_i = \\beta_0 + \\sum_{j=1}^{p} \\beta_j x_{ij}\n",
    "$$\n",
    "\n",
    "Link function:  \n",
    "$$\n",
    "g(\\mu_i) = \\eta_i\n",
    "$$\n",
    "\n",
    "- $\\mu_i = \\mathbb{E}[Y_i]$  \n",
    "- $\\phi$ = dispersion parameter (for some distributions)  \n",
    "- Coefficients $\\beta_j$ estimated via **Maximum Likelihood Estimation (MLE)**\n"
   ]
  },
  {
   "cell_type": "code",
   "execution_count": null,
   "id": "731fa598",
   "metadata": {
    "vscode": {
     "languageId": "r"
    }
   },
   "outputs": [],
   "source": [
    "# Example: Predict number of daily emails received based on work hours\n",
    "set.seed(123)\n",
    "work_hours <- c(4, 5, 6, 7, 8, 9, 10)\n",
    "emails_received <- c(1, 2, 3, 4, 5, 6, 8)  # count data\n",
    "\n",
    "# Create data frame\n",
    "glm_data <- data.frame(Hours = work_hours, Emails = emails_received)\n",
    "\n",
    "# Fit Poisson regression (count data)\n",
    "poisson_model <- glm(Emails ~ Hours, data = glm_data, family = poisson)\n",
    "\n",
    "# Print summary\n",
    "summary(poisson_model)\n",
    "\n",
    "# Predicted values\n",
    "glm_data$Predicted_Emails <- predict(poisson_model, type = \"response\")\n",
    "print(\"Predicted Number of Emails:\")\n",
    "print(glm_data$Predicted_Emails)\n"
   ]
  },
  {
   "cell_type": "code",
   "execution_count": null,
   "id": "876fd633",
   "metadata": {
    "vscode": {
     "languageId": "r"
    }
   },
   "outputs": [],
   "source": [
    "# Plot observed counts and predicted Poisson regression\n",
    "plot(glm_data$Hours, glm_data$Emails, pch=19, col=\"blue\",\n",
    "     xlab=\"Work Hours\", ylab=\"Number of Emails\",\n",
    "     main=\"Poisson Regression: Work Hours vs Emails\")\n",
    "lines(glm_data$Hours, glm_data$Predicted_Emails, col=\"red\", lwd=2)\n"
   ]
  },
  {
   "cell_type": "markdown",
   "id": "ee6ed798",
   "metadata": {},
   "source": [
    "## 📌 Advanced Techniques in GLMs\n",
    "\n",
    "1. **Overdispersion**: When variance > mean in count data (Poisson assumption violated)  \n",
    "   - Use **Quasi-Poisson** or **Negative Binomial regression**\n",
    "\n",
    "2. **Regularization**: Prevent overfitting with many predictors  \n",
    "   - **Lasso (L1)**, **Ridge (L2)**, **Elastic Net**\n",
    "\n",
    "3. **Interaction terms**: Model combined effect of predictors  \n",
    "   $$\n",
    "   \\eta = \\beta_0 + \\beta_1 X_1 + \\beta_2 X_2 + \\beta_3 X_1 X_2\n",
    "   $$\n",
    "\n",
    "4. **Model diagnostics**: Check residuals, leverage, influence points\n",
    "\n",
    "5. **GLM extensions**: Mixed-effects models (GLMM), generalized additive models (GAM)\n"
   ]
  },
  {
   "cell_type": "markdown",
   "id": "6ff67059",
   "metadata": {},
   "source": [
    "# Real-World Analogy\n",
    "\n",
    "- **Poisson GLM**: Predicting number of cars passing a traffic light per hour based on time of day.  \n",
    "- **Binomial GLM**: Predicting probability of a customer buying a product based on age and income.  \n",
    "- GLMs allow **flexible modeling** for different types of outcomes beyond just continuous numbers.\n"
   ]
  }
 ],
 "metadata": {
  "kernelspec": {
   "display_name": "R",
   "language": "R",
   "name": "ir"
  },
  "language_info": {
   "name": "R"
  }
 },
 "nbformat": 4,
 "nbformat_minor": 5
}
