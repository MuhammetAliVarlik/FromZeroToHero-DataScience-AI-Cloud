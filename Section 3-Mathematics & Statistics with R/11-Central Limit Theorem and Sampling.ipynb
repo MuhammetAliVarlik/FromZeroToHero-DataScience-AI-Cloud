{
 "cells": [
  {
   "cell_type": "markdown",
   "id": "9c77a0bd",
   "metadata": {},
   "source": [
    "# Central Limit Theorem and Sampling"
   ]
  },
  {
   "cell_type": "markdown",
   "id": "ab3877e3",
   "metadata": {},
   "source": [
    "## Central Limit Theorem (CLT)\n",
    "\n",
    "The **Central Limit Theorem** states that, under certain conditions,  \n",
    "the sampling distribution of the sample mean approaches a normal distribution  \n",
    "as the sample size $n$ becomes large, regardless of the shape of the population distribution.\n",
    "\n",
    "### Formal Statement:\n",
    "Let $X_1, X_2, ..., X_n$ be i.i.d. random variables with:\n",
    "- Mean: $\\mu$\n",
    "- Variance: $\\sigma^2 < \\infty$\n",
    "\n",
    "Then the standardized sample mean:\n",
    "$$\n",
    "Z = \\frac{\\bar{X} - \\mu}{\\sigma / \\sqrt{n}}\n",
    "$$\n",
    "converges in distribution to the standard normal $N(0,1)$ as $n \\to \\infty$.\n",
    "\n",
    "---\n",
    "\n",
    "## Key Points:\n",
    "- Works for most real-world distributions, as long as they have **finite variance**.\n",
    "- Explains why the **normal distribution** appears so often in statistics.\n",
    "- Important for **confidence intervals** and **hypothesis testing**.\n",
    "\n",
    "---\n",
    "\n",
    "## Sampling\n",
    "Sampling is the process of selecting a subset (sample) from a population to estimate population characteristics.\n",
    "- **Random Sampling** ensures each member has an equal chance of selection.\n",
    "- **Sampling Distribution** is the distribution of a statistic over repeated samples.\n"
   ]
  },
  {
   "cell_type": "code",
   "execution_count": 14,
   "id": "67406a52",
   "metadata": {
    "vscode": {
     "languageId": "r"
    }
   },
   "outputs": [],
   "source": [
    "set.seed(42)\n",
    "\n",
    "# Population: Exponential distribution (not normal)\n",
    "population <- rexp(100000, rate = 1)  # mean = 1, variance = 1\n",
    "\n",
    "# Function to generate sample means\n",
    "generate_sample_means <- function(sample_size, num_samples) {\n",
    "  replicate(num_samples, mean(sample(population, sample_size)))\n",
    "}"
   ]
  },
  {
   "cell_type": "code",
   "execution_count": 15,
   "id": "921ec75f",
   "metadata": {
    "vscode": {
     "languageId": "r"
    }
   },
   "outputs": [],
   "source": [
    "# Different sample sizes\n",
    "sample_sizes <- c(5, 30, 100)\n",
    "num_samples <- 5000\n",
    "\n",
    "# Generate and store sample means\n",
    "means_list <- lapply(sample_sizes, generate_sample_means, num_samples = num_samples)"
   ]
  },
  {
   "cell_type": "code",
   "execution_count": 16,
   "id": "e0aa239d",
   "metadata": {
    "vscode": {
     "languageId": "r"
    }
   },
   "outputs": [
    {
     "name": "stdout",
     "output_type": "stream",
     "text": [
      "Sample size: 5 \n",
      "   Min. 1st Qu.  Median    Mean 3rd Qu.    Max. \n",
      "0.09853 0.66447 0.92857 0.99225 1.24647 3.54704 \n",
      "\n",
      "Sample size: 30 \n",
      "   Min. 1st Qu.  Median    Mean 3rd Qu.    Max. \n",
      " 0.4449  0.8719  0.9876  1.0000  1.1200  1.7566 \n",
      "\n",
      "Sample size: 100 \n",
      "   Min. 1st Qu.  Median    Mean 3rd Qu.    Max. \n",
      " 0.6998  0.9293  0.9933  0.9977  1.0630  1.3881 \n",
      "\n"
     ]
    }
   ],
   "source": [
    "# Print summary stats\n",
    "for (i in seq_along(sample_sizes)) {\n",
    "  cat(\"Sample size:\", sample_sizes[i], \"\\n\")\n",
    "  print(summary(means_list[[i]]))\n",
    "  cat(\"\\n\")\n",
    "}"
   ]
  },
  {
   "cell_type": "code",
   "execution_count": 17,
   "id": "8063b55b",
   "metadata": {
    "vscode": {
     "languageId": "r"
    }
   },
   "outputs": [
    {
     "data": {
      "image/png": "[encoded data removed]",
      "text/plain": [
       "Plot with title \"n = 100\""
      ]
     },
     "metadata": {
      "image/png": {
       "height": 420,
       "width": 420
      }
     },
     "output_type": "display_data"
    }
   ],
   "source": [
    "# Plot histograms to see CLT in action\n",
    "par(bg = \"white\", col.axis = \"black\", col.lab = \"black\", col.main = \"black\", pch = 19,\n",
    "    mfrow = c(3,1), mar = c(4,4,3,1)) \n",
    "for (i in seq_along(sample_sizes)) {\n",
    "  hist(means_list[[i]], breaks = 30, probability = TRUE, col = \"skyblue\",\n",
    "       main = paste(\"n =\", sample_sizes[i]),\n",
    "       xlab = \"Sample Means\", border = \"white\",\n",
    "       cex.main = 1.5, cex.lab = 1.3, cex.axis = 1.1)\n",
    "  \n",
    "  # Overlay normal curve with same mean & sd\n",
    "  curve(dnorm(x, mean = mean(means_list[[i]]), sd = sd(means_list[[i]])),\n",
    "        col = \"red\", lwd = 2, add = TRUE)\n",
    "}"
   ]
  },
  {
   "cell_type": "markdown",
   "id": "b0107da0",
   "metadata": {},
   "source": [
    "# Interpretation\n",
    "\n",
    "- For **n = 5**, the sampling distribution is still skewed, reflecting the exponential population.\n",
    "- For **n = 30**, the shape is closer to normal.\n",
    "- For **n = 100**, the distribution of sample means is nearly perfectly normal.\n",
    "\n",
    "This illustrates the CLT: **As sample size increases, the distribution of the sample mean becomes approximately normal**, regardless of the original population distribution.\n",
    "\n",
    "---\n",
    "\n",
    "# Real-World Analogy\n",
    "\n",
    "Think of measuring the average height of students from different classes:\n",
    "- Small class (n = 5): Average height varies a lot, distribution is irregular.\n",
    "- Large class (n = 100): Averages cluster tightly around the true population mean and form a bell curve.\n"
   ]
  }
 ],
 "metadata": {
  "kernelspec": {
   "display_name": "R",
   "language": "R",
   "name": "ir"
  },
  "language_info": {
   "codemirror_mode": "r",
   "file_extension": ".r",
   "mimetype": "text/x-r-source",
   "name": "R",
   "pygments_lexer": "r",
   "version": "4.5.1"
  }
 },
 "nbformat": 4,
 "nbformat_minor": 5
}
