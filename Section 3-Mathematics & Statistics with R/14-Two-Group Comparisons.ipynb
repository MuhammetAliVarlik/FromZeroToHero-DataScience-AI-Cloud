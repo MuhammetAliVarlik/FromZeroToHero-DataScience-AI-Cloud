{
 "cells": [
  {
   "cell_type": "markdown",
   "id": "a8fa6399",
   "metadata": {},
   "source": [
    "# Two-Group Comparisons"
   ]
  },
  {
   "cell_type": "markdown",
   "id": "24339d57",
   "metadata": {},
   "source": [
    "When comparing **two groups**, we choose the statistical test based on:\n",
    "1. **Data type** – Continuous or categorical\n",
    "2. **Independence** – Independent or paired samples\n",
    "3. **Assumptions** – Normal distribution, equal variances\n",
    "\n",
    "---\n",
    "\n",
    "### **Parametric case (t-test)**\n",
    "\n",
    "#### **1. Independent samples t-test**\n",
    "If $X_1, X_2, \\dots, X_n \\sim N(\\mu_1, \\sigma^2)$ and \n",
    "$Y_1, Y_2, \\dots, Y_m \\sim N(\\mu_2, \\sigma^2)$,  \n",
    "the null hypothesis is:\n",
    "\n",
    "$$\n",
    "H_0 : \\mu_1 = \\mu_2\n",
    "$$\n",
    "\n",
    "The test statistic is:\n",
    "\n",
    "$$\n",
    "t = \\frac{\\bar{X} - \\bar{Y}}{s_p \\sqrt{\\frac{1}{n} + \\frac{1}{m}}}\n",
    "$$\n",
    "\n",
    "where the pooled standard deviation is:\n",
    "\n",
    "$$\n",
    "s_p = \\sqrt{\\frac{(n-1)s_X^2 + (m-1)s_Y^2}{n+m-2}}\n",
    "$$\n",
    "\n",
    "---\n",
    "\n",
    "#### **2. Paired t-test**\n",
    "If we have paired data $(X_i, Y_i)$,  \n",
    "we define differences $D_i = X_i - Y_i$.  \n",
    "Then:\n",
    "\n",
    "$$\n",
    "H_0 : \\mu_D = 0\n",
    "$$\n",
    "\n",
    "Test statistic:\n",
    "\n",
    "$$\n",
    "t = \\frac{\\bar{D}}{s_D / \\sqrt{n}}\n",
    "$$\n",
    "\n",
    "---\n",
    "\n",
    "### **Non-parametric case**\n",
    "\n",
    "- **Mann–Whitney U test**: Compares rank sums between two independent groups.  \n",
    "  The $U$ statistic is based on the sum of ranks $R_X$ for group X:\n",
    "\n",
    "$$\n",
    "U_X = n_X n_Y + \\frac{n_X(n_X + 1)}{2} - R_X\n",
    "$$\n",
    "\n",
    "- **Wilcoxon signed-rank test**: For paired data, ranks the absolute differences $|D_i|$ and sums positive/negative rank totals.\n",
    "\n",
    "---\n",
    "\n",
    "If data are categorical, alternative tests such as Chi-square or Fisher's exact test are used.\n"
   ]
  },
  {
   "cell_type": "markdown",
   "id": "9b0913b0",
   "metadata": {},
   "source": []
  },
  {
   "cell_type": "code",
   "execution_count": 5,
   "id": "0a14967c",
   "metadata": {
    "vscode": {
     "languageId": "r"
    }
   },
   "outputs": [
    {
     "data": {
      "text/plain": [
       "\n",
       "\tTwo Sample t-test\n",
       "\n",
       "data:  grp1 and grp2\n",
       "t = 1.0356, df = 22, p-value = 0.3117\n",
       "alternative hypothesis: true difference in means is not equal to 0\n",
       "95 percent confidence interval:\n",
       " -2.396201  7.175997\n",
       "sample estimates:\n",
       "mean of x mean of y \n",
       " 53.77687  51.38697 \n"
      ]
     },
     "metadata": {},
     "output_type": "display_data"
    }
   ],
   "source": [
    "# Independent samples t-test example\n",
    "\n",
    "set.seed(42)\n",
    "grp1 <- rnorm(12, mean = 50, sd = 5)\n",
    "grp2 <- rnorm(12, mean = 54, sd = 5)\n",
    "\n",
    "# Run t-test (equal variance assumed)\n",
    "t_result <- t.test(grp1, grp2, var.equal = TRUE)\n",
    "t_result\n"
   ]
  },
  {
   "cell_type": "code",
   "execution_count": 6,
   "id": "e3ab5fa0",
   "metadata": {
    "vscode": {
     "languageId": "r"
    }
   },
   "outputs": [
    {
     "data": {
      "text/plain": [
       "\n",
       "\tPaired t-test\n",
       "\n",
       "data:  before and after\n",
       "t = -4.5347, df = 7, p-value = 0.002685\n",
       "alternative hypothesis: true mean difference is not equal to 0\n",
       "95 percent confidence interval:\n",
       " -4.547741 -1.430402\n",
       "sample estimates:\n",
       "mean difference \n",
       "      -2.989072 \n"
      ]
     },
     "metadata": {},
     "output_type": "display_data"
    }
   ],
   "source": [
    "# Paired t-test example\n",
    "\n",
    "set.seed(101)\n",
    "before <- rnorm(8, mean = 70, sd = 4)\n",
    "after  <- before + rnorm(8, mean = 3, sd = 2)\n",
    "\n",
    "paired_res <- t.test(before, after, paired = TRUE)\n",
    "paired_res"
   ]
  },
  {
   "cell_type": "code",
   "execution_count": 7,
   "id": "d0582b2e",
   "metadata": {
    "vscode": {
     "languageId": "r"
    }
   },
   "outputs": [
    {
     "data": {
      "text/plain": [
       "\n",
       "\tWilcoxon rank sum exact test\n",
       "\n",
       "data:  non_norm1 and non_norm2\n",
       "W = 187, p-value = 0.001408\n",
       "alternative hypothesis: true location shift is not equal to 0\n"
      ]
     },
     "metadata": {},
     "output_type": "display_data"
    }
   ],
   "source": [
    "# Mann–Whitney U Test example (non-parametric)\n",
    "\n",
    "set.seed(202)\n",
    "non_norm1 <- rexp(15, rate = 0.2)\n",
    "non_norm2 <- rexp(15, rate = 0.25)\n",
    "\n",
    "mw_res <- wilcox.test(non_norm1, non_norm2)\n",
    "mw_res"
   ]
  },
  {
   "cell_type": "code",
   "execution_count": 8,
   "id": "733bf5bf",
   "metadata": {
    "vscode": {
     "languageId": "r"
    }
   },
   "outputs": [
    {
     "data": {
      "text/plain": [
       "\n",
       "\tWilcoxon signed rank exact test\n",
       "\n",
       "data:  sk_before and sk_after\n",
       "V = 0, p-value = 0.001953\n",
       "alternative hypothesis: true location shift is not equal to 0\n"
      ]
     },
     "metadata": {},
     "output_type": "display_data"
    }
   ],
   "source": [
    "# Wilcoxon signed-rank test example\n",
    "\n",
    "set.seed(303)\n",
    "sk_before <- rexp(10, rate = 0.3)\n",
    "sk_after  <- sk_before + rexp(10, rate = 0.4)\n",
    "\n",
    "wilcoxon_res <- wilcox.test(sk_before, sk_after, paired = TRUE)\n",
    "wilcoxon_res"
   ]
  },
  {
   "cell_type": "markdown",
   "id": "002fab63",
   "metadata": {},
   "source": [
    "# Real-World Analogy\n",
    "\n",
    "**Example:**  \n",
    "- Independent t-test: Compare average exam scores between **two different classes**.  \n",
    "- Paired t-test: Compare the **same students' scores before and after** a special training program.  \n",
    "- Mann–Whitney U: Compare two independent groups' **rank-based performance** when scores are skewed.  \n",
    "- Wilcoxon signed-rank: Compare before/after scores in the same group when distribution is not normal.\n"
   ]
  }
 ],
 "metadata": {
  "kernelspec": {
   "display_name": "R",
   "language": "R",
   "name": "ir"
  },
  "language_info": {
   "codemirror_mode": "r",
   "file_extension": ".r",
   "mimetype": "text/x-r-source",
   "name": "R",
   "pygments_lexer": "r",
   "version": "4.5.1"
  }
 },
 "nbformat": 4,
 "nbformat_minor": 5
}
