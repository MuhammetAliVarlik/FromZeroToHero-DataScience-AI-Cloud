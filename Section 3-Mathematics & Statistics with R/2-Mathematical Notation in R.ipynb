{
 "cells": [
  {
   "cell_type": "markdown",
   "id": "bddc094e",
   "metadata": {},
   "source": [
    "# Mathematical Notation in R"
   ]
  },
  {
   "cell_type": "markdown",
   "id": "2148e085",
   "metadata": {},
   "source": [
    "R can display mathematical notation in plots, labels, and text outputs using **expression syntax**.  \n",
    "This is useful when you want to add formulas, Greek letters, superscripts, subscripts, or other mathematical symbols in your visualizations.\n",
    "\n",
    "Key points:\n",
    "- `expression()` allows mathematical expressions in plots.\n",
    "- Common symbols:\n",
    "  - Greek letters: `alpha`, `beta`, `gamma`, etc.\n",
    "  - Superscript: `x^2`\n",
    "  - Subscript: `x[1]`\n",
    "  - Fractions: `frac(a, b)`\n",
    "- You can combine text and symbols with `paste()` inside `expression()`.\n"
   ]
  },
  {
   "cell_type": "code",
   "execution_count": 9,
   "id": "fe8c86e7",
   "metadata": {
    "vscode": {
     "languageId": "r"
    }
   },
   "outputs": [
    {
     "data": {
      "image/png": "[encoded data removed]",
      "text/plain": [
       "Plot with title \"\"Plot of\" ~ y == x^2\""
      ]
     },
     "metadata": {
      "image/png": {
       "height": 420,
       "width": 420
      }
     },
     "output_type": "display_data"
    }
   ],
   "source": [
    "# Example: Displaying mathematical notation in a plot\n",
    "\n",
    "# Sample data\n",
    "x_vals <- 1:5\n",
    "y_vals <- c(1, 4, 9, 16, 25)\n",
    "\n",
    "par(bg = \"white\", col.axis = \"black\", col.lab = \"black\", col.main = \"black\",pch=19)\n",
    "# Create a plot with a title and axis labels using mathematical notation\n",
    "plot(x_vals, y_vals, \n",
    "     main = expression(\"Plot of\" ~ y == x^2),  # y = x squared in title\n",
    "     xlab = expression(\"X values (x)\"),        # X-axis label\n",
    "     ylab = expression(y[1] + y[2]))           # Subscript notation for Y-axis\n"
   ]
  },
  {
   "cell_type": "markdown",
   "id": "cb080a55",
   "metadata": {},
   "source": [
    "# Real-World Analogy\n",
    "\n",
    "Imagine you're preparing a math report for a class:\n",
    "- You want to show that y = x² clearly in a plot title.\n",
    "- You also want to label axes with subscripts for clarity.\n",
    "\n",
    "Using `expression()` in R is like writing neatly on a blackboard: it shows formulas just like you would in a textbook.\n"
   ]
  }
 ],
 "metadata": {
  "kernelspec": {
   "display_name": "R",
   "language": "R",
   "name": "ir"
  },
  "language_info": {
   "codemirror_mode": "r",
   "file_extension": ".r",
   "mimetype": "text/x-r-source",
   "name": "R",
   "pygments_lexer": "r",
   "version": "4.5.1"
  }
 },
 "nbformat": 4,
 "nbformat_minor": 5
}
