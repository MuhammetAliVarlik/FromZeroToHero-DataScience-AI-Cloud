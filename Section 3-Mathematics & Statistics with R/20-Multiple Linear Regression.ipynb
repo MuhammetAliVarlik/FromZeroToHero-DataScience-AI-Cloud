{
 "cells": [
  {
   "cell_type": "markdown",
   "id": "f26c265e",
   "metadata": {},
   "source": [
    "# Multiple Linear Regression"
   ]
  },
  {
   "cell_type": "markdown",
   "id": "1e8013ea",
   "metadata": {},
   "source": [
    "## 📌 What is Multiple Linear Regression?\n",
    "\n",
    "Multiple Linear Regression models the relationship between a dependent variable $y$ and **two or more independent variables** ($x_1, x_2, \\dots, x_p$).\n",
    "\n",
    "- Equation:\n",
    "\n",
    "$$\n",
    "y_i = \\beta_0 + \\beta_1 x_{i1} + \\beta_2 x_{i2} + \\dots + \\beta_p x_{ip} + \\epsilon_i\n",
    "$$\n",
    "\n",
    "- $\\beta_0$ = intercept  \n",
    "- $\\beta_j$ = coefficient for predictor $x_j$  \n",
    "- $\\epsilon_i$ = error term  \n",
    "\n",
    "Purpose: estimate how **each predictor affects $y$** while controlling for the others.\n"
   ]
  },
  {
   "cell_type": "markdown",
   "id": "c58ebb06",
   "metadata": {},
   "source": [
    "## 📌 Matrix Formulation\n",
    "\n",
    "Multiple regression can be written compactly in **matrix notation**:\n",
    "\n",
    "$$\n",
    "\\mathbf{y} = \\mathbf{X} \\boldsymbol{\\beta} + \\boldsymbol{\\epsilon}\n",
    "$$\n",
    "\n",
    "Where:  \n",
    "- $\\mathbf{y}$ is an $n \\times 1$ vector of outcomes  \n",
    "- $\\mathbf{X}$ is an $n \\times (p+1)$ matrix of predictors (including a column of 1s for intercept)  \n",
    "- $\\boldsymbol{\\beta}$ is a $(p+1) \\times 1$ vector of coefficients  \n",
    "- $\\boldsymbol{\\epsilon}$ is an $n \\times 1$ vector of errors  \n",
    "\n",
    "**OLS solution**:\n",
    "\n",
    "$$\n",
    "\\hat{\\boldsymbol{\\beta}} = (\\mathbf{X}^T \\mathbf{X})^{-1} \\mathbf{X}^T \\mathbf{y}\n",
    "$$\n"
   ]
  },
  {
   "cell_type": "markdown",
   "id": "286a3bda",
   "metadata": {},
   "source": [
    "## 📌 Interpretation\n",
    "\n",
    "- $\\hat{\\beta}_j$ represents the expected change in $y$ **for a one-unit increase in $x_j$**, holding all other variables constant.  \n",
    "- Helps understand **individual predictor contributions**.  \n",
    "- Assumptions: linearity, independence, homoscedasticity, normality of residuals.\n"
   ]
  },
  {
   "cell_type": "code",
   "execution_count": 1,
   "id": "5d70ad70",
   "metadata": {
    "vscode": {
     "languageId": "r"
    }
   },
   "outputs": [
    {
     "data": {
      "text/plain": [
       "\n",
       "Call:\n",
       "lm(formula = Score ~ Study + Sleep, data = multi_data)\n",
       "\n",
       "Residuals:\n",
       "      1       2       3       4       5       6       7 \n",
       " 0.1786 -1.7857  1.2500 -0.7143  2.3214  0.3571 -1.6071 \n",
       "\n",
       "Coefficients: (1 not defined because of singularities)\n",
       "            Estimate Std. Error t value Pr(>|t|)    \n",
       "(Intercept)  42.8571     1.3832   30.98 6.57e-07 ***\n",
       "Study         3.4821     0.1546   22.52 3.21e-06 ***\n",
       "Sleep             NA         NA      NA       NA    \n",
       "---\n",
       "Signif. codes:  0 '***' 0.001 '**' 0.01 '*' 0.05 '.' 0.1 ' ' 1\n",
       "\n",
       "Residual standard error: 1.637 on 5 degrees of freedom\n",
       "Multiple R-squared:  0.9902,\tAdjusted R-squared:  0.9883 \n",
       "F-statistic:   507 on 1 and 5 DF,  p-value: 3.211e-06\n"
      ]
     },
     "metadata": {},
     "output_type": "display_data"
    },
    {
     "name": "stdout",
     "output_type": "stream",
     "text": [
      "[1] \"Predicted Scores:\"\n",
      "[1] 49.82143 56.78571 63.75000 70.71429 77.67857 84.64286 91.60714\n"
     ]
    }
   ],
   "source": [
    "# Example: Predict exam score using study hours and sleep hours\n",
    "study_hours <- c(2, 4, 6, 8, 10, 12, 14)\n",
    "sleep_hours <- c(6, 6.5, 7, 7.5, 8, 8.5, 9)\n",
    "exam_scores <- c(50, 55, 65, 70, 80, 85, 90)\n",
    "\n",
    "# Combine into data frame\n",
    "multi_data <- data.frame(Study = study_hours, Sleep = sleep_hours, Score = exam_scores)\n",
    "\n",
    "# Step 1: Fit multiple linear regression model\n",
    "multi_model <- lm(Score ~ Study + Sleep, data = multi_data)\n",
    "\n",
    "# Step 2: Print summary\n",
    "summary(multi_model)\n",
    "\n",
    "# Step 3: Predicted values\n",
    "multi_data$Predicted <- predict(multi_model)\n",
    "print(\"Predicted Scores:\")\n",
    "print(multi_data$Predicted)"
   ]
  },
  {
   "cell_type": "code",
   "execution_count": 6,
   "id": "e4418f7a",
   "metadata": {
    "vscode": {
     "languageId": "r"
    }
   },
   "outputs": [
    {
     "data": {
      "image/png": "[encoded data removed]",
      "text/plain": [
       "Plot with title \"Multiple Linear Regression: Study + Sleep vs Score\""
      ]
     },
     "metadata": {
      "image/png": {
       "height": 420,
       "width": 420
      }
     },
     "output_type": "display_data"
    },
    {
     "data": {
      "image/png": "[encoded data removed]",
      "text/plain": [
       "plot without title"
      ]
     },
     "metadata": {
      "image/png": {
       "height": 420,
       "width": 420
      }
     },
     "output_type": "display_data"
    }
   ],
   "source": [
    "# 3D Visualization using scatterplot3d\n",
    "if(!require(scatterplot3d)) install.packages(\"scatterplot3d\", dependencies = TRUE)\n",
    "library(scatterplot3d)\n",
    "\n",
    "par(bg = \"white\", col.axis = \"black\", col.lab = \"black\", col.main = \"black\", pch = 19)\n",
    "scatterplot3d(multi_data$Study, multi_data$Sleep, multi_data$Score,\n",
    "              pch = 19, color = \"blue\",\n",
    "              xlab = \"Study Hours\", ylab = \"Sleep Hours\", zlab = \"Exam Score\",\n",
    "              main = \"Multiple Linear Regression: Study + Sleep vs Score\")\n",
    "\n",
    "# Add regression plane\n",
    "fit <- lm(Score ~ Study + Sleep, data = multi_data)\n",
    "par(bg = \"white\", col.axis = \"black\", col.lab = \"black\", col.main = \"black\", pch = 19)\n",
    "scatterplot3d(multi_data$Study, multi_data$Sleep, multi_data$Score, pch=19, color=\"blue\", type=\"h\")\n",
    "# scatterplot3d does not natively add plane; we can plot predicted points instead"
   ]
  },
  {
   "cell_type": "markdown",
   "id": "7b431713",
   "metadata": {},
   "source": [
    "## 📌 Interpretation\n",
    "\n",
    "- Each coefficient shows **the effect of that variable on exam score** while keeping the other variable constant.  \n",
    "- For example:\n",
    "  - $\\hat{\\beta}_\\text{Study}$ → expected increase in score per extra study hour, holding sleep constant  \n",
    "  - $\\hat{\\beta}_\\text{Sleep}$ → expected increase in score per extra hour of sleep, holding study hours constant  \n",
    "- The predicted values show **model estimates for each observation**.\n"
   ]
  }
 ],
 "metadata": {
  "kernelspec": {
   "display_name": "R",
   "language": "R",
   "name": "ir"
  },
  "language_info": {
   "codemirror_mode": "r",
   "file_extension": ".r",
   "mimetype": "text/x-r-source",
   "name": "R",
   "pygments_lexer": "r",
   "version": "4.5.1"
  }
 },
 "nbformat": 4,
 "nbformat_minor": 5
}
